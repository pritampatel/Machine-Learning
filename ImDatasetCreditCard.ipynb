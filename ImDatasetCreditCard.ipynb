{
  "nbformat": 4,
  "nbformat_minor": 0,
  "metadata": {
    "colab": {
      "name": "ImDatasetCreditCard.ipynb",
      "provenance": [],
      "collapsed_sections": []
    },
    "kernelspec": {
      "name": "python3",
      "display_name": "Python 3"
    },
    "widgets": {
      "application/vnd.jupyter.widget-state+json": {
        "4ccb36af3d41429fa2604e95a6883eca": {
          "model_module": "@jupyter-widgets/controls",
          "model_name": "HBoxModel",
          "state": {
            "_view_name": "HBoxView",
            "_dom_classes": [],
            "_model_name": "HBoxModel",
            "_view_module": "@jupyter-widgets/controls",
            "_model_module_version": "1.5.0",
            "_view_count": null,
            "_view_module_version": "1.5.0",
            "box_style": "",
            "layout": "IPY_MODEL_defb66eec1af4ecca6d89e68925f3131",
            "_model_module": "@jupyter-widgets/controls",
            "children": [
              "IPY_MODEL_201a7feebc1b4a538c658289a950b0c4",
              "IPY_MODEL_25433cb7fa5049f494c443cca8ee2e75"
            ]
          }
        },
        "defb66eec1af4ecca6d89e68925f3131": {
          "model_module": "@jupyter-widgets/base",
          "model_name": "LayoutModel",
          "state": {
            "_view_name": "LayoutView",
            "grid_template_rows": null,
            "right": null,
            "justify_content": null,
            "_view_module": "@jupyter-widgets/base",
            "overflow": null,
            "_model_module_version": "1.2.0",
            "_view_count": null,
            "flex_flow": null,
            "width": null,
            "min_width": null,
            "border": null,
            "align_items": null,
            "bottom": null,
            "_model_module": "@jupyter-widgets/base",
            "top": null,
            "grid_column": null,
            "overflow_y": null,
            "overflow_x": null,
            "grid_auto_flow": null,
            "grid_area": null,
            "grid_template_columns": null,
            "flex": null,
            "_model_name": "LayoutModel",
            "justify_items": null,
            "grid_row": null,
            "max_height": null,
            "align_content": null,
            "visibility": null,
            "align_self": null,
            "height": null,
            "min_height": null,
            "padding": null,
            "grid_auto_rows": null,
            "grid_gap": null,
            "max_width": null,
            "order": null,
            "_view_module_version": "1.2.0",
            "grid_template_areas": null,
            "object_position": null,
            "object_fit": null,
            "grid_auto_columns": null,
            "margin": null,
            "display": null,
            "left": null
          }
        },
        "201a7feebc1b4a538c658289a950b0c4": {
          "model_module": "@jupyter-widgets/controls",
          "model_name": "FloatProgressModel",
          "state": {
            "_view_name": "ProgressView",
            "style": "IPY_MODEL_3745b59658e74d59a3e482447672a876",
            "_dom_classes": [],
            "description": "Downloading: 100%",
            "_model_name": "FloatProgressModel",
            "bar_style": "success",
            "max": 1388,
            "_view_module": "@jupyter-widgets/controls",
            "_model_module_version": "1.5.0",
            "value": 1388,
            "_view_count": null,
            "_view_module_version": "1.5.0",
            "orientation": "horizontal",
            "min": 0,
            "description_tooltip": null,
            "_model_module": "@jupyter-widgets/controls",
            "layout": "IPY_MODEL_df2fd02d865c495ead8bad4398b54990"
          }
        },
        "25433cb7fa5049f494c443cca8ee2e75": {
          "model_module": "@jupyter-widgets/controls",
          "model_name": "HTMLModel",
          "state": {
            "_view_name": "HTMLView",
            "style": "IPY_MODEL_92a4678b7dd44cd1a609ec15fd242691",
            "_dom_classes": [],
            "description": "",
            "_model_name": "HTMLModel",
            "placeholder": "​",
            "_view_module": "@jupyter-widgets/controls",
            "_model_module_version": "1.5.0",
            "value": " 1.39k/1.39k [00:00&lt;00:00, 27.4kB/s]",
            "_view_count": null,
            "_view_module_version": "1.5.0",
            "description_tooltip": null,
            "_model_module": "@jupyter-widgets/controls",
            "layout": "IPY_MODEL_6ddd4dff4e8b4ce6876da17dea0ba855"
          }
        },
        "3745b59658e74d59a3e482447672a876": {
          "model_module": "@jupyter-widgets/controls",
          "model_name": "ProgressStyleModel",
          "state": {
            "_view_name": "StyleView",
            "_model_name": "ProgressStyleModel",
            "description_width": "initial",
            "_view_module": "@jupyter-widgets/base",
            "_model_module_version": "1.5.0",
            "_view_count": null,
            "_view_module_version": "1.2.0",
            "bar_color": null,
            "_model_module": "@jupyter-widgets/controls"
          }
        },
        "df2fd02d865c495ead8bad4398b54990": {
          "model_module": "@jupyter-widgets/base",
          "model_name": "LayoutModel",
          "state": {
            "_view_name": "LayoutView",
            "grid_template_rows": null,
            "right": null,
            "justify_content": null,
            "_view_module": "@jupyter-widgets/base",
            "overflow": null,
            "_model_module_version": "1.2.0",
            "_view_count": null,
            "flex_flow": null,
            "width": null,
            "min_width": null,
            "border": null,
            "align_items": null,
            "bottom": null,
            "_model_module": "@jupyter-widgets/base",
            "top": null,
            "grid_column": null,
            "overflow_y": null,
            "overflow_x": null,
            "grid_auto_flow": null,
            "grid_area": null,
            "grid_template_columns": null,
            "flex": null,
            "_model_name": "LayoutModel",
            "justify_items": null,
            "grid_row": null,
            "max_height": null,
            "align_content": null,
            "visibility": null,
            "align_self": null,
            "height": null,
            "min_height": null,
            "padding": null,
            "grid_auto_rows": null,
            "grid_gap": null,
            "max_width": null,
            "order": null,
            "_view_module_version": "1.2.0",
            "grid_template_areas": null,
            "object_position": null,
            "object_fit": null,
            "grid_auto_columns": null,
            "margin": null,
            "display": null,
            "left": null
          }
        },
        "92a4678b7dd44cd1a609ec15fd242691": {
          "model_module": "@jupyter-widgets/controls",
          "model_name": "DescriptionStyleModel",
          "state": {
            "_view_name": "StyleView",
            "_model_name": "DescriptionStyleModel",
            "description_width": "",
            "_view_module": "@jupyter-widgets/base",
            "_model_module_version": "1.5.0",
            "_view_count": null,
            "_view_module_version": "1.2.0",
            "_model_module": "@jupyter-widgets/controls"
          }
        },
        "6ddd4dff4e8b4ce6876da17dea0ba855": {
          "model_module": "@jupyter-widgets/base",
          "model_name": "LayoutModel",
          "state": {
            "_view_name": "LayoutView",
            "grid_template_rows": null,
            "right": null,
            "justify_content": null,
            "_view_module": "@jupyter-widgets/base",
            "overflow": null,
            "_model_module_version": "1.2.0",
            "_view_count": null,
            "flex_flow": null,
            "width": null,
            "min_width": null,
            "border": null,
            "align_items": null,
            "bottom": null,
            "_model_module": "@jupyter-widgets/base",
            "top": null,
            "grid_column": null,
            "overflow_y": null,
            "overflow_x": null,
            "grid_auto_flow": null,
            "grid_area": null,
            "grid_template_columns": null,
            "flex": null,
            "_model_name": "LayoutModel",
            "justify_items": null,
            "grid_row": null,
            "max_height": null,
            "align_content": null,
            "visibility": null,
            "align_self": null,
            "height": null,
            "min_height": null,
            "padding": null,
            "grid_auto_rows": null,
            "grid_gap": null,
            "max_width": null,
            "order": null,
            "_view_module_version": "1.2.0",
            "grid_template_areas": null,
            "object_position": null,
            "object_fit": null,
            "grid_auto_columns": null,
            "margin": null,
            "display": null,
            "left": null
          }
        },
        "6cb05c8f342b4e35b5ab7972a803fcaf": {
          "model_module": "@jupyter-widgets/controls",
          "model_name": "HBoxModel",
          "state": {
            "_view_name": "HBoxView",
            "_dom_classes": [],
            "_model_name": "HBoxModel",
            "_view_module": "@jupyter-widgets/controls",
            "_model_module_version": "1.5.0",
            "_view_count": null,
            "_view_module_version": "1.5.0",
            "box_style": "",
            "layout": "IPY_MODEL_a099c2e367a94a3fb81d817c96640bef",
            "_model_module": "@jupyter-widgets/controls",
            "children": [
              "IPY_MODEL_9c4fcc09266543cdb78097dab4d3031d",
              "IPY_MODEL_36769b8f595f418ba5813a4750ac8136"
            ]
          }
        },
        "a099c2e367a94a3fb81d817c96640bef": {
          "model_module": "@jupyter-widgets/base",
          "model_name": "LayoutModel",
          "state": {
            "_view_name": "LayoutView",
            "grid_template_rows": null,
            "right": null,
            "justify_content": null,
            "_view_module": "@jupyter-widgets/base",
            "overflow": null,
            "_model_module_version": "1.2.0",
            "_view_count": null,
            "flex_flow": null,
            "width": null,
            "min_width": null,
            "border": null,
            "align_items": null,
            "bottom": null,
            "_model_module": "@jupyter-widgets/base",
            "top": null,
            "grid_column": null,
            "overflow_y": null,
            "overflow_x": null,
            "grid_auto_flow": null,
            "grid_area": null,
            "grid_template_columns": null,
            "flex": null,
            "_model_name": "LayoutModel",
            "justify_items": null,
            "grid_row": null,
            "max_height": null,
            "align_content": null,
            "visibility": null,
            "align_self": null,
            "height": null,
            "min_height": null,
            "padding": null,
            "grid_auto_rows": null,
            "grid_gap": null,
            "max_width": null,
            "order": null,
            "_view_module_version": "1.2.0",
            "grid_template_areas": null,
            "object_position": null,
            "object_fit": null,
            "grid_auto_columns": null,
            "margin": null,
            "display": null,
            "left": null
          }
        },
        "9c4fcc09266543cdb78097dab4d3031d": {
          "model_module": "@jupyter-widgets/controls",
          "model_name": "FloatProgressModel",
          "state": {
            "_view_name": "ProgressView",
            "style": "IPY_MODEL_e6e0ba8624da402aac04127194bd4bdc",
            "_dom_classes": [],
            "description": "Downloading: 100%",
            "_model_name": "FloatProgressModel",
            "bar_style": "success",
            "max": 2444714899,
            "_view_module": "@jupyter-widgets/controls",
            "_model_module_version": "1.5.0",
            "value": 2444714899,
            "_view_count": null,
            "_view_module_version": "1.5.0",
            "orientation": "horizontal",
            "min": 0,
            "description_tooltip": null,
            "_model_module": "@jupyter-widgets/controls",
            "layout": "IPY_MODEL_fc39a74047b543acb63ea749cd0c2ac1"
          }
        },
        "36769b8f595f418ba5813a4750ac8136": {
          "model_module": "@jupyter-widgets/controls",
          "model_name": "HTMLModel",
          "state": {
            "_view_name": "HTMLView",
            "style": "IPY_MODEL_a9480ff2c0d1443cad11edd5cbf5c3bc",
            "_dom_classes": [],
            "description": "",
            "_model_name": "HTMLModel",
            "placeholder": "​",
            "_view_module": "@jupyter-widgets/controls",
            "_model_module_version": "1.5.0",
            "value": " 2.44G/2.44G [00:43&lt;00:00, 56.4MB/s]",
            "_view_count": null,
            "_view_module_version": "1.5.0",
            "description_tooltip": null,
            "_model_module": "@jupyter-widgets/controls",
            "layout": "IPY_MODEL_dc7b472cef304834af9c653845ab861c"
          }
        },
        "e6e0ba8624da402aac04127194bd4bdc": {
          "model_module": "@jupyter-widgets/controls",
          "model_name": "ProgressStyleModel",
          "state": {
            "_view_name": "StyleView",
            "_model_name": "ProgressStyleModel",
            "description_width": "initial",
            "_view_module": "@jupyter-widgets/base",
            "_model_module_version": "1.5.0",
            "_view_count": null,
            "_view_module_version": "1.2.0",
            "bar_color": null,
            "_model_module": "@jupyter-widgets/controls"
          }
        },
        "fc39a74047b543acb63ea749cd0c2ac1": {
          "model_module": "@jupyter-widgets/base",
          "model_name": "LayoutModel",
          "state": {
            "_view_name": "LayoutView",
            "grid_template_rows": null,
            "right": null,
            "justify_content": null,
            "_view_module": "@jupyter-widgets/base",
            "overflow": null,
            "_model_module_version": "1.2.0",
            "_view_count": null,
            "flex_flow": null,
            "width": null,
            "min_width": null,
            "border": null,
            "align_items": null,
            "bottom": null,
            "_model_module": "@jupyter-widgets/base",
            "top": null,
            "grid_column": null,
            "overflow_y": null,
            "overflow_x": null,
            "grid_auto_flow": null,
            "grid_area": null,
            "grid_template_columns": null,
            "flex": null,
            "_model_name": "LayoutModel",
            "justify_items": null,
            "grid_row": null,
            "max_height": null,
            "align_content": null,
            "visibility": null,
            "align_self": null,
            "height": null,
            "min_height": null,
            "padding": null,
            "grid_auto_rows": null,
            "grid_gap": null,
            "max_width": null,
            "order": null,
            "_view_module_version": "1.2.0",
            "grid_template_areas": null,
            "object_position": null,
            "object_fit": null,
            "grid_auto_columns": null,
            "margin": null,
            "display": null,
            "left": null
          }
        },
        "a9480ff2c0d1443cad11edd5cbf5c3bc": {
          "model_module": "@jupyter-widgets/controls",
          "model_name": "DescriptionStyleModel",
          "state": {
            "_view_name": "StyleView",
            "_model_name": "DescriptionStyleModel",
            "description_width": "",
            "_view_module": "@jupyter-widgets/base",
            "_model_module_version": "1.5.0",
            "_view_count": null,
            "_view_module_version": "1.2.0",
            "_model_module": "@jupyter-widgets/controls"
          }
        },
        "dc7b472cef304834af9c653845ab861c": {
          "model_module": "@jupyter-widgets/base",
          "model_name": "LayoutModel",
          "state": {
            "_view_name": "LayoutView",
            "grid_template_rows": null,
            "right": null,
            "justify_content": null,
            "_view_module": "@jupyter-widgets/base",
            "overflow": null,
            "_model_module_version": "1.2.0",
            "_view_count": null,
            "flex_flow": null,
            "width": null,
            "min_width": null,
            "border": null,
            "align_items": null,
            "bottom": null,
            "_model_module": "@jupyter-widgets/base",
            "top": null,
            "grid_column": null,
            "overflow_y": null,
            "overflow_x": null,
            "grid_auto_flow": null,
            "grid_area": null,
            "grid_template_columns": null,
            "flex": null,
            "_model_name": "LayoutModel",
            "justify_items": null,
            "grid_row": null,
            "max_height": null,
            "align_content": null,
            "visibility": null,
            "align_self": null,
            "height": null,
            "min_height": null,
            "padding": null,
            "grid_auto_rows": null,
            "grid_gap": null,
            "max_width": null,
            "order": null,
            "_view_module_version": "1.2.0",
            "grid_template_areas": null,
            "object_position": null,
            "object_fit": null,
            "grid_auto_columns": null,
            "margin": null,
            "display": null,
            "left": null
          }
        },
        "039e6204c3e5447aaec4c408b10860a3": {
          "model_module": "@jupyter-widgets/controls",
          "model_name": "HBoxModel",
          "state": {
            "_view_name": "HBoxView",
            "_dom_classes": [],
            "_model_name": "HBoxModel",
            "_view_module": "@jupyter-widgets/controls",
            "_model_module_version": "1.5.0",
            "_view_count": null,
            "_view_module_version": "1.5.0",
            "box_style": "",
            "layout": "IPY_MODEL_1fd7cf0d64c74fd6b0601e8408b4d841",
            "_model_module": "@jupyter-widgets/controls",
            "children": [
              "IPY_MODEL_41c45f63de37432782e30f1a598d98bc",
              "IPY_MODEL_e9b1b1f549384a378549c3790c995320"
            ]
          }
        },
        "1fd7cf0d64c74fd6b0601e8408b4d841": {
          "model_module": "@jupyter-widgets/base",
          "model_name": "LayoutModel",
          "state": {
            "_view_name": "LayoutView",
            "grid_template_rows": null,
            "right": null,
            "justify_content": null,
            "_view_module": "@jupyter-widgets/base",
            "overflow": null,
            "_model_module_version": "1.2.0",
            "_view_count": null,
            "flex_flow": null,
            "width": null,
            "min_width": null,
            "border": null,
            "align_items": null,
            "bottom": null,
            "_model_module": "@jupyter-widgets/base",
            "top": null,
            "grid_column": null,
            "overflow_y": null,
            "overflow_x": null,
            "grid_auto_flow": null,
            "grid_area": null,
            "grid_template_columns": null,
            "flex": null,
            "_model_name": "LayoutModel",
            "justify_items": null,
            "grid_row": null,
            "max_height": null,
            "align_content": null,
            "visibility": null,
            "align_self": null,
            "height": null,
            "min_height": null,
            "padding": null,
            "grid_auto_rows": null,
            "grid_gap": null,
            "max_width": null,
            "order": null,
            "_view_module_version": "1.2.0",
            "grid_template_areas": null,
            "object_position": null,
            "object_fit": null,
            "grid_auto_columns": null,
            "margin": null,
            "display": null,
            "left": null
          }
        },
        "41c45f63de37432782e30f1a598d98bc": {
          "model_module": "@jupyter-widgets/controls",
          "model_name": "FloatProgressModel",
          "state": {
            "_view_name": "ProgressView",
            "style": "IPY_MODEL_ba3f8987d70d47b68ee995ef6e847776",
            "_dom_classes": [],
            "description": "Downloading: 100%",
            "_model_name": "FloatProgressModel",
            "bar_style": "success",
            "max": 5069051,
            "_view_module": "@jupyter-widgets/controls",
            "_model_module_version": "1.5.0",
            "value": 5069051,
            "_view_count": null,
            "_view_module_version": "1.5.0",
            "orientation": "horizontal",
            "min": 0,
            "description_tooltip": null,
            "_model_module": "@jupyter-widgets/controls",
            "layout": "IPY_MODEL_68c9658da69a46ca8e676dfac4cd2ed5"
          }
        },
        "e9b1b1f549384a378549c3790c995320": {
          "model_module": "@jupyter-widgets/controls",
          "model_name": "HTMLModel",
          "state": {
            "_view_name": "HTMLView",
            "style": "IPY_MODEL_bb59a95f9bbc4a7e8a491004274c5752",
            "_dom_classes": [],
            "description": "",
            "_model_name": "HTMLModel",
            "placeholder": "​",
            "_view_module": "@jupyter-widgets/controls",
            "_model_module_version": "1.5.0",
            "value": " 5.07M/5.07M [00:03&lt;00:00, 1.69MB/s]",
            "_view_count": null,
            "_view_module_version": "1.5.0",
            "description_tooltip": null,
            "_model_module": "@jupyter-widgets/controls",
            "layout": "IPY_MODEL_92d1de6b54504bdb8c46a2aab742d84f"
          }
        },
        "ba3f8987d70d47b68ee995ef6e847776": {
          "model_module": "@jupyter-widgets/controls",
          "model_name": "ProgressStyleModel",
          "state": {
            "_view_name": "StyleView",
            "_model_name": "ProgressStyleModel",
            "description_width": "initial",
            "_view_module": "@jupyter-widgets/base",
            "_model_module_version": "1.5.0",
            "_view_count": null,
            "_view_module_version": "1.2.0",
            "bar_color": null,
            "_model_module": "@jupyter-widgets/controls"
          }
        },
        "68c9658da69a46ca8e676dfac4cd2ed5": {
          "model_module": "@jupyter-widgets/base",
          "model_name": "LayoutModel",
          "state": {
            "_view_name": "LayoutView",
            "grid_template_rows": null,
            "right": null,
            "justify_content": null,
            "_view_module": "@jupyter-widgets/base",
            "overflow": null,
            "_model_module_version": "1.2.0",
            "_view_count": null,
            "flex_flow": null,
            "width": null,
            "min_width": null,
            "border": null,
            "align_items": null,
            "bottom": null,
            "_model_module": "@jupyter-widgets/base",
            "top": null,
            "grid_column": null,
            "overflow_y": null,
            "overflow_x": null,
            "grid_auto_flow": null,
            "grid_area": null,
            "grid_template_columns": null,
            "flex": null,
            "_model_name": "LayoutModel",
            "justify_items": null,
            "grid_row": null,
            "max_height": null,
            "align_content": null,
            "visibility": null,
            "align_self": null,
            "height": null,
            "min_height": null,
            "padding": null,
            "grid_auto_rows": null,
            "grid_gap": null,
            "max_width": null,
            "order": null,
            "_view_module_version": "1.2.0",
            "grid_template_areas": null,
            "object_position": null,
            "object_fit": null,
            "grid_auto_columns": null,
            "margin": null,
            "display": null,
            "left": null
          }
        },
        "bb59a95f9bbc4a7e8a491004274c5752": {
          "model_module": "@jupyter-widgets/controls",
          "model_name": "DescriptionStyleModel",
          "state": {
            "_view_name": "StyleView",
            "_model_name": "DescriptionStyleModel",
            "description_width": "",
            "_view_module": "@jupyter-widgets/base",
            "_model_module_version": "1.5.0",
            "_view_count": null,
            "_view_module_version": "1.2.0",
            "_model_module": "@jupyter-widgets/controls"
          }
        },
        "92d1de6b54504bdb8c46a2aab742d84f": {
          "model_module": "@jupyter-widgets/base",
          "model_name": "LayoutModel",
          "state": {
            "_view_name": "LayoutView",
            "grid_template_rows": null,
            "right": null,
            "justify_content": null,
            "_view_module": "@jupyter-widgets/base",
            "overflow": null,
            "_model_module_version": "1.2.0",
            "_view_count": null,
            "flex_flow": null,
            "width": null,
            "min_width": null,
            "border": null,
            "align_items": null,
            "bottom": null,
            "_model_module": "@jupyter-widgets/base",
            "top": null,
            "grid_column": null,
            "overflow_y": null,
            "overflow_x": null,
            "grid_auto_flow": null,
            "grid_area": null,
            "grid_template_columns": null,
            "flex": null,
            "_model_name": "LayoutModel",
            "justify_items": null,
            "grid_row": null,
            "max_height": null,
            "align_content": null,
            "visibility": null,
            "align_self": null,
            "height": null,
            "min_height": null,
            "padding": null,
            "grid_auto_rows": null,
            "grid_gap": null,
            "max_width": null,
            "order": null,
            "_view_module_version": "1.2.0",
            "grid_template_areas": null,
            "object_position": null,
            "object_fit": null,
            "grid_auto_columns": null,
            "margin": null,
            "display": null,
            "left": null
          }
        },
        "628102de8307465ea2ad39e509fac110": {
          "model_module": "@jupyter-widgets/controls",
          "model_name": "HBoxModel",
          "state": {
            "_view_name": "HBoxView",
            "_dom_classes": [],
            "_model_name": "HBoxModel",
            "_view_module": "@jupyter-widgets/controls",
            "_model_module_version": "1.5.0",
            "_view_count": null,
            "_view_module_version": "1.5.0",
            "box_style": "",
            "layout": "IPY_MODEL_2894d73db5d84fa1a46d9d55ce3ed57b",
            "_model_module": "@jupyter-widgets/controls",
            "children": [
              "IPY_MODEL_f491be9b5b354eb4bd4fe223fac9e98e",
              "IPY_MODEL_8d58423af9df4705805dcf4620d38b0c"
            ]
          }
        },
        "2894d73db5d84fa1a46d9d55ce3ed57b": {
          "model_module": "@jupyter-widgets/base",
          "model_name": "LayoutModel",
          "state": {
            "_view_name": "LayoutView",
            "grid_template_rows": null,
            "right": null,
            "justify_content": null,
            "_view_module": "@jupyter-widgets/base",
            "overflow": null,
            "_model_module_version": "1.2.0",
            "_view_count": null,
            "flex_flow": null,
            "width": null,
            "min_width": null,
            "border": null,
            "align_items": null,
            "bottom": null,
            "_model_module": "@jupyter-widgets/base",
            "top": null,
            "grid_column": null,
            "overflow_y": null,
            "overflow_x": null,
            "grid_auto_flow": null,
            "grid_area": null,
            "grid_template_columns": null,
            "flex": null,
            "_model_name": "LayoutModel",
            "justify_items": null,
            "grid_row": null,
            "max_height": null,
            "align_content": null,
            "visibility": null,
            "align_self": null,
            "height": null,
            "min_height": null,
            "padding": null,
            "grid_auto_rows": null,
            "grid_gap": null,
            "max_width": null,
            "order": null,
            "_view_module_version": "1.2.0",
            "grid_template_areas": null,
            "object_position": null,
            "object_fit": null,
            "grid_auto_columns": null,
            "margin": null,
            "display": null,
            "left": null
          }
        },
        "f491be9b5b354eb4bd4fe223fac9e98e": {
          "model_module": "@jupyter-widgets/controls",
          "model_name": "FloatProgressModel",
          "state": {
            "_view_name": "ProgressView",
            "style": "IPY_MODEL_1fc0097d380341be82fa4bdc26e7aefd",
            "_dom_classes": [],
            "description": "Downloading: 100%",
            "_model_name": "FloatProgressModel",
            "bar_style": "success",
            "max": 649,
            "_view_module": "@jupyter-widgets/controls",
            "_model_module_version": "1.5.0",
            "value": 649,
            "_view_count": null,
            "_view_module_version": "1.5.0",
            "orientation": "horizontal",
            "min": 0,
            "description_tooltip": null,
            "_model_module": "@jupyter-widgets/controls",
            "layout": "IPY_MODEL_3a0d4efc507d41d0bae44a69940bc9e2"
          }
        },
        "8d58423af9df4705805dcf4620d38b0c": {
          "model_module": "@jupyter-widgets/controls",
          "model_name": "HTMLModel",
          "state": {
            "_view_name": "HTMLView",
            "style": "IPY_MODEL_3d5d64e8e3f24441a4454cccbdd68098",
            "_dom_classes": [],
            "description": "",
            "_model_name": "HTMLModel",
            "placeholder": "​",
            "_view_module": "@jupyter-widgets/controls",
            "_model_module_version": "1.5.0",
            "value": " 649/649 [00:01&lt;00:00, 379B/s]",
            "_view_count": null,
            "_view_module_version": "1.5.0",
            "description_tooltip": null,
            "_model_module": "@jupyter-widgets/controls",
            "layout": "IPY_MODEL_a815740767c24f2697e789482a85a8d8"
          }
        },
        "1fc0097d380341be82fa4bdc26e7aefd": {
          "model_module": "@jupyter-widgets/controls",
          "model_name": "ProgressStyleModel",
          "state": {
            "_view_name": "StyleView",
            "_model_name": "ProgressStyleModel",
            "description_width": "initial",
            "_view_module": "@jupyter-widgets/base",
            "_model_module_version": "1.5.0",
            "_view_count": null,
            "_view_module_version": "1.2.0",
            "bar_color": null,
            "_model_module": "@jupyter-widgets/controls"
          }
        },
        "3a0d4efc507d41d0bae44a69940bc9e2": {
          "model_module": "@jupyter-widgets/base",
          "model_name": "LayoutModel",
          "state": {
            "_view_name": "LayoutView",
            "grid_template_rows": null,
            "right": null,
            "justify_content": null,
            "_view_module": "@jupyter-widgets/base",
            "overflow": null,
            "_model_module_version": "1.2.0",
            "_view_count": null,
            "flex_flow": null,
            "width": null,
            "min_width": null,
            "border": null,
            "align_items": null,
            "bottom": null,
            "_model_module": "@jupyter-widgets/base",
            "top": null,
            "grid_column": null,
            "overflow_y": null,
            "overflow_x": null,
            "grid_auto_flow": null,
            "grid_area": null,
            "grid_template_columns": null,
            "flex": null,
            "_model_name": "LayoutModel",
            "justify_items": null,
            "grid_row": null,
            "max_height": null,
            "align_content": null,
            "visibility": null,
            "align_self": null,
            "height": null,
            "min_height": null,
            "padding": null,
            "grid_auto_rows": null,
            "grid_gap": null,
            "max_width": null,
            "order": null,
            "_view_module_version": "1.2.0",
            "grid_template_areas": null,
            "object_position": null,
            "object_fit": null,
            "grid_auto_columns": null,
            "margin": null,
            "display": null,
            "left": null
          }
        },
        "3d5d64e8e3f24441a4454cccbdd68098": {
          "model_module": "@jupyter-widgets/controls",
          "model_name": "DescriptionStyleModel",
          "state": {
            "_view_name": "StyleView",
            "_model_name": "DescriptionStyleModel",
            "description_width": "",
            "_view_module": "@jupyter-widgets/base",
            "_model_module_version": "1.5.0",
            "_view_count": null,
            "_view_module_version": "1.2.0",
            "_model_module": "@jupyter-widgets/controls"
          }
        },
        "a815740767c24f2697e789482a85a8d8": {
          "model_module": "@jupyter-widgets/base",
          "model_name": "LayoutModel",
          "state": {
            "_view_name": "LayoutView",
            "grid_template_rows": null,
            "right": null,
            "justify_content": null,
            "_view_module": "@jupyter-widgets/base",
            "overflow": null,
            "_model_module_version": "1.2.0",
            "_view_count": null,
            "flex_flow": null,
            "width": null,
            "min_width": null,
            "border": null,
            "align_items": null,
            "bottom": null,
            "_model_module": "@jupyter-widgets/base",
            "top": null,
            "grid_column": null,
            "overflow_y": null,
            "overflow_x": null,
            "grid_auto_flow": null,
            "grid_area": null,
            "grid_template_columns": null,
            "flex": null,
            "_model_name": "LayoutModel",
            "justify_items": null,
            "grid_row": null,
            "max_height": null,
            "align_content": null,
            "visibility": null,
            "align_self": null,
            "height": null,
            "min_height": null,
            "padding": null,
            "grid_auto_rows": null,
            "grid_gap": null,
            "max_width": null,
            "order": null,
            "_view_module_version": "1.2.0",
            "grid_template_areas": null,
            "object_position": null,
            "object_fit": null,
            "grid_auto_columns": null,
            "margin": null,
            "display": null,
            "left": null
          }
        },
        "9ba217fba66d473d840c761e94f81c71": {
          "model_module": "@jupyter-widgets/controls",
          "model_name": "HBoxModel",
          "state": {
            "_view_name": "HBoxView",
            "_dom_classes": [],
            "_model_name": "HBoxModel",
            "_view_module": "@jupyter-widgets/controls",
            "_model_module_version": "1.5.0",
            "_view_count": null,
            "_view_module_version": "1.5.0",
            "box_style": "",
            "layout": "IPY_MODEL_b5ee2234e5b34ca1a39743c7edcc2163",
            "_model_module": "@jupyter-widgets/controls",
            "children": [
              "IPY_MODEL_dc5b24b950d74997b34ec28395ced713",
              "IPY_MODEL_b2d0276f0ae54b65ab19d78b311d3de8"
            ]
          }
        },
        "b5ee2234e5b34ca1a39743c7edcc2163": {
          "model_module": "@jupyter-widgets/base",
          "model_name": "LayoutModel",
          "state": {
            "_view_name": "LayoutView",
            "grid_template_rows": null,
            "right": null,
            "justify_content": null,
            "_view_module": "@jupyter-widgets/base",
            "overflow": null,
            "_model_module_version": "1.2.0",
            "_view_count": null,
            "flex_flow": null,
            "width": null,
            "min_width": null,
            "border": null,
            "align_items": null,
            "bottom": null,
            "_model_module": "@jupyter-widgets/base",
            "top": null,
            "grid_column": null,
            "overflow_y": null,
            "overflow_x": null,
            "grid_auto_flow": null,
            "grid_area": null,
            "grid_template_columns": null,
            "flex": null,
            "_model_name": "LayoutModel",
            "justify_items": null,
            "grid_row": null,
            "max_height": null,
            "align_content": null,
            "visibility": null,
            "align_self": null,
            "height": null,
            "min_height": null,
            "padding": null,
            "grid_auto_rows": null,
            "grid_gap": null,
            "max_width": null,
            "order": null,
            "_view_module_version": "1.2.0",
            "grid_template_areas": null,
            "object_position": null,
            "object_fit": null,
            "grid_auto_columns": null,
            "margin": null,
            "display": null,
            "left": null
          }
        },
        "dc5b24b950d74997b34ec28395ced713": {
          "model_module": "@jupyter-widgets/controls",
          "model_name": "FloatProgressModel",
          "state": {
            "_view_name": "ProgressView",
            "style": "IPY_MODEL_8d46d01988594f9ead23f2fd358987fe",
            "_dom_classes": [],
            "description": "Downloading: 100%",
            "_model_name": "FloatProgressModel",
            "bar_style": "success",
            "max": 529,
            "_view_module": "@jupyter-widgets/controls",
            "_model_module_version": "1.5.0",
            "value": 529,
            "_view_count": null,
            "_view_module_version": "1.5.0",
            "orientation": "horizontal",
            "min": 0,
            "description_tooltip": null,
            "_model_module": "@jupyter-widgets/controls",
            "layout": "IPY_MODEL_943c1f27d2604f2ab111913c13bffb20"
          }
        },
        "b2d0276f0ae54b65ab19d78b311d3de8": {
          "model_module": "@jupyter-widgets/controls",
          "model_name": "HTMLModel",
          "state": {
            "_view_name": "HTMLView",
            "style": "IPY_MODEL_8716e8e00dbc428282a5f21735025d24",
            "_dom_classes": [],
            "description": "",
            "_model_name": "HTMLModel",
            "placeholder": "​",
            "_view_module": "@jupyter-widgets/controls",
            "_model_module_version": "1.5.0",
            "value": " 529/529 [00:01&lt;00:00, 437B/s]",
            "_view_count": null,
            "_view_module_version": "1.5.0",
            "description_tooltip": null,
            "_model_module": "@jupyter-widgets/controls",
            "layout": "IPY_MODEL_3868a35fcacc4959b6e35895ef8a3d56"
          }
        },
        "8d46d01988594f9ead23f2fd358987fe": {
          "model_module": "@jupyter-widgets/controls",
          "model_name": "ProgressStyleModel",
          "state": {
            "_view_name": "StyleView",
            "_model_name": "ProgressStyleModel",
            "description_width": "initial",
            "_view_module": "@jupyter-widgets/base",
            "_model_module_version": "1.5.0",
            "_view_count": null,
            "_view_module_version": "1.2.0",
            "bar_color": null,
            "_model_module": "@jupyter-widgets/controls"
          }
        },
        "943c1f27d2604f2ab111913c13bffb20": {
          "model_module": "@jupyter-widgets/base",
          "model_name": "LayoutModel",
          "state": {
            "_view_name": "LayoutView",
            "grid_template_rows": null,
            "right": null,
            "justify_content": null,
            "_view_module": "@jupyter-widgets/base",
            "overflow": null,
            "_model_module_version": "1.2.0",
            "_view_count": null,
            "flex_flow": null,
            "width": null,
            "min_width": null,
            "border": null,
            "align_items": null,
            "bottom": null,
            "_model_module": "@jupyter-widgets/base",
            "top": null,
            "grid_column": null,
            "overflow_y": null,
            "overflow_x": null,
            "grid_auto_flow": null,
            "grid_area": null,
            "grid_template_columns": null,
            "flex": null,
            "_model_name": "LayoutModel",
            "justify_items": null,
            "grid_row": null,
            "max_height": null,
            "align_content": null,
            "visibility": null,
            "align_self": null,
            "height": null,
            "min_height": null,
            "padding": null,
            "grid_auto_rows": null,
            "grid_gap": null,
            "max_width": null,
            "order": null,
            "_view_module_version": "1.2.0",
            "grid_template_areas": null,
            "object_position": null,
            "object_fit": null,
            "grid_auto_columns": null,
            "margin": null,
            "display": null,
            "left": null
          }
        },
        "8716e8e00dbc428282a5f21735025d24": {
          "model_module": "@jupyter-widgets/controls",
          "model_name": "DescriptionStyleModel",
          "state": {
            "_view_name": "StyleView",
            "_model_name": "DescriptionStyleModel",
            "description_width": "",
            "_view_module": "@jupyter-widgets/base",
            "_model_module_version": "1.5.0",
            "_view_count": null,
            "_view_module_version": "1.2.0",
            "_model_module": "@jupyter-widgets/controls"
          }
        },
        "3868a35fcacc4959b6e35895ef8a3d56": {
          "model_module": "@jupyter-widgets/base",
          "model_name": "LayoutModel",
          "state": {
            "_view_name": "LayoutView",
            "grid_template_rows": null,
            "right": null,
            "justify_content": null,
            "_view_module": "@jupyter-widgets/base",
            "overflow": null,
            "_model_module_version": "1.2.0",
            "_view_count": null,
            "flex_flow": null,
            "width": null,
            "min_width": null,
            "border": null,
            "align_items": null,
            "bottom": null,
            "_model_module": "@jupyter-widgets/base",
            "top": null,
            "grid_column": null,
            "overflow_y": null,
            "overflow_x": null,
            "grid_auto_flow": null,
            "grid_area": null,
            "grid_template_columns": null,
            "flex": null,
            "_model_name": "LayoutModel",
            "justify_items": null,
            "grid_row": null,
            "max_height": null,
            "align_content": null,
            "visibility": null,
            "align_self": null,
            "height": null,
            "min_height": null,
            "padding": null,
            "grid_auto_rows": null,
            "grid_gap": null,
            "max_width": null,
            "order": null,
            "_view_module_version": "1.2.0",
            "grid_template_areas": null,
            "object_position": null,
            "object_fit": null,
            "grid_auto_columns": null,
            "margin": null,
            "display": null,
            "left": null
          }
        }
      }
    }
  },
  "cells": [
    {
      "cell_type": "code",
      "metadata": {
        "colab": {
          "base_uri": "https://localhost:8080/"
        },
        "id": "jJlpo8JxY-Vq",
        "outputId": "f1f8e1ad-edcd-4a8f-da5a-bfe734271df1"
      },
      "source": [
        "!pip install kaggle "
      ],
      "execution_count": null,
      "outputs": [
        {
          "output_type": "stream",
          "text": [
            "Requirement already satisfied: kaggle in /usr/local/lib/python3.7/dist-packages (1.5.10)\n",
            "Requirement already satisfied: tqdm in /usr/local/lib/python3.7/dist-packages (from kaggle) (4.41.1)\n",
            "Requirement already satisfied: six>=1.10 in /usr/local/lib/python3.7/dist-packages (from kaggle) (1.15.0)\n",
            "Requirement already satisfied: requests in /usr/local/lib/python3.7/dist-packages (from kaggle) (2.23.0)\n",
            "Requirement already satisfied: urllib3 in /usr/local/lib/python3.7/dist-packages (from kaggle) (1.24.3)\n",
            "Requirement already satisfied: python-dateutil in /usr/local/lib/python3.7/dist-packages (from kaggle) (2.8.1)\n",
            "Requirement already satisfied: certifi in /usr/local/lib/python3.7/dist-packages (from kaggle) (2020.12.5)\n",
            "Requirement already satisfied: python-slugify in /usr/local/lib/python3.7/dist-packages (from kaggle) (4.0.1)\n",
            "Requirement already satisfied: chardet<4,>=3.0.2 in /usr/local/lib/python3.7/dist-packages (from requests->kaggle) (3.0.4)\n",
            "Requirement already satisfied: idna<3,>=2.5 in /usr/local/lib/python3.7/dist-packages (from requests->kaggle) (2.10)\n",
            "Requirement already satisfied: text-unidecode>=1.3 in /usr/local/lib/python3.7/dist-packages (from python-slugify->kaggle) (1.3)\n"
          ],
          "name": "stdout"
        }
      ]
    },
    {
      "cell_type": "code",
      "metadata": {
        "id": "sBB1mMRyCBM8"
      },
      "source": [
        "!cp /content/drive/MyDrive/kaggle.json /content/"
      ],
      "execution_count": null,
      "outputs": []
    },
    {
      "cell_type": "code",
      "metadata": {
        "colab": {
          "resources": {
            "http://localhost:8080/nbextensions/google.colab/files.js": {
              "data": "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",
              "ok": true,
              "headers": [
                [
                  "content-type",
                  "application/javascript"
                ]
              ],
              "status": 200,
              "status_text": ""
            }
          },
          "base_uri": "https://localhost:8080/",
          "height": 89
        },
        "id": "kVLJUXZ7gQoC",
        "outputId": "7941d5c0-bc6e-482e-f409-a579ae3c2ab5"
      },
      "source": [
        "#Upload the kaggle.json (Find it in the account section of the kaggle)\n",
        "from google.colab import files\n",
        "files.upload()"
      ],
      "execution_count": null,
      "outputs": [
        {
          "output_type": "display_data",
          "data": {
            "text/html": [
              "\n",
              "     <input type=\"file\" id=\"files-76cc5d24-442f-459d-bc56-b25e9be2b39f\" name=\"files[]\" multiple disabled\n",
              "        style=\"border:none\" />\n",
              "     <output id=\"result-76cc5d24-442f-459d-bc56-b25e9be2b39f\">\n",
              "      Upload widget is only available when the cell has been executed in the\n",
              "      current browser session. Please rerun this cell to enable.\n",
              "      </output>\n",
              "      <script src=\"/nbextensions/google.colab/files.js\"></script> "
            ],
            "text/plain": [
              "<IPython.core.display.HTML object>"
            ]
          },
          "metadata": {
            "tags": []
          }
        },
        {
          "output_type": "stream",
          "text": [
            "Saving kaggle.json to kaggle.json\n"
          ],
          "name": "stdout"
        },
        {
          "output_type": "execute_result",
          "data": {
            "text/plain": [
              "{'kaggle.json': b'{\"username\":\"pritampatel\",\"key\":\"225abf1cb7070187683dd7e235645e2b\"}'}"
            ]
          },
          "metadata": {
            "tags": []
          },
          "execution_count": 2
        }
      ]
    },
    {
      "cell_type": "code",
      "metadata": {
        "colab": {
          "base_uri": "https://localhost:8080/"
        },
        "id": "6z0wrt6lgQlf",
        "outputId": "23692223-fc4c-49e0-daf9-a36133b873f1"
      },
      "source": [
        "!mkdir -p ~/.kaggle\n",
        "!cp kaggle.json ~/.kaggle/\n",
        "\n",
        "# Check the file in its new directory\n",
        "!ls /root/.kaggle/\n",
        "\n",
        "# Check the file permission\n",
        "!ls -l ~/.kaggle/kaggle.json\n",
        "\n",
        "#Change the file permission\n",
        "# chmod 600 file – owner can read and write\n",
        "# chmod 700 file – owner can read, write and execute\n",
        "!chmod 600 ~/.kaggle/kaggle.json"
      ],
      "execution_count": null,
      "outputs": [
        {
          "output_type": "stream",
          "text": [
            "kaggle.json\n",
            "-rw------- 1 root root 67 Mar  9 12:49 /root/.kaggle/kaggle.json\n"
          ],
          "name": "stdout"
        }
      ]
    },
    {
      "cell_type": "code",
      "metadata": {
        "colab": {
          "base_uri": "https://localhost:8080/"
        },
        "id": "VY2vUrxJgQi5",
        "outputId": "c260eb7c-fb5f-441d-8f98-aeb1f2dccbe8"
      },
      "source": [
        "!kaggle datasets download -d rahulmakwana/creditcard-fruad-detection"
      ],
      "execution_count": null,
      "outputs": [
        {
          "output_type": "stream",
          "text": [
            "Downloading creditcard-fruad-detection.zip to /content\n",
            " 86% 57.0M/66.0M [00:00<00:00, 88.2MB/s]\n",
            "100% 66.0M/66.0M [00:00<00:00, 146MB/s] \n"
          ],
          "name": "stdout"
        }
      ]
    },
    {
      "cell_type": "code",
      "metadata": {
        "colab": {
          "base_uri": "https://localhost:8080/"
        },
        "id": "5RefaS5Okw-l",
        "outputId": "37105c53-fa26-492b-c1b2-1f2def1fbda7"
      },
      "source": [
        "!unzip creditcard-fruad-detection.zip"
      ],
      "execution_count": null,
      "outputs": [
        {
          "output_type": "stream",
          "text": [
            "Archive:  creditcard-fruad-detection.zip\n",
            "  inflating: creditcard.csv          \n"
          ],
          "name": "stdout"
        }
      ]
    },
    {
      "cell_type": "code",
      "metadata": {
        "id": "lVbWJgXdk2dT"
      },
      "source": [
        "import pandas as pd\n",
        "import numpy as np\n",
        "import os\n",
        "import matplotlib.pyplot as plt\n",
        "import seaborn as sns\n",
        "from sklearn.metrics import classification_report,accuracy_score\n",
        "from sklearn.ensemble import IsolationForest\n",
        "from sklearn.neighbors import LocalOutlierFactor\n",
        "from sklearn.svm import OneClassSVM\n",
        "from pylab import rcParams\n",
        "rcParams['figure.figsize'] = 14, 8\n",
        "RANDOM_SEED = 42\n",
        "LABELS = [\"Normal\", \"Fraud\"]"
      ],
      "execution_count": null,
      "outputs": []
    },
    {
      "cell_type": "code",
      "metadata": {
        "colab": {
          "base_uri": "https://localhost:8080/",
          "height": 224
        },
        "id": "0iRSsCmflOCj",
        "outputId": "63745f2c-0a19-494e-a329-c39f4db8365b"
      },
      "source": [
        "data = pd.read_csv('/content/creditcard.csv',sep=',')\n",
        "data.head()"
      ],
      "execution_count": null,
      "outputs": [
        {
          "output_type": "execute_result",
          "data": {
            "text/html": [
              "<div>\n",
              "<style scoped>\n",
              "    .dataframe tbody tr th:only-of-type {\n",
              "        vertical-align: middle;\n",
              "    }\n",
              "\n",
              "    .dataframe tbody tr th {\n",
              "        vertical-align: top;\n",
              "    }\n",
              "\n",
              "    .dataframe thead th {\n",
              "        text-align: right;\n",
              "    }\n",
              "</style>\n",
              "<table border=\"1\" class=\"dataframe\">\n",
              "  <thead>\n",
              "    <tr style=\"text-align: right;\">\n",
              "      <th></th>\n",
              "      <th>Time</th>\n",
              "      <th>V1</th>\n",
              "      <th>V2</th>\n",
              "      <th>V3</th>\n",
              "      <th>V4</th>\n",
              "      <th>V5</th>\n",
              "      <th>V6</th>\n",
              "      <th>V7</th>\n",
              "      <th>V8</th>\n",
              "      <th>V9</th>\n",
              "      <th>V10</th>\n",
              "      <th>V11</th>\n",
              "      <th>V12</th>\n",
              "      <th>V13</th>\n",
              "      <th>V14</th>\n",
              "      <th>V15</th>\n",
              "      <th>V16</th>\n",
              "      <th>V17</th>\n",
              "      <th>V18</th>\n",
              "      <th>V19</th>\n",
              "      <th>V20</th>\n",
              "      <th>V21</th>\n",
              "      <th>V22</th>\n",
              "      <th>V23</th>\n",
              "      <th>V24</th>\n",
              "      <th>V25</th>\n",
              "      <th>V26</th>\n",
              "      <th>V27</th>\n",
              "      <th>V28</th>\n",
              "      <th>Amount</th>\n",
              "      <th>Class</th>\n",
              "    </tr>\n",
              "  </thead>\n",
              "  <tbody>\n",
              "    <tr>\n",
              "      <th>0</th>\n",
              "      <td>0.0</td>\n",
              "      <td>-1.359807</td>\n",
              "      <td>-0.072781</td>\n",
              "      <td>2.536347</td>\n",
              "      <td>1.378155</td>\n",
              "      <td>-0.338321</td>\n",
              "      <td>0.462388</td>\n",
              "      <td>0.239599</td>\n",
              "      <td>0.098698</td>\n",
              "      <td>0.363787</td>\n",
              "      <td>0.090794</td>\n",
              "      <td>-0.551600</td>\n",
              "      <td>-0.617801</td>\n",
              "      <td>-0.991390</td>\n",
              "      <td>-0.311169</td>\n",
              "      <td>1.468177</td>\n",
              "      <td>-0.470401</td>\n",
              "      <td>0.207971</td>\n",
              "      <td>0.025791</td>\n",
              "      <td>0.403993</td>\n",
              "      <td>0.251412</td>\n",
              "      <td>-0.018307</td>\n",
              "      <td>0.277838</td>\n",
              "      <td>-0.110474</td>\n",
              "      <td>0.066928</td>\n",
              "      <td>0.128539</td>\n",
              "      <td>-0.189115</td>\n",
              "      <td>0.133558</td>\n",
              "      <td>-0.021053</td>\n",
              "      <td>149.62</td>\n",
              "      <td>0</td>\n",
              "    </tr>\n",
              "    <tr>\n",
              "      <th>1</th>\n",
              "      <td>0.0</td>\n",
              "      <td>1.191857</td>\n",
              "      <td>0.266151</td>\n",
              "      <td>0.166480</td>\n",
              "      <td>0.448154</td>\n",
              "      <td>0.060018</td>\n",
              "      <td>-0.082361</td>\n",
              "      <td>-0.078803</td>\n",
              "      <td>0.085102</td>\n",
              "      <td>-0.255425</td>\n",
              "      <td>-0.166974</td>\n",
              "      <td>1.612727</td>\n",
              "      <td>1.065235</td>\n",
              "      <td>0.489095</td>\n",
              "      <td>-0.143772</td>\n",
              "      <td>0.635558</td>\n",
              "      <td>0.463917</td>\n",
              "      <td>-0.114805</td>\n",
              "      <td>-0.183361</td>\n",
              "      <td>-0.145783</td>\n",
              "      <td>-0.069083</td>\n",
              "      <td>-0.225775</td>\n",
              "      <td>-0.638672</td>\n",
              "      <td>0.101288</td>\n",
              "      <td>-0.339846</td>\n",
              "      <td>0.167170</td>\n",
              "      <td>0.125895</td>\n",
              "      <td>-0.008983</td>\n",
              "      <td>0.014724</td>\n",
              "      <td>2.69</td>\n",
              "      <td>0</td>\n",
              "    </tr>\n",
              "    <tr>\n",
              "      <th>2</th>\n",
              "      <td>1.0</td>\n",
              "      <td>-1.358354</td>\n",
              "      <td>-1.340163</td>\n",
              "      <td>1.773209</td>\n",
              "      <td>0.379780</td>\n",
              "      <td>-0.503198</td>\n",
              "      <td>1.800499</td>\n",
              "      <td>0.791461</td>\n",
              "      <td>0.247676</td>\n",
              "      <td>-1.514654</td>\n",
              "      <td>0.207643</td>\n",
              "      <td>0.624501</td>\n",
              "      <td>0.066084</td>\n",
              "      <td>0.717293</td>\n",
              "      <td>-0.165946</td>\n",
              "      <td>2.345865</td>\n",
              "      <td>-2.890083</td>\n",
              "      <td>1.109969</td>\n",
              "      <td>-0.121359</td>\n",
              "      <td>-2.261857</td>\n",
              "      <td>0.524980</td>\n",
              "      <td>0.247998</td>\n",
              "      <td>0.771679</td>\n",
              "      <td>0.909412</td>\n",
              "      <td>-0.689281</td>\n",
              "      <td>-0.327642</td>\n",
              "      <td>-0.139097</td>\n",
              "      <td>-0.055353</td>\n",
              "      <td>-0.059752</td>\n",
              "      <td>378.66</td>\n",
              "      <td>0</td>\n",
              "    </tr>\n",
              "    <tr>\n",
              "      <th>3</th>\n",
              "      <td>1.0</td>\n",
              "      <td>-0.966272</td>\n",
              "      <td>-0.185226</td>\n",
              "      <td>1.792993</td>\n",
              "      <td>-0.863291</td>\n",
              "      <td>-0.010309</td>\n",
              "      <td>1.247203</td>\n",
              "      <td>0.237609</td>\n",
              "      <td>0.377436</td>\n",
              "      <td>-1.387024</td>\n",
              "      <td>-0.054952</td>\n",
              "      <td>-0.226487</td>\n",
              "      <td>0.178228</td>\n",
              "      <td>0.507757</td>\n",
              "      <td>-0.287924</td>\n",
              "      <td>-0.631418</td>\n",
              "      <td>-1.059647</td>\n",
              "      <td>-0.684093</td>\n",
              "      <td>1.965775</td>\n",
              "      <td>-1.232622</td>\n",
              "      <td>-0.208038</td>\n",
              "      <td>-0.108300</td>\n",
              "      <td>0.005274</td>\n",
              "      <td>-0.190321</td>\n",
              "      <td>-1.175575</td>\n",
              "      <td>0.647376</td>\n",
              "      <td>-0.221929</td>\n",
              "      <td>0.062723</td>\n",
              "      <td>0.061458</td>\n",
              "      <td>123.50</td>\n",
              "      <td>0</td>\n",
              "    </tr>\n",
              "    <tr>\n",
              "      <th>4</th>\n",
              "      <td>2.0</td>\n",
              "      <td>-1.158233</td>\n",
              "      <td>0.877737</td>\n",
              "      <td>1.548718</td>\n",
              "      <td>0.403034</td>\n",
              "      <td>-0.407193</td>\n",
              "      <td>0.095921</td>\n",
              "      <td>0.592941</td>\n",
              "      <td>-0.270533</td>\n",
              "      <td>0.817739</td>\n",
              "      <td>0.753074</td>\n",
              "      <td>-0.822843</td>\n",
              "      <td>0.538196</td>\n",
              "      <td>1.345852</td>\n",
              "      <td>-1.119670</td>\n",
              "      <td>0.175121</td>\n",
              "      <td>-0.451449</td>\n",
              "      <td>-0.237033</td>\n",
              "      <td>-0.038195</td>\n",
              "      <td>0.803487</td>\n",
              "      <td>0.408542</td>\n",
              "      <td>-0.009431</td>\n",
              "      <td>0.798278</td>\n",
              "      <td>-0.137458</td>\n",
              "      <td>0.141267</td>\n",
              "      <td>-0.206010</td>\n",
              "      <td>0.502292</td>\n",
              "      <td>0.219422</td>\n",
              "      <td>0.215153</td>\n",
              "      <td>69.99</td>\n",
              "      <td>0</td>\n",
              "    </tr>\n",
              "  </tbody>\n",
              "</table>\n",
              "</div>"
            ],
            "text/plain": [
              "   Time        V1        V2        V3  ...       V27       V28  Amount  Class\n",
              "0   0.0 -1.359807 -0.072781  2.536347  ...  0.133558 -0.021053  149.62      0\n",
              "1   0.0  1.191857  0.266151  0.166480  ... -0.008983  0.014724    2.69      0\n",
              "2   1.0 -1.358354 -1.340163  1.773209  ... -0.055353 -0.059752  378.66      0\n",
              "3   1.0 -0.966272 -0.185226  1.792993  ...  0.062723  0.061458  123.50      0\n",
              "4   2.0 -1.158233  0.877737  1.548718  ...  0.219422  0.215153   69.99      0\n",
              "\n",
              "[5 rows x 31 columns]"
            ]
          },
          "metadata": {
            "tags": []
          },
          "execution_count": 7
        }
      ]
    },
    {
      "cell_type": "code",
      "metadata": {
        "id": "LqZL6KWLldk0"
      },
      "source": [
        "data.drop('Time',axis=1,inplace=True)"
      ],
      "execution_count": null,
      "outputs": []
    },
    {
      "cell_type": "code",
      "metadata": {
        "id": "lV4hg0gHmwf9"
      },
      "source": [
        "from sklearn.preprocessing import OneHotEncoder,MinMaxScaler\n",
        "from sklearn.pipeline import Pipeline\n",
        "from sklearn.compose import ColumnTransformer\n",
        "from sklearn.model_selection import train_test_split"
      ],
      "execution_count": null,
      "outputs": []
    },
    {
      "cell_type": "code",
      "metadata": {
        "colab": {
          "base_uri": "https://localhost:8080/",
          "height": 224
        },
        "id": "ROVUN_lHnFx8",
        "outputId": "78654823-8e69-4245-cff5-c6a31a47fda5"
      },
      "source": [
        "\n",
        "#Removing Outliers using Simple Imputer \n",
        "mf_imputer=Pipeline([\n",
        "    ('most_frequent',MinMaxScaler())])\n",
        "\n",
        "processes1=ColumnTransformer(transformers=[\n",
        "    ('most_f',mf_imputer,['Amount'])\n",
        "],remainder='passthrough')\n",
        "    \n",
        "processes1.fit(data)\n",
        "X1=processes1.transform(data)\n",
        "df=pd.DataFrame(X1,columns=data.columns)\n",
        "df.head()"
      ],
      "execution_count": null,
      "outputs": [
        {
          "output_type": "execute_result",
          "data": {
            "text/html": [
              "<div>\n",
              "<style scoped>\n",
              "    .dataframe tbody tr th:only-of-type {\n",
              "        vertical-align: middle;\n",
              "    }\n",
              "\n",
              "    .dataframe tbody tr th {\n",
              "        vertical-align: top;\n",
              "    }\n",
              "\n",
              "    .dataframe thead th {\n",
              "        text-align: right;\n",
              "    }\n",
              "</style>\n",
              "<table border=\"1\" class=\"dataframe\">\n",
              "  <thead>\n",
              "    <tr style=\"text-align: right;\">\n",
              "      <th></th>\n",
              "      <th>V1</th>\n",
              "      <th>V2</th>\n",
              "      <th>V3</th>\n",
              "      <th>V4</th>\n",
              "      <th>V5</th>\n",
              "      <th>V6</th>\n",
              "      <th>V7</th>\n",
              "      <th>V8</th>\n",
              "      <th>V9</th>\n",
              "      <th>V10</th>\n",
              "      <th>V11</th>\n",
              "      <th>V12</th>\n",
              "      <th>V13</th>\n",
              "      <th>V14</th>\n",
              "      <th>V15</th>\n",
              "      <th>V16</th>\n",
              "      <th>V17</th>\n",
              "      <th>V18</th>\n",
              "      <th>V19</th>\n",
              "      <th>V20</th>\n",
              "      <th>V21</th>\n",
              "      <th>V22</th>\n",
              "      <th>V23</th>\n",
              "      <th>V24</th>\n",
              "      <th>V25</th>\n",
              "      <th>V26</th>\n",
              "      <th>V27</th>\n",
              "      <th>V28</th>\n",
              "      <th>Amount</th>\n",
              "      <th>Class</th>\n",
              "    </tr>\n",
              "  </thead>\n",
              "  <tbody>\n",
              "    <tr>\n",
              "      <th>0</th>\n",
              "      <td>0.005824</td>\n",
              "      <td>-1.359807</td>\n",
              "      <td>-0.072781</td>\n",
              "      <td>2.536347</td>\n",
              "      <td>1.378155</td>\n",
              "      <td>-0.338321</td>\n",
              "      <td>0.462388</td>\n",
              "      <td>0.239599</td>\n",
              "      <td>0.098698</td>\n",
              "      <td>0.363787</td>\n",
              "      <td>0.090794</td>\n",
              "      <td>-0.551600</td>\n",
              "      <td>-0.617801</td>\n",
              "      <td>-0.991390</td>\n",
              "      <td>-0.311169</td>\n",
              "      <td>1.468177</td>\n",
              "      <td>-0.470401</td>\n",
              "      <td>0.207971</td>\n",
              "      <td>0.025791</td>\n",
              "      <td>0.403993</td>\n",
              "      <td>0.251412</td>\n",
              "      <td>-0.018307</td>\n",
              "      <td>0.277838</td>\n",
              "      <td>-0.110474</td>\n",
              "      <td>0.066928</td>\n",
              "      <td>0.128539</td>\n",
              "      <td>-0.189115</td>\n",
              "      <td>0.133558</td>\n",
              "      <td>-0.021053</td>\n",
              "      <td>0.0</td>\n",
              "    </tr>\n",
              "    <tr>\n",
              "      <th>1</th>\n",
              "      <td>0.000105</td>\n",
              "      <td>1.191857</td>\n",
              "      <td>0.266151</td>\n",
              "      <td>0.166480</td>\n",
              "      <td>0.448154</td>\n",
              "      <td>0.060018</td>\n",
              "      <td>-0.082361</td>\n",
              "      <td>-0.078803</td>\n",
              "      <td>0.085102</td>\n",
              "      <td>-0.255425</td>\n",
              "      <td>-0.166974</td>\n",
              "      <td>1.612727</td>\n",
              "      <td>1.065235</td>\n",
              "      <td>0.489095</td>\n",
              "      <td>-0.143772</td>\n",
              "      <td>0.635558</td>\n",
              "      <td>0.463917</td>\n",
              "      <td>-0.114805</td>\n",
              "      <td>-0.183361</td>\n",
              "      <td>-0.145783</td>\n",
              "      <td>-0.069083</td>\n",
              "      <td>-0.225775</td>\n",
              "      <td>-0.638672</td>\n",
              "      <td>0.101288</td>\n",
              "      <td>-0.339846</td>\n",
              "      <td>0.167170</td>\n",
              "      <td>0.125895</td>\n",
              "      <td>-0.008983</td>\n",
              "      <td>0.014724</td>\n",
              "      <td>0.0</td>\n",
              "    </tr>\n",
              "    <tr>\n",
              "      <th>2</th>\n",
              "      <td>0.014739</td>\n",
              "      <td>-1.358354</td>\n",
              "      <td>-1.340163</td>\n",
              "      <td>1.773209</td>\n",
              "      <td>0.379780</td>\n",
              "      <td>-0.503198</td>\n",
              "      <td>1.800499</td>\n",
              "      <td>0.791461</td>\n",
              "      <td>0.247676</td>\n",
              "      <td>-1.514654</td>\n",
              "      <td>0.207643</td>\n",
              "      <td>0.624501</td>\n",
              "      <td>0.066084</td>\n",
              "      <td>0.717293</td>\n",
              "      <td>-0.165946</td>\n",
              "      <td>2.345865</td>\n",
              "      <td>-2.890083</td>\n",
              "      <td>1.109969</td>\n",
              "      <td>-0.121359</td>\n",
              "      <td>-2.261857</td>\n",
              "      <td>0.524980</td>\n",
              "      <td>0.247998</td>\n",
              "      <td>0.771679</td>\n",
              "      <td>0.909412</td>\n",
              "      <td>-0.689281</td>\n",
              "      <td>-0.327642</td>\n",
              "      <td>-0.139097</td>\n",
              "      <td>-0.055353</td>\n",
              "      <td>-0.059752</td>\n",
              "      <td>0.0</td>\n",
              "    </tr>\n",
              "    <tr>\n",
              "      <th>3</th>\n",
              "      <td>0.004807</td>\n",
              "      <td>-0.966272</td>\n",
              "      <td>-0.185226</td>\n",
              "      <td>1.792993</td>\n",
              "      <td>-0.863291</td>\n",
              "      <td>-0.010309</td>\n",
              "      <td>1.247203</td>\n",
              "      <td>0.237609</td>\n",
              "      <td>0.377436</td>\n",
              "      <td>-1.387024</td>\n",
              "      <td>-0.054952</td>\n",
              "      <td>-0.226487</td>\n",
              "      <td>0.178228</td>\n",
              "      <td>0.507757</td>\n",
              "      <td>-0.287924</td>\n",
              "      <td>-0.631418</td>\n",
              "      <td>-1.059647</td>\n",
              "      <td>-0.684093</td>\n",
              "      <td>1.965775</td>\n",
              "      <td>-1.232622</td>\n",
              "      <td>-0.208038</td>\n",
              "      <td>-0.108300</td>\n",
              "      <td>0.005274</td>\n",
              "      <td>-0.190321</td>\n",
              "      <td>-1.175575</td>\n",
              "      <td>0.647376</td>\n",
              "      <td>-0.221929</td>\n",
              "      <td>0.062723</td>\n",
              "      <td>0.061458</td>\n",
              "      <td>0.0</td>\n",
              "    </tr>\n",
              "    <tr>\n",
              "      <th>4</th>\n",
              "      <td>0.002724</td>\n",
              "      <td>-1.158233</td>\n",
              "      <td>0.877737</td>\n",
              "      <td>1.548718</td>\n",
              "      <td>0.403034</td>\n",
              "      <td>-0.407193</td>\n",
              "      <td>0.095921</td>\n",
              "      <td>0.592941</td>\n",
              "      <td>-0.270533</td>\n",
              "      <td>0.817739</td>\n",
              "      <td>0.753074</td>\n",
              "      <td>-0.822843</td>\n",
              "      <td>0.538196</td>\n",
              "      <td>1.345852</td>\n",
              "      <td>-1.119670</td>\n",
              "      <td>0.175121</td>\n",
              "      <td>-0.451449</td>\n",
              "      <td>-0.237033</td>\n",
              "      <td>-0.038195</td>\n",
              "      <td>0.803487</td>\n",
              "      <td>0.408542</td>\n",
              "      <td>-0.009431</td>\n",
              "      <td>0.798278</td>\n",
              "      <td>-0.137458</td>\n",
              "      <td>0.141267</td>\n",
              "      <td>-0.206010</td>\n",
              "      <td>0.502292</td>\n",
              "      <td>0.219422</td>\n",
              "      <td>0.215153</td>\n",
              "      <td>0.0</td>\n",
              "    </tr>\n",
              "  </tbody>\n",
              "</table>\n",
              "</div>"
            ],
            "text/plain": [
              "         V1        V2        V3        V4  ...       V27       V28    Amount  Class\n",
              "0  0.005824 -1.359807 -0.072781  2.536347  ... -0.189115  0.133558 -0.021053    0.0\n",
              "1  0.000105  1.191857  0.266151  0.166480  ...  0.125895 -0.008983  0.014724    0.0\n",
              "2  0.014739 -1.358354 -1.340163  1.773209  ... -0.139097 -0.055353 -0.059752    0.0\n",
              "3  0.004807 -0.966272 -0.185226  1.792993  ... -0.221929  0.062723  0.061458    0.0\n",
              "4  0.002724 -1.158233  0.877737  1.548718  ...  0.502292  0.219422  0.215153    0.0\n",
              "\n",
              "[5 rows x 30 columns]"
            ]
          },
          "metadata": {
            "tags": []
          },
          "execution_count": 10
        }
      ]
    },
    {
      "cell_type": "code",
      "metadata": {
        "colab": {
          "base_uri": "https://localhost:8080/",
          "height": 224
        },
        "id": "Dl87AEXBngaM",
        "outputId": "7b75ea11-5c7f-4aa4-ca9e-f7294dc8c69f"
      },
      "source": [
        "X=df.drop(['Class'],axis=1)\n",
        "y=df['Class']\n",
        "X_train,X_test,y_train,y_test= train_test_split(X,y, test_size=0.3,stratify=y, random_state=42)\n",
        "X_train.head()"
      ],
      "execution_count": null,
      "outputs": [
        {
          "output_type": "execute_result",
          "data": {
            "text/html": [
              "<div>\n",
              "<style scoped>\n",
              "    .dataframe tbody tr th:only-of-type {\n",
              "        vertical-align: middle;\n",
              "    }\n",
              "\n",
              "    .dataframe tbody tr th {\n",
              "        vertical-align: top;\n",
              "    }\n",
              "\n",
              "    .dataframe thead th {\n",
              "        text-align: right;\n",
              "    }\n",
              "</style>\n",
              "<table border=\"1\" class=\"dataframe\">\n",
              "  <thead>\n",
              "    <tr style=\"text-align: right;\">\n",
              "      <th></th>\n",
              "      <th>V1</th>\n",
              "      <th>V2</th>\n",
              "      <th>V3</th>\n",
              "      <th>V4</th>\n",
              "      <th>V5</th>\n",
              "      <th>V6</th>\n",
              "      <th>V7</th>\n",
              "      <th>V8</th>\n",
              "      <th>V9</th>\n",
              "      <th>V10</th>\n",
              "      <th>V11</th>\n",
              "      <th>V12</th>\n",
              "      <th>V13</th>\n",
              "      <th>V14</th>\n",
              "      <th>V15</th>\n",
              "      <th>V16</th>\n",
              "      <th>V17</th>\n",
              "      <th>V18</th>\n",
              "      <th>V19</th>\n",
              "      <th>V20</th>\n",
              "      <th>V21</th>\n",
              "      <th>V22</th>\n",
              "      <th>V23</th>\n",
              "      <th>V24</th>\n",
              "      <th>V25</th>\n",
              "      <th>V26</th>\n",
              "      <th>V27</th>\n",
              "      <th>V28</th>\n",
              "      <th>Amount</th>\n",
              "    </tr>\n",
              "  </thead>\n",
              "  <tbody>\n",
              "    <tr>\n",
              "      <th>249927</th>\n",
              "      <td>0.000278</td>\n",
              "      <td>-0.012102</td>\n",
              "      <td>0.707332</td>\n",
              "      <td>0.163334</td>\n",
              "      <td>-0.756498</td>\n",
              "      <td>0.590999</td>\n",
              "      <td>-0.653429</td>\n",
              "      <td>0.844608</td>\n",
              "      <td>-0.001672</td>\n",
              "      <td>-0.184399</td>\n",
              "      <td>-0.222719</td>\n",
              "      <td>0.377643</td>\n",
              "      <td>0.386075</td>\n",
              "      <td>-0.650025</td>\n",
              "      <td>0.418040</td>\n",
              "      <td>-1.009056</td>\n",
              "      <td>0.225934</td>\n",
              "      <td>-0.738861</td>\n",
              "      <td>-0.068285</td>\n",
              "      <td>0.329703</td>\n",
              "      <td>-0.038329</td>\n",
              "      <td>-0.231385</td>\n",
              "      <td>-0.572415</td>\n",
              "      <td>0.042660</td>\n",
              "      <td>-0.360882</td>\n",
              "      <td>-0.494703</td>\n",
              "      <td>0.142657</td>\n",
              "      <td>0.235922</td>\n",
              "      <td>0.083758</td>\n",
              "    </tr>\n",
              "    <tr>\n",
              "      <th>214082</th>\n",
              "      <td>0.005839</td>\n",
              "      <td>1.776151</td>\n",
              "      <td>-0.184642</td>\n",
              "      <td>-2.204096</td>\n",
              "      <td>1.191668</td>\n",
              "      <td>0.614461</td>\n",
              "      <td>-1.016525</td>\n",
              "      <td>0.919254</td>\n",
              "      <td>-0.387465</td>\n",
              "      <td>-0.318277</td>\n",
              "      <td>0.517022</td>\n",
              "      <td>0.489890</td>\n",
              "      <td>0.247935</td>\n",
              "      <td>-1.055373</td>\n",
              "      <td>1.242616</td>\n",
              "      <td>-0.433066</td>\n",
              "      <td>-0.136620</td>\n",
              "      <td>-0.720880</td>\n",
              "      <td>0.328234</td>\n",
              "      <td>-0.016297</td>\n",
              "      <td>-0.030437</td>\n",
              "      <td>0.281190</td>\n",
              "      <td>0.530070</td>\n",
              "      <td>-0.232262</td>\n",
              "      <td>-0.342096</td>\n",
              "      <td>0.492355</td>\n",
              "      <td>-0.427682</td>\n",
              "      <td>-0.075228</td>\n",
              "      <td>-0.056755</td>\n",
              "    </tr>\n",
              "    <tr>\n",
              "      <th>106005</th>\n",
              "      <td>0.050698</td>\n",
              "      <td>-1.083391</td>\n",
              "      <td>-4.440527</td>\n",
              "      <td>-1.399530</td>\n",
              "      <td>0.469764</td>\n",
              "      <td>-2.076458</td>\n",
              "      <td>-0.766137</td>\n",
              "      <td>1.601441</td>\n",
              "      <td>-0.709176</td>\n",
              "      <td>-1.288745</td>\n",
              "      <td>0.086419</td>\n",
              "      <td>-0.376936</td>\n",
              "      <td>0.191335</td>\n",
              "      <td>1.046362</td>\n",
              "      <td>0.420874</td>\n",
              "      <td>0.805190</td>\n",
              "      <td>-1.316514</td>\n",
              "      <td>0.059491</td>\n",
              "      <td>0.915477</td>\n",
              "      <td>-1.087435</td>\n",
              "      <td>2.189260</td>\n",
              "      <td>0.346463</td>\n",
              "      <td>-1.432833</td>\n",
              "      <td>-1.097063</td>\n",
              "      <td>0.505926</td>\n",
              "      <td>-0.140185</td>\n",
              "      <td>0.870190</td>\n",
              "      <td>-0.316982</td>\n",
              "      <td>0.227833</td>\n",
              "    </tr>\n",
              "    <tr>\n",
              "      <th>58619</th>\n",
              "      <td>0.000175</td>\n",
              "      <td>-0.518847</td>\n",
              "      <td>1.025087</td>\n",
              "      <td>-0.614624</td>\n",
              "      <td>-0.780959</td>\n",
              "      <td>2.474666</td>\n",
              "      <td>3.335055</td>\n",
              "      <td>0.046111</td>\n",
              "      <td>0.794249</td>\n",
              "      <td>-0.322448</td>\n",
              "      <td>0.128383</td>\n",
              "      <td>0.009338</td>\n",
              "      <td>-0.341516</td>\n",
              "      <td>0.004210</td>\n",
              "      <td>-0.287098</td>\n",
              "      <td>1.385535</td>\n",
              "      <td>0.398955</td>\n",
              "      <td>-0.299877</td>\n",
              "      <td>0.403600</td>\n",
              "      <td>0.929925</td>\n",
              "      <td>0.225957</td>\n",
              "      <td>-0.193099</td>\n",
              "      <td>-0.708348</td>\n",
              "      <td>0.145672</td>\n",
              "      <td>0.944217</td>\n",
              "      <td>-0.788017</td>\n",
              "      <td>0.039995</td>\n",
              "      <td>0.010804</td>\n",
              "      <td>0.254309</td>\n",
              "    </tr>\n",
              "    <tr>\n",
              "      <th>191638</th>\n",
              "      <td>0.000175</td>\n",
              "      <td>-0.640421</td>\n",
              "      <td>0.212171</td>\n",
              "      <td>0.283341</td>\n",
              "      <td>-1.786916</td>\n",
              "      <td>2.616127</td>\n",
              "      <td>4.024863</td>\n",
              "      <td>-0.198897</td>\n",
              "      <td>0.937087</td>\n",
              "      <td>0.474428</td>\n",
              "      <td>-0.283699</td>\n",
              "      <td>-0.331548</td>\n",
              "      <td>-0.180028</td>\n",
              "      <td>-0.254641</td>\n",
              "      <td>-0.388456</td>\n",
              "      <td>0.414223</td>\n",
              "      <td>0.048084</td>\n",
              "      <td>-0.710405</td>\n",
              "      <td>0.007241</td>\n",
              "      <td>-0.458141</td>\n",
              "      <td>0.154309</td>\n",
              "      <td>0.167939</td>\n",
              "      <td>0.759218</td>\n",
              "      <td>-0.321412</td>\n",
              "      <td>0.767971</td>\n",
              "      <td>-0.084221</td>\n",
              "      <td>0.612936</td>\n",
              "      <td>0.074029</td>\n",
              "      <td>-0.033344</td>\n",
              "    </tr>\n",
              "  </tbody>\n",
              "</table>\n",
              "</div>"
            ],
            "text/plain": [
              "              V1        V2        V3  ...       V27       V28    Amount\n",
              "249927  0.000278 -0.012102  0.707332  ...  0.142657  0.235922  0.083758\n",
              "214082  0.005839  1.776151 -0.184642  ... -0.427682 -0.075228 -0.056755\n",
              "106005  0.050698 -1.083391 -4.440527  ...  0.870190 -0.316982  0.227833\n",
              "58619   0.000175 -0.518847  1.025087  ...  0.039995  0.010804  0.254309\n",
              "191638  0.000175 -0.640421  0.212171  ...  0.612936  0.074029 -0.033344\n",
              "\n",
              "[5 rows x 29 columns]"
            ]
          },
          "metadata": {
            "tags": []
          },
          "execution_count": 11
        }
      ]
    },
    {
      "cell_type": "code",
      "metadata": {
        "id": "0HxDTjr9rpDr"
      },
      "source": [
        "from sklearn.ensemble import RandomForestClassifier\n",
        "rf= RandomForestClassifier(n_estimators=500)\n",
        "rf.fit(X_train, y_train)\n",
        "y_pred=rf.predict(X_test)"
      ],
      "execution_count": null,
      "outputs": []
    },
    {
      "cell_type": "code",
      "metadata": {
        "id": "YFmLJpnbsChW"
      },
      "source": [
        "from sklearn.metrics import confusion_matrix, accuracy_score, f1_score, precision_score, recall_score\n",
        "cm = confusion_matrix(y_test, y_pred)\n",
        "accuracy_score(y_test, y_pred)\n",
        "precision_score(y_test, y_pred) # tp / (tp + fp)\n",
        "recall_score(y_test, y_pred) # tp / (tp + fn)\n",
        "f1_score(y_test, y_pred)"
      ],
      "execution_count": null,
      "outputs": []
    },
    {
      "cell_type": "code",
      "metadata": {
        "id": "OV6kUYazNZtp",
        "colab": {
          "base_uri": "https://localhost:8080/"
        },
        "outputId": "15d26b9f-f1a8-4e27-eb01-a0b1fd98ca6a"
      },
      "source": [
        "!pip install beautifulsoup4"
      ],
      "execution_count": null,
      "outputs": [
        {
          "output_type": "stream",
          "text": [
            "Requirement already satisfied: beautifulsoup4 in /usr/local/lib/python3.7/dist-packages (4.6.3)\n"
          ],
          "name": "stdout"
        }
      ]
    },
    {
      "cell_type": "code",
      "metadata": {
        "id": "UMM9ou5eQT1N",
        "colab": {
          "base_uri": "https://localhost:8080/"
        },
        "outputId": "ed70ef4f-a526-4f26-d15e-a2a6cc301451"
      },
      "source": [
        "!pip install lxml"
      ],
      "execution_count": null,
      "outputs": [
        {
          "output_type": "stream",
          "text": [
            "Requirement already satisfied: lxml in /usr/local/lib/python3.7/dist-packages (4.2.6)\n"
          ],
          "name": "stdout"
        }
      ]
    },
    {
      "cell_type": "code",
      "metadata": {
        "id": "dHCz5A1SQTyF"
      },
      "source": [
        "from bs4 import BeautifulSoup\n",
        "\n",
        "import requests"
      ],
      "execution_count": null,
      "outputs": []
    },
    {
      "cell_type": "code",
      "metadata": {
        "id": "X1FoYNU1QTuz",
        "colab": {
          "base_uri": "https://localhost:8080/"
        },
        "outputId": "c9c01ae1-11e1-49ee-f123-c74b29f36a59"
      },
      "source": [
        "!wget https://github.com/CoreyMSchafer/code_snippets/blob/master/BeautifulSoup/simple.html"
      ],
      "execution_count": null,
      "outputs": [
        {
          "output_type": "stream",
          "text": [
            "--2021-03-05 04:42:20--  https://github.com/CoreyMSchafer/code_snippets/blob/master/BeautifulSoup/simple.html\n",
            "Resolving github.com (github.com)... 140.82.121.4\n",
            "Connecting to github.com (github.com)|140.82.121.4|:443... connected.\n",
            "HTTP request sent, awaiting response... 200 OK\n",
            "Length: unspecified [text/html]\n",
            "Saving to: ‘simple.html’\n",
            "\n",
            "simple.html             [ <=>                ] 113.08K  --.-KB/s    in 0.03s   \n",
            "\n",
            "2021-03-05 04:42:20 (4.18 MB/s) - ‘simple.html’ saved [115797]\n",
            "\n"
          ],
          "name": "stdout"
        }
      ]
    },
    {
      "cell_type": "code",
      "metadata": {
        "id": "RM-I2BwVQTlz"
      },
      "source": [
        "with open('simple.html') as html_file:\n",
        "  soup=BeautifulSoup(html_file,'lxml')"
      ],
      "execution_count": null,
      "outputs": []
    },
    {
      "cell_type": "code",
      "metadata": {
        "colab": {
          "base_uri": "https://localhost:8080/"
        },
        "id": "jyHEhRdvsqfa",
        "outputId": "be908978-c7a1-4bcd-d812-550f4168647b"
      },
      "source": [
        "match=soup.title.text\n",
        "print(match)"
      ],
      "execution_count": null,
      "outputs": [
        {
          "output_type": "stream",
          "text": [
            "Test - A Sample Website\n"
          ],
          "name": "stdout"
        }
      ]
    },
    {
      "cell_type": "code",
      "metadata": {
        "colab": {
          "base_uri": "https://localhost:8080/"
        },
        "id": "FSPzYQhytYyr",
        "outputId": "2aac9f89-1ff4-479f-8168-c70a2a1641f1"
      },
      "source": [
        "match=soup.find('div')\n",
        "print(match)"
      ],
      "execution_count": null,
      "outputs": [
        {
          "output_type": "stream",
          "text": [
            "<div class=\"article\">\n",
            "<h2><a href=\"article_1.html\">Article 1 Headline</a></h2>\n",
            "<p>This is a summary of article 1</p>\n",
            "</div>\n"
          ],
          "name": "stdout"
        }
      ]
    },
    {
      "cell_type": "code",
      "metadata": {
        "colab": {
          "base_uri": "https://localhost:8080/"
        },
        "id": "uOSOquMqtkTD",
        "outputId": "2ec6e382-0c5f-486b-c1b7-9b3ebc7e08fa"
      },
      "source": [
        "match=soup.find('div',class_='footer')\n",
        "print(match)"
      ],
      "execution_count": null,
      "outputs": [
        {
          "output_type": "stream",
          "text": [
            "<div class=\"footer\">\n",
            "<p>Footer Information</p>\n",
            "</div>\n"
          ],
          "name": "stdout"
        }
      ]
    },
    {
      "cell_type": "code",
      "metadata": {
        "colab": {
          "base_uri": "https://localhost:8080/"
        },
        "id": "sIoI-U4ru6E_",
        "outputId": "64d310fe-9ebe-4de8-f644-ea9ebcd13482"
      },
      "source": [
        "article=soup.find('div',class_='article')\n",
        "print(article)"
      ],
      "execution_count": null,
      "outputs": [
        {
          "output_type": "stream",
          "text": [
            "<div class=\"article\">\n",
            "<h2><a href=\"article_1.html\">Article 1 Headline</a></h2>\n",
            "<p>This is a summary of article 1</p>\n",
            "</div>\n"
          ],
          "name": "stdout"
        }
      ]
    },
    {
      "cell_type": "code",
      "metadata": {
        "colab": {
          "base_uri": "https://localhost:8080/"
        },
        "id": "O0AjqQFWt3iL",
        "outputId": "ca9e884c-7a79-4398-9c16-bc1dc710889a"
      },
      "source": [
        "headline=article.h2.a.text\n",
        "print(headline)\n",
        "summary= article.p.text\n",
        "print(summary)"
      ],
      "execution_count": null,
      "outputs": [
        {
          "output_type": "stream",
          "text": [
            "Article 1 Headline\n",
            "This is a summary of article 1\n"
          ],
          "name": "stdout"
        }
      ]
    },
    {
      "cell_type": "code",
      "metadata": {
        "colab": {
          "base_uri": "https://localhost:8080/"
        },
        "id": "VLBYAeWQu3Db",
        "outputId": "c26bd523-4d3c-4d41-cf87-77e770efaa7f"
      },
      "source": [
        "for article in soup.find_all('div',class_='article'):\n",
        "  headline=article.h2.a.text\n",
        "  print(headline)\n",
        "  summary= article.p.text\n",
        "  print(summary)\n"
      ],
      "execution_count": null,
      "outputs": [
        {
          "output_type": "stream",
          "text": [
            "Article 1 Headline\n",
            "This is a summary of article 1\n",
            "Article 2 Headline\n",
            "This is a summary of article 2\n"
          ],
          "name": "stdout"
        }
      ]
    },
    {
      "cell_type": "code",
      "metadata": {
        "id": "SiNtX-QYx0NW"
      },
      "source": [
        "source=requests.get('http://coreyms.com').text"
      ],
      "execution_count": null,
      "outputs": []
    },
    {
      "cell_type": "code",
      "metadata": {
        "id": "86onmlkoyTmk"
      },
      "source": [
        "soup=BeautifulSoup(source,'lxml')\n",
        "print(soup.prettify())"
      ],
      "execution_count": null,
      "outputs": []
    },
    {
      "cell_type": "code",
      "metadata": {
        "colab": {
          "base_uri": "https://localhost:8080/"
        },
        "id": "w7WT13Rjyfnd",
        "outputId": "fd85d161-cf24-479f-b883-7ca95a1d5929"
      },
      "source": [
        "for i,article in enumerate(soup.find_all('div',class_='article')):\n",
        "  headline=article.h2.a.text\n",
        "  print(i)\n",
        "\n",
        "  if headline == 'Python Tutorial: re Module - How to Write and Match Regular Expressions(Regex)':\n",
        "    break\n",
        "\n",
        "  "
      ],
      "execution_count": null,
      "outputs": [
        {
          "output_type": "stream",
          "text": [
            "0\n",
            "1\n",
            "2\n",
            "3\n",
            "4\n",
            "5\n",
            "6\n",
            "7\n",
            "8\n",
            "9\n"
          ],
          "name": "stdout"
        }
      ]
    },
    {
      "cell_type": "code",
      "metadata": {
        "colab": {
          "base_uri": "https://localhost:8080/"
        },
        "id": "xeCkRX3e0fFU",
        "outputId": "432e1dcb-5bc9-465e-f635-ff0c7897318e"
      },
      "source": [
        "print(article)"
      ],
      "execution_count": null,
      "outputs": [
        {
          "output_type": "stream",
          "text": [
            "<article class=\"post-1634 post type-post status-publish format-standard has-post-thumbnail category-development category-python tag-common-errors tag-common-mistakes tag-functions tag-mutable-default-arguments entry\" itemscope=\"\" itemtype=\"https://schema.org/CreativeWork\"><header class=\"entry-header\"><h2 class=\"entry-title\" itemprop=\"headline\"><a class=\"entry-title-link\" href=\"https://coreyms.com/development/python/clarifying-the-issues-with-mutable-default-arguments\" rel=\"bookmark\">Clarifying the Issues with Mutable Default Arguments</a></h2>\n",
            "<p class=\"entry-meta\"><time class=\"entry-time\" datetime=\"2019-04-24T11:46:42-04:00\" itemprop=\"datePublished\">April 24, 2019</time> by <span class=\"entry-author\" itemprop=\"author\" itemscope=\"\" itemtype=\"https://schema.org/Person\"><a class=\"entry-author-link\" href=\"https://coreyms.com/author/coreymschafer\" itemprop=\"url\" rel=\"author\"><span class=\"entry-author-name\" itemprop=\"name\">Corey Schafer</span></a></span> <span class=\"entry-comments-link\"><a href=\"https://coreyms.com/development/python/clarifying-the-issues-with-mutable-default-arguments#respond\"><span class=\"dsq-postid\" data-dsqidentifier=\"1634 http://coreyms.com/?p=1634\">Leave a Comment</span></a></span> </p></header><div class=\"entry-content\" itemprop=\"text\">\n",
            "<p>In this Python Programming Tutorial, we will be clarifying the issues with mutable default arguments. We discussed this in my last video titled “5 Common Python Mistakes and How to Fix Them”, but I received many comments from people who were still confused. So we will be doing a deeper dive to explain exactly what is going on here. Let’s get started…</p>\n",
            "<figure class=\"wp-block-embed-youtube wp-block-embed is-type-video is-provider-youtube wp-embed-aspect-16-9 wp-has-aspect-ratio\"><div class=\"wp-block-embed__wrapper\">\n",
            "<span class=\"embed-youtube\" style=\"text-align:center; display: block;\"><iframe allowfullscreen=\"true\" class=\"youtube-player\" height=\"360\" sandbox=\"allow-scripts allow-same-origin allow-popups allow-presentation\" src=\"https://www.youtube.com/embed/_JGmemuINww?version=3&amp;rel=1&amp;showsearch=0&amp;showinfo=1&amp;iv_load_policy=1&amp;fs=1&amp;hl=en-US&amp;autohide=2&amp;wmode=transparent\" style=\"border:0;\" width=\"640\"></iframe></span>\n",
            "</div></figure>\n",
            "</div><footer class=\"entry-footer\"><p class=\"entry-meta\"><span class=\"entry-categories\">Filed Under: <a href=\"https://coreyms.com/category/development\" rel=\"category tag\">Development</a>, <a href=\"https://coreyms.com/category/development/python\" rel=\"category tag\">Python</a></span> <span class=\"entry-tags\">Tagged With: <a href=\"https://coreyms.com/tag/common-errors\" rel=\"tag\">common errors</a>, <a href=\"https://coreyms.com/tag/common-mistakes\" rel=\"tag\">common mistakes</a>, <a href=\"https://coreyms.com/tag/functions\" rel=\"tag\">functions</a>, <a href=\"https://coreyms.com/tag/mutable-default-arguments\" rel=\"tag\">mutable default arguments</a></span></p></footer></article>\n"
          ],
          "name": "stdout"
        }
      ]
    },
    {
      "cell_type": "code",
      "metadata": {
        "id": "2FjY67Kg0fCg"
      },
      "source": [
        ""
      ],
      "execution_count": null,
      "outputs": []
    },
    {
      "cell_type": "code",
      "metadata": {
        "colab": {
          "base_uri": "https://localhost:8080/"
        },
        "id": "ARbmZXGTzScS",
        "outputId": "0411982a-50f0-4104-84f2-980e9956d0b1"
      },
      "source": [
        "headline=article.h2.a.text\n",
        "print(headline)"
      ],
      "execution_count": null,
      "outputs": [
        {
          "output_type": "stream",
          "text": [
            "Clarifying the Issues with Mutable Default Arguments\n"
          ],
          "name": "stdout"
        }
      ]
    },
    {
      "cell_type": "code",
      "metadata": {
        "colab": {
          "base_uri": "https://localhost:8080/"
        },
        "id": "Xuxw0U4vzZ4H",
        "outputId": "03adca94-b1ba-4c88-fe4f-44ee0e3a78cd"
      },
      "source": [
        "summary=article.find('div',class_='entry-content').p.text\n",
        "print(summary)"
      ],
      "execution_count": null,
      "outputs": [
        {
          "output_type": "stream",
          "text": [
            "In this Python Programming Tutorial, we will be clarifying the issues with mutable default arguments. We discussed this in my last video titled “5 Common Python Mistakes and How to Fix Them”, but I received many comments from people who were still confused. So we will be doing a deeper dive to explain exactly what is going on here. Let’s get started…\n"
          ],
          "name": "stdout"
        }
      ]
    },
    {
      "cell_type": "code",
      "metadata": {
        "colab": {
          "base_uri": "https://localhost:8080/",
          "height": 129
        },
        "id": "dZA3HTtWz2rU",
        "outputId": "acc961d1-46b6-41db-adf0-0dd7dad94907"
      },
      "source": [
        "vid_src=article.find('iframe',class='youtube-player')\n",
        "print(vid_src)"
      ],
      "execution_count": null,
      "outputs": [
        {
          "output_type": "error",
          "ename": "SyntaxError",
          "evalue": "ignored",
          "traceback": [
            "\u001b[0;36m  File \u001b[0;32m\"<ipython-input-34-b1033d8dcf95>\"\u001b[0;36m, line \u001b[0;32m1\u001b[0m\n\u001b[0;31m    vid_src=article.find('iframe',class='youtube-player')\u001b[0m\n\u001b[0m                                      ^\u001b[0m\n\u001b[0;31mSyntaxError\u001b[0m\u001b[0;31m:\u001b[0m invalid syntax\n"
          ]
        }
      ]
    },
    {
      "cell_type": "code",
      "metadata": {
        "id": "ntjhTXf40Vw9"
      },
      "source": [
        "from transformers import MBartForConditionalGeneration, MBartTokenizer\n",
        "model = MBartForConditionalGeneration.from_pretrained(\"facebook/mbart-large-en-ro\")\n",
        "tokenizer = MBartTokenizer.from_pretrained(\"facebook/mbart-large-en-ro\")\n",
        "article = \"UN Chief Says There Is No Military Solution in Syria\"\n",
        "batch = tokenizer.prepare_seq2seq_batch(src_texts=[article], src_lang=\"en_XX\", return_tensors=\"pt\")\n",
        "translated_tokens = model.generate(**batch, decoder_start_token_id=tokenizer.lang_code_to_id[\"ro_RO\"])\n",
        "translation = tokenizer.batch_decode(translated_tokens, skip_special_tokens=True)[0]\n",
        "assert translation == \"Şeful ONU declară că nu există o soluţie militară în Siria\""
      ],
      "execution_count": null,
      "outputs": []
    },
    {
      "cell_type": "code",
      "metadata": {
        "colab": {
          "base_uri": "https://localhost:8080/"
        },
        "id": "UomWwt5F1p6n",
        "outputId": "a45c6f7a-f9fd-432c-e10e-5760fee1ac73"
      },
      "source": [
        "!pip install transformers"
      ],
      "execution_count": null,
      "outputs": [
        {
          "output_type": "stream",
          "text": [
            "Collecting transformers\n",
            "\u001b[?25l  Downloading https://files.pythonhosted.org/packages/f9/54/5ca07ec9569d2f232f3166de5457b63943882f7950ddfcc887732fc7fb23/transformers-4.3.3-py3-none-any.whl (1.9MB)\n",
            "\u001b[K     |████████████████████████████████| 1.9MB 9.1MB/s \n",
            "\u001b[?25hCollecting tokenizers<0.11,>=0.10.1\n",
            "\u001b[?25l  Downloading https://files.pythonhosted.org/packages/71/23/2ddc317b2121117bf34dd00f5b0de194158f2a44ee2bf5e47c7166878a97/tokenizers-0.10.1-cp37-cp37m-manylinux2010_x86_64.whl (3.2MB)\n",
            "\u001b[K     |████████████████████████████████| 3.2MB 47.7MB/s \n",
            "\u001b[?25hRequirement already satisfied: packaging in /usr/local/lib/python3.7/dist-packages (from transformers) (20.9)\n",
            "Requirement already satisfied: regex!=2019.12.17 in /usr/local/lib/python3.7/dist-packages (from transformers) (2019.12.20)\n",
            "Collecting sacremoses\n",
            "\u001b[?25l  Downloading https://files.pythonhosted.org/packages/7d/34/09d19aff26edcc8eb2a01bed8e98f13a1537005d31e95233fd48216eed10/sacremoses-0.0.43.tar.gz (883kB)\n",
            "\u001b[K     |████████████████████████████████| 890kB 51.3MB/s \n",
            "\u001b[?25hRequirement already satisfied: numpy>=1.17 in /usr/local/lib/python3.7/dist-packages (from transformers) (1.19.5)\n",
            "Requirement already satisfied: requests in /usr/local/lib/python3.7/dist-packages (from transformers) (2.23.0)\n",
            "Requirement already satisfied: tqdm>=4.27 in /usr/local/lib/python3.7/dist-packages (from transformers) (4.41.1)\n",
            "Requirement already satisfied: filelock in /usr/local/lib/python3.7/dist-packages (from transformers) (3.0.12)\n",
            "Requirement already satisfied: importlib-metadata; python_version < \"3.8\" in /usr/local/lib/python3.7/dist-packages (from transformers) (3.7.0)\n",
            "Requirement already satisfied: pyparsing>=2.0.2 in /usr/local/lib/python3.7/dist-packages (from packaging->transformers) (2.4.7)\n",
            "Requirement already satisfied: six in /usr/local/lib/python3.7/dist-packages (from sacremoses->transformers) (1.15.0)\n",
            "Requirement already satisfied: click in /usr/local/lib/python3.7/dist-packages (from sacremoses->transformers) (7.1.2)\n",
            "Requirement already satisfied: joblib in /usr/local/lib/python3.7/dist-packages (from sacremoses->transformers) (1.0.1)\n",
            "Requirement already satisfied: chardet<4,>=3.0.2 in /usr/local/lib/python3.7/dist-packages (from requests->transformers) (3.0.4)\n",
            "Requirement already satisfied: certifi>=2017.4.17 in /usr/local/lib/python3.7/dist-packages (from requests->transformers) (2020.12.5)\n",
            "Requirement already satisfied: idna<3,>=2.5 in /usr/local/lib/python3.7/dist-packages (from requests->transformers) (2.10)\n",
            "Requirement already satisfied: urllib3!=1.25.0,!=1.25.1,<1.26,>=1.21.1 in /usr/local/lib/python3.7/dist-packages (from requests->transformers) (1.24.3)\n",
            "Requirement already satisfied: zipp>=0.5 in /usr/local/lib/python3.7/dist-packages (from importlib-metadata; python_version < \"3.8\"->transformers) (3.4.0)\n",
            "Requirement already satisfied: typing-extensions>=3.6.4; python_version < \"3.8\" in /usr/local/lib/python3.7/dist-packages (from importlib-metadata; python_version < \"3.8\"->transformers) (3.7.4.3)\n",
            "Building wheels for collected packages: sacremoses\n",
            "  Building wheel for sacremoses (setup.py) ... \u001b[?25l\u001b[?25hdone\n",
            "  Created wheel for sacremoses: filename=sacremoses-0.0.43-cp37-none-any.whl size=893262 sha256=42ffd13f30f7ff787be2d70ba28cada65f75ab58e45c7ffb930bdd9b16405dda\n",
            "  Stored in directory: /root/.cache/pip/wheels/29/3c/fd/7ce5c3f0666dab31a50123635e6fb5e19ceb42ce38d4e58f45\n",
            "Successfully built sacremoses\n",
            "Installing collected packages: tokenizers, sacremoses, transformers\n",
            "Successfully installed sacremoses-0.0.43 tokenizers-0.10.1 transformers-4.3.3\n"
          ],
          "name": "stdout"
        }
      ]
    },
    {
      "cell_type": "code",
      "metadata": {
        "colab": {
          "base_uri": "https://localhost:8080/"
        },
        "id": "5g8huN6x11Sf",
        "outputId": "fc41c078-3067-4bcd-fb71-a13003874e41"
      },
      "source": [
        "!pip install -q streamlit\n",
        "!pip install -q sentencepiece\n",
        "!pip install torch"
      ],
      "execution_count": null,
      "outputs": [
        {
          "output_type": "stream",
          "text": [
            "\u001b[K     |████████████████████████████████| 7.5MB 6.7MB/s \n",
            "\u001b[K     |████████████████████████████████| 81kB 10.6MB/s \n",
            "\u001b[K     |████████████████████████████████| 4.6MB 52.4MB/s \n",
            "\u001b[K     |████████████████████████████████| 163kB 53.7MB/s \n",
            "\u001b[K     |████████████████████████████████| 112kB 39.6MB/s \n",
            "\u001b[K     |████████████████████████████████| 122kB 51.9MB/s \n",
            "\u001b[K     |████████████████████████████████| 71kB 9.5MB/s \n",
            "\u001b[?25h  Building wheel for blinker (setup.py) ... \u001b[?25l\u001b[?25hdone\n",
            "\u001b[31mERROR: google-colab 1.0.0 has requirement ipykernel~=4.10, but you'll have ipykernel 5.5.0 which is incompatible.\u001b[0m\n",
            "\u001b[K     |████████████████████████████████| 1.2MB 8.5MB/s \n",
            "\u001b[?25hRequirement already satisfied: torch in /usr/local/lib/python3.7/dist-packages (1.7.1+cu101)\n",
            "Requirement already satisfied: numpy in /usr/local/lib/python3.7/dist-packages (from torch) (1.19.5)\n",
            "Requirement already satisfied: typing-extensions in /usr/local/lib/python3.7/dist-packages (from torch) (3.7.4.3)\n"
          ],
          "name": "stdout"
        }
      ]
    },
    {
      "cell_type": "code",
      "metadata": {
        "id": "wddAfQwr3nMn"
      },
      "source": [
        "from transformers import MBartTokenizer, MBartModel"
      ],
      "execution_count": null,
      "outputs": []
    },
    {
      "cell_type": "code",
      "metadata": {
        "colab": {
          "base_uri": "https://localhost:8080/",
          "height": 68,
          "referenced_widgets": [
            "6a029315fa1a440eab51f7f6f3710f22"
          ]
        },
        "id": "syOJHpNw3dLv",
        "outputId": "c1e90b12-a322-4f88-b18b-2738ba5cb074"
      },
      "source": [
        "\n",
        "tokenizer = MBartTokenizer.from_pretrained('facebook/mbart-large-cc25')\n",
        "type(tokenizer)"
      ],
      "execution_count": null,
      "outputs": [
        {
          "output_type": "display_data",
          "data": {
            "application/vnd.jupyter.widget-view+json": {
              "model_id": "6a029315fa1a440eab51f7f6f3710f22",
              "version_minor": 0,
              "version_major": 2
            },
            "text/plain": [
              "HBox(children=(FloatProgress(value=0.0, description='Downloading', max=5069051.0, style=ProgressStyle(descript…"
            ]
          },
          "metadata": {
            "tags": []
          }
        },
        {
          "output_type": "stream",
          "text": [
            "\n"
          ],
          "name": "stdout"
        },
        {
          "output_type": "execute_result",
          "data": {
            "text/plain": [
              "transformers.models.mbart.tokenization_mbart.MBartTokenizer"
            ]
          },
          "metadata": {
            "tags": []
          },
          "execution_count": 4
        }
      ]
    },
    {
      "cell_type": "code",
      "metadata": {
        "id": "6jjxVN8A3Z7r"
      },
      "source": [
        "inputs = tokenizer(\"Hello, my dog is cute\", return_tensors=\"pt\")\n",
        "outputs = model(**inputs)\n",
        "\n",
        "last_hidden_states = outputs.last_hidden_state"
      ],
      "execution_count": null,
      "outputs": []
    },
    {
      "cell_type": "code",
      "metadata": {
        "id": "RAKlgXt43Z0v"
      },
      "source": [
        ""
      ],
      "execution_count": null,
      "outputs": []
    },
    {
      "cell_type": "code",
      "metadata": {
        "id": "ElxCueyk1lj4",
        "colab": {
          "base_uri": "https://localhost:8080/"
        },
        "outputId": "447c097a-a413-4c1d-ed69-4be143801775"
      },
      "source": [
        "last_hidden_states"
      ],
      "execution_count": null,
      "outputs": [
        {
          "output_type": "execute_result",
          "data": {
            "text/plain": [
              "tensor([[[-0.4387, -1.4460, -1.4052,  ..., -1.3643,  1.5662,  0.7186],\n",
              "         [ 0.0815, -2.8804, -4.7890,  ..., -2.7032,  4.4430, -0.3229],\n",
              "         [-0.4037, -3.0863, -4.9929,  ..., -2.5011,  5.3820,  0.2388],\n",
              "         ...,\n",
              "         [-2.0110, -3.3365, -3.2243,  ..., -2.7510,  6.5849,  3.6755],\n",
              "         [-1.4379, -2.0936, -3.7365,  ..., -1.2772,  7.4527,  1.9177],\n",
              "         [-1.7778, -2.2145, -4.2143,  ..., -3.5878,  5.9127,  0.6524]]],\n",
              "       grad_fn=<NativeLayerNormBackward>)"
            ]
          },
          "metadata": {
            "tags": []
          },
          "execution_count": 6
        }
      ]
    },
    {
      "cell_type": "code",
      "metadata": {
        "id": "M3CF4hU-2GnJ",
        "colab": {
          "base_uri": "https://localhost:8080/",
          "height": 35
        },
        "outputId": "728a7850-fd4f-49c4-8956-6b69d90b198e"
      },
      "source": [
        "from transformers import MBartForConditionalGeneration, MBartTokenizer\n",
        "\n",
        "tokenizer = MBartTokenizer.from_pretrained(\"facebook/mbart-large-en-ro\", src_lang=\"en_XX\")\n",
        "article = \"UN Chief Says There Is No Military Solution in Syria\"\n",
        "inputs = tokenizer(article, return_tensors=\"pt\")\n",
        "model = MBartForConditionalGeneration.from_pretrained(\"facebook/mbart-large-en-ro\")\n",
        "translated_tokens = model.generate(**inputs, decoder_start_token_id=tokenizer.lang_code_to_id[\"ro_RO\"])\n",
        "tokenizer.batch_decode(translated_tokens, skip_special_tokens=True)[0]"
      ],
      "execution_count": null,
      "outputs": [
        {
          "output_type": "execute_result",
          "data": {
            "application/vnd.google.colaboratory.intrinsic+json": {
              "type": "string"
            },
            "text/plain": [
              "'Şeful ONU declară că nu există o soluţie militară în Siria'"
            ]
          },
          "metadata": {
            "tags": []
          },
          "execution_count": 6
        }
      ]
    },
    {
      "cell_type": "code",
      "metadata": {
        "id": "AqIoy_bM7_hR",
        "colab": {
          "base_uri": "https://localhost:8080/",
          "height": 163
        },
        "outputId": "68c2cfe4-afa5-46d3-cf77-150ed1d3236b"
      },
      "source": [
        "from transformers import MBartForConditionalGeneration, MBartTokenizer\n",
        "\n",
        "tokenizer = MBartTokenizer.from_pretrained(\"facebook/mbart-large-en-ro\", src_lang=\"en_XX\")\n",
        "article = \"UN Chief Says There Is No Military Solution in Syria\"\n",
        "inputs = tokenizer(article, return_tensors=\"pt\")\n",
        "model = MBartForConditionalGeneration.from_pretrained(\"facebook/mbart-large-en-ro\")\n",
        "translated_tokens = model.generate(**inputs, decoder_start_token_id=tokenizer.lang_code_to_id[\"ro_RO\"])\n",
        "tokenizer.batch_decode(translated_tokens, skip_special_tokens=True)[0]"
      ],
      "execution_count": null,
      "outputs": [
        {
          "output_type": "error",
          "ename": "NameError",
          "evalue": "ignored",
          "traceback": [
            "\u001b[0;31m---------------------------------------------------------------------------\u001b[0m",
            "\u001b[0;31mNameError\u001b[0m                                 Traceback (most recent call last)",
            "\u001b[0;32m<ipython-input-2-e4df9c189f31>\u001b[0m in \u001b[0;36m<module>\u001b[0;34m()\u001b[0m\n\u001b[0;32m----> 1\u001b[0;31m \u001b[0mmodel\u001b[0m\u001b[0;34m.\u001b[0m\u001b[0msave_pretrained\u001b[0m\u001b[0;34m(\u001b[0m\u001b[0;34m'/content/drive/MyDrive/Startover/mbart50/model'\u001b[0m\u001b[0;34m)\u001b[0m\u001b[0;34m\u001b[0m\u001b[0;34m\u001b[0m\u001b[0m\n\u001b[0m",
            "\u001b[0;31mNameError\u001b[0m: name 'model' is not defined"
          ]
        }
      ]
    },
    {
      "cell_type": "code",
      "metadata": {
        "colab": {
          "base_uri": "https://localhost:8080/",
          "height": 163
        },
        "id": "F4xt1sJN9ecl",
        "outputId": "17a046d8-e0ff-48ab-c74e-73bf45bf5d4e"
      },
      "source": [
        ""
      ],
      "execution_count": null,
      "outputs": [
        {
          "output_type": "error",
          "ename": "NameError",
          "evalue": "ignored",
          "traceback": [
            "\u001b[0;31m---------------------------------------------------------------------------\u001b[0m",
            "\u001b[0;31mNameError\u001b[0m                                 Traceback (most recent call last)",
            "\u001b[0;32m<ipython-input-3-f33f6de40964>\u001b[0m in \u001b[0;36m<module>\u001b[0;34m()\u001b[0m\n\u001b[0;32m----> 1\u001b[0;31m \u001b[0mtokenizer\u001b[0m\u001b[0;34m.\u001b[0m\u001b[0msave_pretrained\u001b[0m\u001b[0;34m(\u001b[0m\u001b[0;34m'/content/drive/MyDrive/Startover/mbart50/tokenizer'\u001b[0m\u001b[0;34m)\u001b[0m\u001b[0;34m\u001b[0m\u001b[0;34m\u001b[0m\u001b[0m\n\u001b[0m",
            "\u001b[0;31mNameError\u001b[0m: name 'tokenizer' is not defined"
          ]
        }
      ]
    },
    {
      "cell_type": "code",
      "metadata": {
        "colab": {
          "base_uri": "https://localhost:8080/"
        },
        "id": "YoJogal_pK6e",
        "outputId": "60a7cc2e-3950-4bb7-c758-b1122a9ee7f6"
      },
      "source": [
        "!pip install transformers\n"
      ],
      "execution_count": null,
      "outputs": [
        {
          "output_type": "stream",
          "text": [
            "Collecting transformers\n",
            "\u001b[?25l  Downloading https://files.pythonhosted.org/packages/f9/54/5ca07ec9569d2f232f3166de5457b63943882f7950ddfcc887732fc7fb23/transformers-4.3.3-py3-none-any.whl (1.9MB)\n",
            "\u001b[K     |████████████████████████████████| 1.9MB 16.5MB/s \n",
            "\u001b[?25hCollecting tokenizers<0.11,>=0.10.1\n",
            "\u001b[?25l  Downloading https://files.pythonhosted.org/packages/71/23/2ddc317b2121117bf34dd00f5b0de194158f2a44ee2bf5e47c7166878a97/tokenizers-0.10.1-cp37-cp37m-manylinux2010_x86_64.whl (3.2MB)\n",
            "\u001b[K     |████████████████████████████████| 3.2MB 49.5MB/s \n",
            "\u001b[?25hRequirement already satisfied: numpy>=1.17 in /usr/local/lib/python3.7/dist-packages (from transformers) (1.19.5)\n",
            "Requirement already satisfied: filelock in /usr/local/lib/python3.7/dist-packages (from transformers) (3.0.12)\n",
            "Requirement already satisfied: requests in /usr/local/lib/python3.7/dist-packages (from transformers) (2.23.0)\n",
            "Requirement already satisfied: packaging in /usr/local/lib/python3.7/dist-packages (from transformers) (20.9)\n",
            "Requirement already satisfied: regex!=2019.12.17 in /usr/local/lib/python3.7/dist-packages (from transformers) (2019.12.20)\n",
            "Requirement already satisfied: importlib-metadata; python_version < \"3.8\" in /usr/local/lib/python3.7/dist-packages (from transformers) (3.7.0)\n",
            "Requirement already satisfied: tqdm>=4.27 in /usr/local/lib/python3.7/dist-packages (from transformers) (4.41.1)\n",
            "Collecting sacremoses\n",
            "\u001b[?25l  Downloading https://files.pythonhosted.org/packages/7d/34/09d19aff26edcc8eb2a01bed8e98f13a1537005d31e95233fd48216eed10/sacremoses-0.0.43.tar.gz (883kB)\n",
            "\u001b[K     |████████████████████████████████| 890kB 51.9MB/s \n",
            "\u001b[?25hRequirement already satisfied: chardet<4,>=3.0.2 in /usr/local/lib/python3.7/dist-packages (from requests->transformers) (3.0.4)\n",
            "Requirement already satisfied: urllib3!=1.25.0,!=1.25.1,<1.26,>=1.21.1 in /usr/local/lib/python3.7/dist-packages (from requests->transformers) (1.24.3)\n",
            "Requirement already satisfied: idna<3,>=2.5 in /usr/local/lib/python3.7/dist-packages (from requests->transformers) (2.10)\n",
            "Requirement already satisfied: certifi>=2017.4.17 in /usr/local/lib/python3.7/dist-packages (from requests->transformers) (2020.12.5)\n",
            "Requirement already satisfied: pyparsing>=2.0.2 in /usr/local/lib/python3.7/dist-packages (from packaging->transformers) (2.4.7)\n",
            "Requirement already satisfied: zipp>=0.5 in /usr/local/lib/python3.7/dist-packages (from importlib-metadata; python_version < \"3.8\"->transformers) (3.4.0)\n",
            "Requirement already satisfied: typing-extensions>=3.6.4; python_version < \"3.8\" in /usr/local/lib/python3.7/dist-packages (from importlib-metadata; python_version < \"3.8\"->transformers) (3.7.4.3)\n",
            "Requirement already satisfied: six in /usr/local/lib/python3.7/dist-packages (from sacremoses->transformers) (1.15.0)\n",
            "Requirement already satisfied: click in /usr/local/lib/python3.7/dist-packages (from sacremoses->transformers) (7.1.2)\n",
            "Requirement already satisfied: joblib in /usr/local/lib/python3.7/dist-packages (from sacremoses->transformers) (1.0.1)\n",
            "Building wheels for collected packages: sacremoses\n",
            "  Building wheel for sacremoses (setup.py) ... \u001b[?25l\u001b[?25hdone\n",
            "  Created wheel for sacremoses: filename=sacremoses-0.0.43-cp37-none-any.whl size=893262 sha256=842ff98e1d49811060fda41fbd6cbe45caa7832a9c9a815b411fef5efb1e9598\n",
            "  Stored in directory: /root/.cache/pip/wheels/29/3c/fd/7ce5c3f0666dab31a50123635e6fb5e19ceb42ce38d4e58f45\n",
            "Successfully built sacremoses\n",
            "Installing collected packages: tokenizers, sacremoses, transformers\n",
            "Successfully installed sacremoses-0.0.43 tokenizers-0.10.1 transformers-4.3.3\n",
            "\u001b[K     |████████████████████████████████| 7.5MB 19.8MB/s \n",
            "\u001b[K     |████████████████████████████████| 4.6MB 47.5MB/s \n",
            "\u001b[K     |████████████████████████████████| 81kB 10.9MB/s \n",
            "\u001b[K     |████████████████████████████████| 163kB 58.5MB/s \n",
            "\u001b[K     |████████████████████████████████| 112kB 60.3MB/s \n",
            "\u001b[K     |████████████████████████████████| 122kB 51.9MB/s \n",
            "\u001b[K     |████████████████████████████████| 71kB 10.4MB/s \n",
            "\u001b[?25h  Building wheel for blinker (setup.py) ... \u001b[?25l\u001b[?25hdone\n",
            "\u001b[31mERROR: google-colab 1.0.0 has requirement ipykernel~=4.10, but you'll have ipykernel 5.5.0 which is incompatible.\u001b[0m\n",
            "\u001b[K     |████████████████████████████████| 1.2MB 18.8MB/s \n",
            "\u001b[?25hRequirement already satisfied: torch in /usr/local/lib/python3.7/dist-packages (1.7.1+cu101)\n",
            "Requirement already satisfied: typing-extensions in /usr/local/lib/python3.7/dist-packages (from torch) (3.7.4.3)\n",
            "Requirement already satisfied: numpy in /usr/local/lib/python3.7/dist-packages (from torch) (1.19.5)\n"
          ],
          "name": "stdout"
        }
      ]
    },
    {
      "cell_type": "code",
      "metadata": {
        "id": "N1BykI8ipKrS"
      },
      "source": [
        "from transformers import MBartForConditionalGeneration, MBartTokenizer"
      ],
      "execution_count": null,
      "outputs": []
    },
    {
      "cell_type": "code",
      "metadata": {
        "id": "tCNZY1nipWAO"
      },
      "source": [
        "article = \"UN Chief Says There Is No Military Solution in Syria\"\n"
      ],
      "execution_count": null,
      "outputs": []
    },
    {
      "cell_type": "code",
      "metadata": {
        "colab": {
          "base_uri": "https://localhost:8080/"
        },
        "id": "ykI44KO23y2v",
        "outputId": "9758bb48-8c08-4a6e-9837-2f551e0f44d9"
      },
      "source": [
        "tokenizer = MBartTokenizer.from_pretrained(\"/content/drive/MyDrive/Startover/mbart50/tokenizer\", src_lang=\"en_XX\")\n",
        "type(tokenizer)"
      ],
      "execution_count": null,
      "outputs": [
        {
          "output_type": "execute_result",
          "data": {
            "text/plain": [
              "NoneType"
            ]
          },
          "metadata": {
            "tags": []
          },
          "execution_count": 20
        }
      ]
    },
    {
      "cell_type": "code",
      "metadata": {
        "id": "tUcvo0r031TX"
      },
      "source": [
        ""
      ],
      "execution_count": null,
      "outputs": []
    },
    {
      "cell_type": "code",
      "metadata": {
        "colab": {
          "base_uri": "https://localhost:8080/",
          "height": 214
        },
        "id": "AHPWfsvnpUAm",
        "outputId": "31145b1e-92db-4888-b229-c322e593c0d0"
      },
      "source": [
        "inputs = tokenizer(article, return_tensors=\"pt\")\n",
        "model = MBartForConditionalGeneration.from_pretrained(\"/content/drive/MyDrive/Startover/mbart50/model\")"
      ],
      "execution_count": null,
      "outputs": [
        {
          "output_type": "error",
          "ename": "TypeError",
          "evalue": "ignored",
          "traceback": [
            "\u001b[0;31m---------------------------------------------------------------------------\u001b[0m",
            "\u001b[0;31mTypeError\u001b[0m                                 Traceback (most recent call last)",
            "\u001b[0;32m<ipython-input-18-2b7097c773c4>\u001b[0m in \u001b[0;36m<module>\u001b[0;34m()\u001b[0m\n\u001b[1;32m      1\u001b[0m \u001b[0mtokenizer\u001b[0m \u001b[0;34m=\u001b[0m \u001b[0mMBartTokenizer\u001b[0m\u001b[0;34m.\u001b[0m\u001b[0mfrom_pretrained\u001b[0m\u001b[0;34m(\u001b[0m\u001b[0;34m\"/content/drive/MyDrive/Startover/mbart50/tokenizer\"\u001b[0m\u001b[0;34m,\u001b[0m \u001b[0msrc_lang\u001b[0m\u001b[0;34m=\u001b[0m\u001b[0;34m\"en_XX\"\u001b[0m\u001b[0;34m)\u001b[0m\u001b[0;34m\u001b[0m\u001b[0;34m\u001b[0m\u001b[0m\n\u001b[1;32m      2\u001b[0m \u001b[0;34m\u001b[0m\u001b[0m\n\u001b[0;32m----> 3\u001b[0;31m \u001b[0minputs\u001b[0m \u001b[0;34m=\u001b[0m \u001b[0mtokenizer\u001b[0m\u001b[0;34m(\u001b[0m\u001b[0marticle\u001b[0m\u001b[0;34m,\u001b[0m \u001b[0mreturn_tensors\u001b[0m\u001b[0;34m=\u001b[0m\u001b[0;34m\"pt\"\u001b[0m\u001b[0;34m)\u001b[0m\u001b[0;34m\u001b[0m\u001b[0;34m\u001b[0m\u001b[0m\n\u001b[0m\u001b[1;32m      4\u001b[0m \u001b[0mmodel\u001b[0m \u001b[0;34m=\u001b[0m \u001b[0mMBartForConditionalGeneration\u001b[0m\u001b[0;34m.\u001b[0m\u001b[0mfrom_pretrained\u001b[0m\u001b[0;34m(\u001b[0m\u001b[0;34m\"/content/drive/MyDrive/Startover/mbart50/model\"\u001b[0m\u001b[0;34m)\u001b[0m\u001b[0;34m\u001b[0m\u001b[0;34m\u001b[0m\u001b[0m\n",
            "\u001b[0;31mTypeError\u001b[0m: 'NoneType' object is not callable"
          ]
        }
      ]
    },
    {
      "cell_type": "code",
      "metadata": {
        "id": "mrbIese0vf8U"
      },
      "source": [
        "type(tokenizer)"
      ],
      "execution_count": null,
      "outputs": []
    },
    {
      "cell_type": "code",
      "metadata": {
        "colab": {
          "base_uri": "https://localhost:8080/",
          "height": 299
        },
        "id": "5f8VU9Mcvf47",
        "outputId": "e1d7ead4-9f24-41a0-e873-3e78cedd0fc6"
      },
      "source": [
        " from transformers import MBartForConditionalGeneration,MBart50TokenizerFast"
      ],
      "execution_count": null,
      "outputs": [
        {
          "output_type": "error",
          "ename": "ImportError",
          "evalue": "ignored",
          "traceback": [
            "\u001b[0;31m---------------------------------------------------------------------------\u001b[0m",
            "\u001b[0;31mImportError\u001b[0m                               Traceback (most recent call last)",
            "\u001b[0;32m<ipython-input-10-b06342a0c8f8>\u001b[0m in \u001b[0;36m<module>\u001b[0;34m()\u001b[0m\n\u001b[0;32m----> 1\u001b[0;31m \u001b[0;32mfrom\u001b[0m \u001b[0mtransformers\u001b[0m \u001b[0;32mimport\u001b[0m \u001b[0mMBartForConditionalGeneration\u001b[0m\u001b[0;34m,\u001b[0m\u001b[0mMBart50TokenizerFast\u001b[0m\u001b[0;34m\u001b[0m\u001b[0;34m\u001b[0m\u001b[0m\n\u001b[0m",
            "\u001b[0;31mImportError\u001b[0m: cannot import name 'MBart50TokenizerFast' from 'transformers' (unknown location)",
            "",
            "\u001b[0;31m---------------------------------------------------------------------------\u001b[0;32m\nNOTE: If your import is failing due to a missing package, you can\nmanually install dependencies using either !pip or !apt.\n\nTo view examples of installing some common dependencies, click the\n\"Open Examples\" button below.\n\u001b[0;31m---------------------------------------------------------------------------\u001b[0m\n"
          ]
        }
      ]
    },
    {
      "cell_type": "code",
      "metadata": {
        "id": "DbcZvGUIvf1j"
      },
      "source": [
        ""
      ],
      "execution_count": null,
      "outputs": []
    },
    {
      "cell_type": "code",
      "metadata": {
        "colab": {
          "base_uri": "https://localhost:8080/",
          "height": 329,
          "referenced_widgets": [
            "4ccb36af3d41429fa2604e95a6883eca",
            "defb66eec1af4ecca6d89e68925f3131",
            "201a7feebc1b4a538c658289a950b0c4",
            "25433cb7fa5049f494c443cca8ee2e75",
            "3745b59658e74d59a3e482447672a876",
            "df2fd02d865c495ead8bad4398b54990",
            "92a4678b7dd44cd1a609ec15fd242691",
            "6ddd4dff4e8b4ce6876da17dea0ba855",
            "6cb05c8f342b4e35b5ab7972a803fcaf",
            "a099c2e367a94a3fb81d817c96640bef",
            "9c4fcc09266543cdb78097dab4d3031d",
            "36769b8f595f418ba5813a4750ac8136",
            "e6e0ba8624da402aac04127194bd4bdc",
            "fc39a74047b543acb63ea749cd0c2ac1",
            "a9480ff2c0d1443cad11edd5cbf5c3bc",
            "dc7b472cef304834af9c653845ab861c"
          ]
        },
        "id": "CY35mQiK4sdo",
        "outputId": "145bf969-8887-4362-a816-ff96ed4ecfeb"
      },
      "source": [
        ""
      ],
      "execution_count": null,
      "outputs": [
        {
          "output_type": "display_data",
          "data": {
            "application/vnd.jupyter.widget-view+json": {
              "model_id": "4ccb36af3d41429fa2604e95a6883eca",
              "version_minor": 0,
              "version_major": 2
            },
            "text/plain": [
              "HBox(children=(FloatProgress(value=0.0, description='Downloading', max=1388.0, style=ProgressStyle(description…"
            ]
          },
          "metadata": {
            "tags": []
          }
        },
        {
          "output_type": "stream",
          "text": [
            "\n"
          ],
          "name": "stdout"
        },
        {
          "output_type": "display_data",
          "data": {
            "application/vnd.jupyter.widget-view+json": {
              "model_id": "6cb05c8f342b4e35b5ab7972a803fcaf",
              "version_minor": 0,
              "version_major": 2
            },
            "text/plain": [
              "HBox(children=(FloatProgress(value=0.0, description='Downloading', max=2444714899.0, style=ProgressStyle(descr…"
            ]
          },
          "metadata": {
            "tags": []
          }
        },
        {
          "output_type": "stream",
          "text": [
            "\n"
          ],
          "name": "stdout"
        },
        {
          "output_type": "error",
          "ename": "NameError",
          "evalue": "ignored",
          "traceback": [
            "\u001b[0;31m---------------------------------------------------------------------------\u001b[0m",
            "\u001b[0;31mNameError\u001b[0m                                 Traceback (most recent call last)",
            "\u001b[0;32m<ipython-input-9-cb1d22ffa91f>\u001b[0m in \u001b[0;36m<module>\u001b[0;34m()\u001b[0m\n\u001b[1;32m      4\u001b[0m \u001b[0;34m\u001b[0m\u001b[0m\n\u001b[1;32m      5\u001b[0m \u001b[0mmodel\u001b[0m \u001b[0;34m=\u001b[0m \u001b[0mMBartForConditionalGeneration\u001b[0m\u001b[0;34m.\u001b[0m\u001b[0mfrom_pretrained\u001b[0m\u001b[0;34m(\u001b[0m\u001b[0;34m\"facebook/mbart-large-50-many-to-many-mmt\"\u001b[0m\u001b[0;34m)\u001b[0m\u001b[0;34m\u001b[0m\u001b[0;34m\u001b[0m\u001b[0m\n\u001b[0;32m----> 6\u001b[0;31m \u001b[0mtokenizer\u001b[0m \u001b[0;34m=\u001b[0m \u001b[0mMBart50TokenizerFast\u001b[0m\u001b[0;34m.\u001b[0m\u001b[0mfrom_pretrained\u001b[0m\u001b[0;34m(\u001b[0m\u001b[0;34m\"facebook/mbart-large-50-many-to-many-mmt\"\u001b[0m\u001b[0;34m)\u001b[0m\u001b[0;34m\u001b[0m\u001b[0;34m\u001b[0m\u001b[0m\n\u001b[0m\u001b[1;32m      7\u001b[0m \u001b[0;34m\u001b[0m\u001b[0m\n\u001b[1;32m      8\u001b[0m \u001b[0;31m# translate Hindi to French\u001b[0m\u001b[0;34m\u001b[0m\u001b[0;34m\u001b[0m\u001b[0;34m\u001b[0m\u001b[0m\n",
            "\u001b[0;31mNameError\u001b[0m: name 'MBart50TokenizerFast' is not defined"
          ]
        }
      ]
    },
    {
      "cell_type": "code",
      "metadata": {
        "id": "XWw_2ahe4saS"
      },
      "source": [
        "model.save_pretrained('/content/drive/MyDrive/Startover/mbart50/model')\n",
        "tokenizer.save_pretrained('/content/drive/MyDrive/Startover/mbart50/tokenizer')"
      ],
      "execution_count": null,
      "outputs": []
    },
    {
      "cell_type": "code",
      "metadata": {
        "id": "hCmeDX6V4sXu"
      },
      "source": [
        ""
      ],
      "execution_count": null,
      "outputs": []
    },
    {
      "cell_type": "code",
      "metadata": {
        "id": "iw7kiY9P4sUC"
      },
      "source": [
        "import transformers"
      ],
      "execution_count": null,
      "outputs": []
    },
    {
      "cell_type": "code",
      "metadata": {
        "id": "VaSBDP1M4sQq"
      },
      "source": [
        ""
      ],
      "execution_count": null,
      "outputs": []
    },
    {
      "cell_type": "code",
      "metadata": {
        "id": "3To3ybwP4sL0",
        "colab": {
          "base_uri": "https://localhost:8080/",
          "height": 367
        },
        "outputId": "c431f593-e9ce-426a-e9d5-b065ca78499c"
      },
      "source": [
        "from transformers import MBartForConditionalGeneration, MBart50Tokenizer\n",
        "import streamlit as st\n",
        "\n",
        "@st.cache(allow_output_mutation=True, suppress_st_warning=True)\n",
        "def download_model():\n",
        "    model_name = \"facebook/mbart-large-50-many-to-many-mmt\"\n",
        "    model = MBartForConditionalGeneration.from_pretrained(model_name)\n",
        "    tokenizer = MBart50Tokenizer.from_pretrained(model_name)\n",
        "    return model, tokenizer\n",
        "\n",
        "st.title('Hindi to English Translator')\n",
        "text = st.text_area(\"Enter Text:\", value='', height=None, max_chars=None, key=None)\n",
        "model, tokenizer = download_model()\n",
        "\n",
        "if st.button('Translate to English'):\n",
        "    if text == '':\n",
        "        st.write('Please enter Hindi text for translation') \n",
        "    else: \n",
        "        model_name = \"facebook/mbart-large-50-many-to-many-mmt\"\n",
        "        tokenizer.src_lang = \"hi_IN\"\n",
        "        encoded_hindi_text = tokenizer(text, return_tensors=\"pt\")\n",
        "        generated_tokens = model.generate(**encoded_hindi_text, forced_bos_token_id=tokenizer.lang_code_to_id[\"en_XX\"])\n",
        "        out = tokenizer.batch_decode(generated_tokens, skip_special_tokens=True)\n",
        "        st.write('', str(out).strip('][\\''))\n",
        "else: pass"
      ],
      "execution_count": null,
      "outputs": [
        {
          "output_type": "error",
          "ename": "ImportError",
          "evalue": "ignored",
          "traceback": [
            "\u001b[0;31m---------------------------------------------------------------------------\u001b[0m",
            "\u001b[0;31mImportError\u001b[0m                               Traceback (most recent call last)",
            "\u001b[0;32m<ipython-input-10-e0a31b863ecb>\u001b[0m in \u001b[0;36m<module>\u001b[0;34m()\u001b[0m\n\u001b[0;32m----> 1\u001b[0;31m \u001b[0;32mfrom\u001b[0m \u001b[0mtransformers\u001b[0m \u001b[0;32mimport\u001b[0m \u001b[0mMBartForConditionalGeneration\u001b[0m\u001b[0;34m,\u001b[0m \u001b[0mMBart50Tokenizer\u001b[0m\u001b[0;34m\u001b[0m\u001b[0;34m\u001b[0m\u001b[0m\n\u001b[0m\u001b[1;32m      2\u001b[0m \u001b[0;32mimport\u001b[0m \u001b[0mstreamlit\u001b[0m \u001b[0;32mas\u001b[0m \u001b[0mst\u001b[0m\u001b[0;34m\u001b[0m\u001b[0;34m\u001b[0m\u001b[0m\n\u001b[1;32m      3\u001b[0m \u001b[0;34m\u001b[0m\u001b[0m\n\u001b[1;32m      4\u001b[0m \u001b[0;34m@\u001b[0m\u001b[0mst\u001b[0m\u001b[0;34m.\u001b[0m\u001b[0mcache\u001b[0m\u001b[0;34m(\u001b[0m\u001b[0mallow_output_mutation\u001b[0m\u001b[0;34m=\u001b[0m\u001b[0;32mTrue\u001b[0m\u001b[0;34m,\u001b[0m \u001b[0msuppress_st_warning\u001b[0m\u001b[0;34m=\u001b[0m\u001b[0;32mTrue\u001b[0m\u001b[0;34m)\u001b[0m\u001b[0;34m\u001b[0m\u001b[0;34m\u001b[0m\u001b[0m\n\u001b[1;32m      5\u001b[0m \u001b[0;32mdef\u001b[0m \u001b[0mdownload_model\u001b[0m\u001b[0;34m(\u001b[0m\u001b[0;34m)\u001b[0m\u001b[0;34m:\u001b[0m\u001b[0;34m\u001b[0m\u001b[0;34m\u001b[0m\u001b[0m\n",
            "\u001b[0;31mImportError\u001b[0m: cannot import name 'MBart50Tokenizer' from 'transformers' (unknown location)",
            "",
            "\u001b[0;31m---------------------------------------------------------------------------\u001b[0;32m\nNOTE: If your import is failing due to a missing package, you can\nmanually install dependencies using either !pip or !apt.\n\nTo view examples of installing some common dependencies, click the\n\"Open Examples\" button below.\n\u001b[0;31m---------------------------------------------------------------------------\u001b[0m\n"
          ]
        }
      ]
    },
    {
      "cell_type": "code",
      "metadata": {
        "colab": {
          "base_uri": "https://localhost:8080/"
        },
        "id": "7iUX8tpiMyoA",
        "outputId": "9c8152f5-a1d6-4453-8294-e9843275d05e"
      },
      "source": [
        "!pip install transformers"
      ],
      "execution_count": null,
      "outputs": [
        {
          "output_type": "stream",
          "text": [
            "Collecting transformers\n",
            "\u001b[?25l  Downloading https://files.pythonhosted.org/packages/f9/54/5ca07ec9569d2f232f3166de5457b63943882f7950ddfcc887732fc7fb23/transformers-4.3.3-py3-none-any.whl (1.9MB)\n",
            "\u001b[K     |████████████████████████████████| 1.9MB 8.3MB/s \n",
            "\u001b[?25hRequirement already satisfied: importlib-metadata; python_version < \"3.8\" in /usr/local/lib/python3.7/dist-packages (from transformers) (3.7.0)\n",
            "Requirement already satisfied: packaging in /usr/local/lib/python3.7/dist-packages (from transformers) (20.9)\n",
            "Requirement already satisfied: tqdm>=4.27 in /usr/local/lib/python3.7/dist-packages (from transformers) (4.41.1)\n",
            "Requirement already satisfied: requests in /usr/local/lib/python3.7/dist-packages (from transformers) (2.23.0)\n",
            "Collecting sacremoses\n",
            "\u001b[?25l  Downloading https://files.pythonhosted.org/packages/7d/34/09d19aff26edcc8eb2a01bed8e98f13a1537005d31e95233fd48216eed10/sacremoses-0.0.43.tar.gz (883kB)\n",
            "\u001b[K     |████████████████████████████████| 890kB 32.1MB/s \n",
            "\u001b[?25hCollecting tokenizers<0.11,>=0.10.1\n",
            "\u001b[?25l  Downloading https://files.pythonhosted.org/packages/71/23/2ddc317b2121117bf34dd00f5b0de194158f2a44ee2bf5e47c7166878a97/tokenizers-0.10.1-cp37-cp37m-manylinux2010_x86_64.whl (3.2MB)\n",
            "\u001b[K     |████████████████████████████████| 3.2MB 47.0MB/s \n",
            "\u001b[?25hRequirement already satisfied: numpy>=1.17 in /usr/local/lib/python3.7/dist-packages (from transformers) (1.19.5)\n",
            "Requirement already satisfied: filelock in /usr/local/lib/python3.7/dist-packages (from transformers) (3.0.12)\n",
            "Requirement already satisfied: regex!=2019.12.17 in /usr/local/lib/python3.7/dist-packages (from transformers) (2019.12.20)\n",
            "Requirement already satisfied: typing-extensions>=3.6.4; python_version < \"3.8\" in /usr/local/lib/python3.7/dist-packages (from importlib-metadata; python_version < \"3.8\"->transformers) (3.7.4.3)\n",
            "Requirement already satisfied: zipp>=0.5 in /usr/local/lib/python3.7/dist-packages (from importlib-metadata; python_version < \"3.8\"->transformers) (3.4.0)\n",
            "Requirement already satisfied: pyparsing>=2.0.2 in /usr/local/lib/python3.7/dist-packages (from packaging->transformers) (2.4.7)\n",
            "Requirement already satisfied: certifi>=2017.4.17 in /usr/local/lib/python3.7/dist-packages (from requests->transformers) (2020.12.5)\n",
            "Requirement already satisfied: urllib3!=1.25.0,!=1.25.1,<1.26,>=1.21.1 in /usr/local/lib/python3.7/dist-packages (from requests->transformers) (1.24.3)\n",
            "Requirement already satisfied: chardet<4,>=3.0.2 in /usr/local/lib/python3.7/dist-packages (from requests->transformers) (3.0.4)\n",
            "Requirement already satisfied: idna<3,>=2.5 in /usr/local/lib/python3.7/dist-packages (from requests->transformers) (2.10)\n",
            "Requirement already satisfied: six in /usr/local/lib/python3.7/dist-packages (from sacremoses->transformers) (1.15.0)\n",
            "Requirement already satisfied: click in /usr/local/lib/python3.7/dist-packages (from sacremoses->transformers) (7.1.2)\n",
            "Requirement already satisfied: joblib in /usr/local/lib/python3.7/dist-packages (from sacremoses->transformers) (1.0.1)\n",
            "Building wheels for collected packages: sacremoses\n",
            "  Building wheel for sacremoses (setup.py) ... \u001b[?25l\u001b[?25hdone\n",
            "  Created wheel for sacremoses: filename=sacremoses-0.0.43-cp37-none-any.whl size=893262 sha256=1816e8cfc5a48dc7c140c683328053b4ed2cdafaa77c3badde5ccaa28d22bd29\n",
            "  Stored in directory: /root/.cache/pip/wheels/29/3c/fd/7ce5c3f0666dab31a50123635e6fb5e19ceb42ce38d4e58f45\n",
            "Successfully built sacremoses\n",
            "Installing collected packages: sacremoses, tokenizers, transformers\n",
            "Successfully installed sacremoses-0.0.43 tokenizers-0.10.1 transformers-4.3.3\n"
          ],
          "name": "stdout"
        }
      ]
    },
    {
      "cell_type": "code",
      "metadata": {
        "colab": {
          "base_uri": "https://localhost:8080/"
        },
        "id": "Wxy_upIgPfkA",
        "outputId": "7b49b19a-92a7-4dc5-f4f9-a566d1f3618e"
      },
      "source": [
        "!pip install -e git+https://github.com/huggingface/transformers.git#egg=transformers"
      ],
      "execution_count": null,
      "outputs": [
        {
          "output_type": "stream",
          "text": [
            "Obtaining transformers from git+https://github.com/huggingface/transformers.git#egg=transformers\n",
            "  Cloning https://github.com/huggingface/transformers.git to ./src/transformers\n",
            "  Running command git clone -q https://github.com/huggingface/transformers.git /content/src/transformers\n",
            "  Installing build dependencies ... \u001b[?25l\u001b[?25hdone\n",
            "  Getting requirements to build wheel ... \u001b[?25l\u001b[?25hdone\n",
            "    Preparing wheel metadata ... \u001b[?25l\u001b[?25hdone\n",
            "Requirement already satisfied: filelock in /usr/local/lib/python3.7/dist-packages (from transformers) (3.0.12)\n",
            "Requirement already satisfied: tqdm>=4.27 in /usr/local/lib/python3.7/dist-packages (from transformers) (4.41.1)\n",
            "Requirement already satisfied: regex!=2019.12.17 in /usr/local/lib/python3.7/dist-packages (from transformers) (2019.12.20)\n",
            "Requirement already satisfied: importlib-metadata; python_version < \"3.8\" in /usr/local/lib/python3.7/dist-packages (from transformers) (3.7.0)\n",
            "Requirement already satisfied: numpy>=1.17 in /usr/local/lib/python3.7/dist-packages (from transformers) (1.19.5)\n",
            "Requirement already satisfied: requests in /usr/local/lib/python3.7/dist-packages (from transformers) (2.23.0)\n",
            "Collecting sacremoses\n",
            "\u001b[?25l  Downloading https://files.pythonhosted.org/packages/7d/34/09d19aff26edcc8eb2a01bed8e98f13a1537005d31e95233fd48216eed10/sacremoses-0.0.43.tar.gz (883kB)\n",
            "\u001b[K     |████████████████████████████████| 890kB 4.3MB/s \n",
            "\u001b[?25hCollecting tokenizers<0.11,>=0.10.1\n",
            "\u001b[?25l  Downloading https://files.pythonhosted.org/packages/71/23/2ddc317b2121117bf34dd00f5b0de194158f2a44ee2bf5e47c7166878a97/tokenizers-0.10.1-cp37-cp37m-manylinux2010_x86_64.whl (3.2MB)\n",
            "\u001b[K     |████████████████████████████████| 3.2MB 39.1MB/s \n",
            "\u001b[?25hRequirement already satisfied: packaging in /usr/local/lib/python3.7/dist-packages (from transformers) (20.9)\n",
            "Requirement already satisfied: zipp>=0.5 in /usr/local/lib/python3.7/dist-packages (from importlib-metadata; python_version < \"3.8\"->transformers) (3.4.0)\n",
            "Requirement already satisfied: typing-extensions>=3.6.4; python_version < \"3.8\" in /usr/local/lib/python3.7/dist-packages (from importlib-metadata; python_version < \"3.8\"->transformers) (3.7.4.3)\n",
            "Requirement already satisfied: chardet<4,>=3.0.2 in /usr/local/lib/python3.7/dist-packages (from requests->transformers) (3.0.4)\n",
            "Requirement already satisfied: urllib3!=1.25.0,!=1.25.1,<1.26,>=1.21.1 in /usr/local/lib/python3.7/dist-packages (from requests->transformers) (1.24.3)\n",
            "Requirement already satisfied: certifi>=2017.4.17 in /usr/local/lib/python3.7/dist-packages (from requests->transformers) (2020.12.5)\n",
            "Requirement already satisfied: idna<3,>=2.5 in /usr/local/lib/python3.7/dist-packages (from requests->transformers) (2.10)\n",
            "Requirement already satisfied: six in /usr/local/lib/python3.7/dist-packages (from sacremoses->transformers) (1.15.0)\n",
            "Requirement already satisfied: click in /usr/local/lib/python3.7/dist-packages (from sacremoses->transformers) (7.1.2)\n",
            "Requirement already satisfied: joblib in /usr/local/lib/python3.7/dist-packages (from sacremoses->transformers) (1.0.1)\n",
            "Requirement already satisfied: pyparsing>=2.0.2 in /usr/local/lib/python3.7/dist-packages (from packaging->transformers) (2.4.7)\n",
            "Building wheels for collected packages: sacremoses\n",
            "  Building wheel for sacremoses (setup.py) ... \u001b[?25l\u001b[?25hdone\n",
            "  Created wheel for sacremoses: filename=sacremoses-0.0.43-cp37-none-any.whl size=893262 sha256=767f012ca3da001d18f14b253446b3e3b7c19ba548fbb8eed8f4174f86046869\n",
            "  Stored in directory: /root/.cache/pip/wheels/29/3c/fd/7ce5c3f0666dab31a50123635e6fb5e19ceb42ce38d4e58f45\n",
            "Successfully built sacremoses\n",
            "Installing collected packages: sacremoses, tokenizers, transformers\n",
            "  Running setup.py develop for transformers\n",
            "Successfully installed sacremoses-0.0.43 tokenizers-0.10.1 transformers\n"
          ],
          "name": "stdout"
        }
      ]
    },
    {
      "cell_type": "code",
      "metadata": {
        "colab": {
          "base_uri": "https://localhost:8080/"
        },
        "id": "M3HdNVkcdJRa",
        "outputId": "44eb8a5b-6046-4443-dc5d-2d3616f389c9"
      },
      "source": [
        "cd src/transformers/"
      ],
      "execution_count": null,
      "outputs": [
        {
          "output_type": "stream",
          "text": [
            "/content/src/transformers\n"
          ],
          "name": "stdout"
        }
      ]
    },
    {
      "cell_type": "code",
      "metadata": {
        "colab": {
          "base_uri": "https://localhost:8080/"
        },
        "id": "a_1QE0i-csnB",
        "outputId": "3c288553-3241-43e6-f1a7-854c3ada884a"
      },
      "source": [
        "!python setup.py install"
      ],
      "execution_count": null,
      "outputs": [
        {
          "output_type": "stream",
          "text": [
            "running install\n",
            "running bdist_egg\n",
            "running egg_info\n",
            "writing src/transformers.egg-info/PKG-INFO\n",
            "writing dependency_links to src/transformers.egg-info/dependency_links.txt\n",
            "writing entry points to src/transformers.egg-info/entry_points.txt\n",
            "writing requirements to src/transformers.egg-info/requires.txt\n",
            "writing top-level names to src/transformers.egg-info/top_level.txt\n",
            "reading manifest template 'MANIFEST.in'\n",
            "writing manifest file 'src/transformers.egg-info/SOURCES.txt'\n",
            "installing library code to build/bdist.linux-x86_64/egg\n",
            "running install_lib\n",
            "running build_py\n",
            "creating build\n",
            "creating build/lib\n",
            "creating build/lib/transformers\n",
            "copying src/transformers/tokenization_utils_fast.py -> build/lib/transformers\n",
            "copying src/transformers/optimization_tf.py -> build/lib/transformers\n",
            "copying src/transformers/convert_pytorch_checkpoint_to_tf2.py -> build/lib/transformers\n",
            "copying src/transformers/convert_graph_to_onnx.py -> build/lib/transformers\n",
            "copying src/transformers/convert_tf_hub_seq_to_seq_bert_to_pytorch.py -> build/lib/transformers\n",
            "copying src/transformers/configuration_utils.py -> build/lib/transformers\n",
            "copying src/transformers/integrations.py -> build/lib/transformers\n",
            "copying src/transformers/optimization.py -> build/lib/transformers\n",
            "copying src/transformers/convert_slow_tokenizer.py -> build/lib/transformers\n",
            "copying src/transformers/training_args_tf.py -> build/lib/transformers\n",
            "copying src/transformers/modeling_tf_utils.py -> build/lib/transformers\n",
            "copying src/transformers/convert_slow_tokenizers_checkpoints_to_fast.py -> build/lib/transformers\n",
            "copying src/transformers/hf_argparser.py -> build/lib/transformers\n",
            "copying src/transformers/generation_beam_search.py -> build/lib/transformers\n",
            "copying src/transformers/activations_tf.py -> build/lib/transformers\n",
            "copying src/transformers/dependency_versions_table.py -> build/lib/transformers\n",
            "copying src/transformers/modelcard.py -> build/lib/transformers\n",
            "copying src/transformers/trainer_utils.py -> build/lib/transformers\n",
            "copying src/transformers/feature_extraction_utils.py -> build/lib/transformers\n",
            "copying src/transformers/tokenization_utils.py -> build/lib/transformers\n",
            "copying src/transformers/activations.py -> build/lib/transformers\n",
            "copying src/transformers/modeling_utils.py -> build/lib/transformers\n",
            "copying src/transformers/modeling_tf_pytorch_utils.py -> build/lib/transformers\n",
            "copying src/transformers/modeling_tf_outputs.py -> build/lib/transformers\n",
            "copying src/transformers/trainer_seq2seq.py -> build/lib/transformers\n",
            "copying src/transformers/generation_tf_utils.py -> build/lib/transformers\n",
            "copying src/transformers/trainer_tf.py -> build/lib/transformers\n",
            "copying src/transformers/generation_utils.py -> build/lib/transformers\n",
            "copying src/transformers/trainer.py -> build/lib/transformers\n",
            "copying src/transformers/trainer_callback.py -> build/lib/transformers\n",
            "copying src/transformers/tokenization_utils_base.py -> build/lib/transformers\n",
            "copying src/transformers/__init__.py -> build/lib/transformers\n",
            "copying src/transformers/training_args.py -> build/lib/transformers\n",
            "copying src/transformers/modeling_flax_utils.py -> build/lib/transformers\n",
            "copying src/transformers/hf_api.py -> build/lib/transformers\n",
            "copying src/transformers/trainer_pt_utils.py -> build/lib/transformers\n",
            "copying src/transformers/modeling_outputs.py -> build/lib/transformers\n",
            "copying src/transformers/dependency_versions_check.py -> build/lib/transformers\n",
            "copying src/transformers/training_args_seq2seq.py -> build/lib/transformers\n",
            "copying src/transformers/generation_logits_process.py -> build/lib/transformers\n",
            "copying src/transformers/testing_utils.py -> build/lib/transformers\n",
            "copying src/transformers/file_utils.py -> build/lib/transformers\n",
            "creating build/lib/transformers/utils\n",
            "copying src/transformers/utils/dummy_flax_objects.py -> build/lib/transformers/utils\n",
            "copying src/transformers/utils/modeling_auto_mapping.py -> build/lib/transformers/utils\n",
            "copying src/transformers/utils/notebook.py -> build/lib/transformers/utils\n",
            "copying src/transformers/utils/dummy_sentencepiece_objects.py -> build/lib/transformers/utils\n",
            "copying src/transformers/utils/sentencepiece_model_pb2.py -> build/lib/transformers/utils\n",
            "copying src/transformers/utils/dummy_tokenizers_objects.py -> build/lib/transformers/utils\n",
            "copying src/transformers/utils/model_parallel_utils.py -> build/lib/transformers/utils\n",
            "copying src/transformers/utils/versions.py -> build/lib/transformers/utils\n",
            "copying src/transformers/utils/logging.py -> build/lib/transformers/utils\n",
            "copying src/transformers/utils/dummy_pt_objects.py -> build/lib/transformers/utils\n",
            "copying src/transformers/utils/dummy_tf_objects.py -> build/lib/transformers/utils\n",
            "copying src/transformers/utils/hp_naming.py -> build/lib/transformers/utils\n",
            "copying src/transformers/utils/__init__.py -> build/lib/transformers/utils\n",
            "creating build/lib/transformers/sagemaker\n",
            "copying src/transformers/sagemaker/trainer_sm.py -> build/lib/transformers/sagemaker\n",
            "copying src/transformers/sagemaker/training_args_sm.py -> build/lib/transformers/sagemaker\n",
            "copying src/transformers/sagemaker/__init__.py -> build/lib/transformers/sagemaker\n",
            "creating build/lib/transformers/models\n",
            "copying src/transformers/models/__init__.py -> build/lib/transformers/models\n",
            "creating build/lib/transformers/pipelines\n",
            "copying src/transformers/pipelines/feature_extraction.py -> build/lib/transformers/pipelines\n",
            "copying src/transformers/pipelines/base.py -> build/lib/transformers/pipelines\n",
            "copying src/transformers/pipelines/fill_mask.py -> build/lib/transformers/pipelines\n",
            "copying src/transformers/pipelines/table_question_answering.py -> build/lib/transformers/pipelines\n",
            "copying src/transformers/pipelines/text_classification.py -> build/lib/transformers/pipelines\n",
            "copying src/transformers/pipelines/zero_shot_classification.py -> build/lib/transformers/pipelines\n",
            "copying src/transformers/pipelines/conversational.py -> build/lib/transformers/pipelines\n",
            "copying src/transformers/pipelines/text2text_generation.py -> build/lib/transformers/pipelines\n",
            "copying src/transformers/pipelines/token_classification.py -> build/lib/transformers/pipelines\n",
            "copying src/transformers/pipelines/text_generation.py -> build/lib/transformers/pipelines\n",
            "copying src/transformers/pipelines/__init__.py -> build/lib/transformers/pipelines\n",
            "copying src/transformers/pipelines/question_answering.py -> build/lib/transformers/pipelines\n",
            "creating build/lib/transformers/commands\n",
            "copying src/transformers/commands/add_new_model.py -> build/lib/transformers/commands\n",
            "copying src/transformers/commands/lfs.py -> build/lib/transformers/commands\n",
            "copying src/transformers/commands/serving.py -> build/lib/transformers/commands\n",
            "copying src/transformers/commands/convert.py -> build/lib/transformers/commands\n",
            "copying src/transformers/commands/train.py -> build/lib/transformers/commands\n",
            "copying src/transformers/commands/download.py -> build/lib/transformers/commands\n",
            "copying src/transformers/commands/user.py -> build/lib/transformers/commands\n",
            "copying src/transformers/commands/transformers_cli.py -> build/lib/transformers/commands\n",
            "copying src/transformers/commands/env.py -> build/lib/transformers/commands\n",
            "copying src/transformers/commands/__init__.py -> build/lib/transformers/commands\n",
            "copying src/transformers/commands/run.py -> build/lib/transformers/commands\n",
            "creating build/lib/transformers/benchmark\n",
            "copying src/transformers/benchmark/benchmark_utils.py -> build/lib/transformers/benchmark\n",
            "copying src/transformers/benchmark/benchmark_tf.py -> build/lib/transformers/benchmark\n",
            "copying src/transformers/benchmark/benchmark_args.py -> build/lib/transformers/benchmark\n",
            "copying src/transformers/benchmark/benchmark_args_tf.py -> build/lib/transformers/benchmark\n",
            "copying src/transformers/benchmark/benchmark.py -> build/lib/transformers/benchmark\n",
            "copying src/transformers/benchmark/__init__.py -> build/lib/transformers/benchmark\n",
            "copying src/transformers/benchmark/benchmark_args_utils.py -> build/lib/transformers/benchmark\n",
            "creating build/lib/transformers/data\n",
            "copying src/transformers/data/test_generation_utils.py -> build/lib/transformers/data\n",
            "copying src/transformers/data/data_collator.py -> build/lib/transformers/data\n",
            "copying src/transformers/data/__init__.py -> build/lib/transformers/data\n",
            "creating build/lib/transformers/models/ctrl\n",
            "copying src/transformers/models/ctrl/modeling_tf_ctrl.py -> build/lib/transformers/models/ctrl\n",
            "copying src/transformers/models/ctrl/configuration_ctrl.py -> build/lib/transformers/models/ctrl\n",
            "copying src/transformers/models/ctrl/modeling_ctrl.py -> build/lib/transformers/models/ctrl\n",
            "copying src/transformers/models/ctrl/tokenization_ctrl.py -> build/lib/transformers/models/ctrl\n",
            "copying src/transformers/models/ctrl/__init__.py -> build/lib/transformers/models/ctrl\n",
            "creating build/lib/transformers/models/camembert\n",
            "copying src/transformers/models/camembert/modeling_camembert.py -> build/lib/transformers/models/camembert\n",
            "copying src/transformers/models/camembert/tokenization_camembert.py -> build/lib/transformers/models/camembert\n",
            "copying src/transformers/models/camembert/modeling_tf_camembert.py -> build/lib/transformers/models/camembert\n",
            "copying src/transformers/models/camembert/configuration_camembert.py -> build/lib/transformers/models/camembert\n",
            "copying src/transformers/models/camembert/tokenization_camembert_fast.py -> build/lib/transformers/models/camembert\n",
            "copying src/transformers/models/camembert/__init__.py -> build/lib/transformers/models/camembert\n",
            "creating build/lib/transformers/models/distilbert\n",
            "copying src/transformers/models/distilbert/tokenization_distilbert_fast.py -> build/lib/transformers/models/distilbert\n",
            "copying src/transformers/models/distilbert/configuration_distilbert.py -> build/lib/transformers/models/distilbert\n",
            "copying src/transformers/models/distilbert/modeling_distilbert.py -> build/lib/transformers/models/distilbert\n",
            "copying src/transformers/models/distilbert/modeling_tf_distilbert.py -> build/lib/transformers/models/distilbert\n",
            "copying src/transformers/models/distilbert/tokenization_distilbert.py -> build/lib/transformers/models/distilbert\n",
            "copying src/transformers/models/distilbert/__init__.py -> build/lib/transformers/models/distilbert\n",
            "creating build/lib/transformers/models/xlm_prophetnet\n",
            "copying src/transformers/models/xlm_prophetnet/configuration_xlm_prophetnet.py -> build/lib/transformers/models/xlm_prophetnet\n",
            "copying src/transformers/models/xlm_prophetnet/modeling_xlm_prophetnet.py -> build/lib/transformers/models/xlm_prophetnet\n",
            "copying src/transformers/models/xlm_prophetnet/tokenization_xlm_prophetnet.py -> build/lib/transformers/models/xlm_prophetnet\n",
            "copying src/transformers/models/xlm_prophetnet/__init__.py -> build/lib/transformers/models/xlm_prophetnet\n",
            "creating build/lib/transformers/models/mmbt\n",
            "copying src/transformers/models/mmbt/modeling_mmbt.py -> build/lib/transformers/models/mmbt\n",
            "copying src/transformers/models/mmbt/configuration_mmbt.py -> build/lib/transformers/models/mmbt\n",
            "copying src/transformers/models/mmbt/__init__.py -> build/lib/transformers/models/mmbt\n",
            "creating build/lib/transformers/models/electra\n",
            "copying src/transformers/models/electra/tokenization_electra_fast.py -> build/lib/transformers/models/electra\n",
            "copying src/transformers/models/electra/tokenization_electra.py -> build/lib/transformers/models/electra\n",
            "copying src/transformers/models/electra/convert_electra_original_tf_checkpoint_to_pytorch.py -> build/lib/transformers/models/electra\n",
            "copying src/transformers/models/electra/modeling_electra.py -> build/lib/transformers/models/electra\n",
            "copying src/transformers/models/electra/configuration_electra.py -> build/lib/transformers/models/electra\n",
            "copying src/transformers/models/electra/__init__.py -> build/lib/transformers/models/electra\n",
            "copying src/transformers/models/electra/modeling_tf_electra.py -> build/lib/transformers/models/electra\n",
            "creating build/lib/transformers/models/layoutlm\n",
            "copying src/transformers/models/layoutlm/configuration_layoutlm.py -> build/lib/transformers/models/layoutlm\n",
            "copying src/transformers/models/layoutlm/tokenization_layoutlm.py -> build/lib/transformers/models/layoutlm\n",
            "copying src/transformers/models/layoutlm/modeling_layoutlm.py -> build/lib/transformers/models/layoutlm\n",
            "copying src/transformers/models/layoutlm/tokenization_layoutlm_fast.py -> build/lib/transformers/models/layoutlm\n",
            "copying src/transformers/models/layoutlm/__init__.py -> build/lib/transformers/models/layoutlm\n",
            "creating build/lib/transformers/models/squeezebert\n",
            "copying src/transformers/models/squeezebert/modeling_squeezebert.py -> build/lib/transformers/models/squeezebert\n",
            "copying src/transformers/models/squeezebert/configuration_squeezebert.py -> build/lib/transformers/models/squeezebert\n",
            "copying src/transformers/models/squeezebert/tokenization_squeezebert.py -> build/lib/transformers/models/squeezebert\n",
            "copying src/transformers/models/squeezebert/tokenization_squeezebert_fast.py -> build/lib/transformers/models/squeezebert\n",
            "copying src/transformers/models/squeezebert/__init__.py -> build/lib/transformers/models/squeezebert\n",
            "creating build/lib/transformers/models/m2m_100\n",
            "copying src/transformers/models/m2m_100/modeling_m2m_100.py -> build/lib/transformers/models/m2m_100\n",
            "copying src/transformers/models/m2m_100/configuration_m2m_100.py -> build/lib/transformers/models/m2m_100\n",
            "copying src/transformers/models/m2m_100/tokenization_m2m_100.py -> build/lib/transformers/models/m2m_100\n",
            "copying src/transformers/models/m2m_100/__init__.py -> build/lib/transformers/models/m2m_100\n",
            "copying src/transformers/models/m2m_100/convert_m2m100_original_checkpoint_to_pytorch.py -> build/lib/transformers/models/m2m_100\n",
            "creating build/lib/transformers/models/bertweet\n",
            "copying src/transformers/models/bertweet/tokenization_bertweet.py -> build/lib/transformers/models/bertweet\n",
            "copying src/transformers/models/bertweet/__init__.py -> build/lib/transformers/models/bertweet\n",
            "creating build/lib/transformers/models/dialogpt\n",
            "copying src/transformers/models/dialogpt/convert_dialogpt_original_pytorch_checkpoint_to_pytorch.py -> build/lib/transformers/models/dialogpt\n",
            "copying src/transformers/models/dialogpt/__init__.py -> build/lib/transformers/models/dialogpt\n",
            "creating build/lib/transformers/models/bert_japanese\n",
            "copying src/transformers/models/bert_japanese/tokenization_bert_japanese.py -> build/lib/transformers/models/bert_japanese\n",
            "copying src/transformers/models/bert_japanese/__init__.py -> build/lib/transformers/models/bert_japanese\n",
            "creating build/lib/transformers/models/pegasus\n",
            "copying src/transformers/models/pegasus/convert_pegasus_tf_to_pytorch.py -> build/lib/transformers/models/pegasus\n",
            "copying src/transformers/models/pegasus/modeling_tf_pegasus.py -> build/lib/transformers/models/pegasus\n",
            "copying src/transformers/models/pegasus/tokenization_pegasus_fast.py -> build/lib/transformers/models/pegasus\n",
            "copying src/transformers/models/pegasus/modeling_pegasus.py -> build/lib/transformers/models/pegasus\n",
            "copying src/transformers/models/pegasus/configuration_pegasus.py -> build/lib/transformers/models/pegasus\n",
            "copying src/transformers/models/pegasus/__init__.py -> build/lib/transformers/models/pegasus\n",
            "copying src/transformers/models/pegasus/tokenization_pegasus.py -> build/lib/transformers/models/pegasus\n",
            "creating build/lib/transformers/models/transfo_xl\n",
            "copying src/transformers/models/transfo_xl/modeling_tf_transfo_xl_utilities.py -> build/lib/transformers/models/transfo_xl\n",
            "copying src/transformers/models/transfo_xl/configuration_transfo_xl.py -> build/lib/transformers/models/transfo_xl\n",
            "copying src/transformers/models/transfo_xl/modeling_tf_transfo_xl.py -> build/lib/transformers/models/transfo_xl\n",
            "copying src/transformers/models/transfo_xl/modeling_transfo_xl.py -> build/lib/transformers/models/transfo_xl\n",
            "copying src/transformers/models/transfo_xl/modeling_transfo_xl_utilities.py -> build/lib/transformers/models/transfo_xl\n",
            "copying src/transformers/models/transfo_xl/__init__.py -> build/lib/transformers/models/transfo_xl\n",
            "copying src/transformers/models/transfo_xl/convert_transfo_xl_original_tf_checkpoint_to_pytorch.py -> build/lib/transformers/models/transfo_xl\n",
            "copying src/transformers/models/transfo_xl/tokenization_transfo_xl.py -> build/lib/transformers/models/transfo_xl\n",
            "creating build/lib/transformers/models/bert\n",
            "copying src/transformers/models/bert/convert_bert_original_tf_checkpoint_to_pytorch.py -> build/lib/transformers/models/bert\n",
            "copying src/transformers/models/bert/configuration_bert.py -> build/lib/transformers/models/bert\n",
            "copying src/transformers/models/bert/convert_bert_original_tf2_checkpoint_to_pytorch.py -> build/lib/transformers/models/bert\n",
            "copying src/transformers/models/bert/modeling_tf_bert.py -> build/lib/transformers/models/bert\n",
            "copying src/transformers/models/bert/tokenization_bert.py -> build/lib/transformers/models/bert\n",
            "copying src/transformers/models/bert/__init__.py -> build/lib/transformers/models/bert\n",
            "copying src/transformers/models/bert/modeling_bert.py -> build/lib/transformers/models/bert\n",
            "copying src/transformers/models/bert/tokenization_bert_fast.py -> build/lib/transformers/models/bert\n",
            "copying src/transformers/models/bert/modeling_flax_bert.py -> build/lib/transformers/models/bert\n",
            "copying src/transformers/models/bert/convert_bert_pytorch_checkpoint_to_original_tf.py -> build/lib/transformers/models/bert\n",
            "creating build/lib/transformers/models/convbert\n",
            "copying src/transformers/models/convbert/modeling_tf_convbert.py -> build/lib/transformers/models/convbert\n",
            "copying src/transformers/models/convbert/tokenization_convbert.py -> build/lib/transformers/models/convbert\n",
            "copying src/transformers/models/convbert/tokenization_convbert_fast.py -> build/lib/transformers/models/convbert\n",
            "copying src/transformers/models/convbert/convert_convbert_original_tf1_checkpoint_to_pytorch_and_tf2.py -> build/lib/transformers/models/convbert\n",
            "copying src/transformers/models/convbert/configuration_convbert.py -> build/lib/transformers/models/convbert\n",
            "copying src/transformers/models/convbert/modeling_convbert.py -> build/lib/transformers/models/convbert\n",
            "copying src/transformers/models/convbert/__init__.py -> build/lib/transformers/models/convbert\n",
            "creating build/lib/transformers/models/ibert\n",
            "copying src/transformers/models/ibert/quant_modules.py -> build/lib/transformers/models/ibert\n",
            "copying src/transformers/models/ibert/modeling_ibert.py -> build/lib/transformers/models/ibert\n",
            "copying src/transformers/models/ibert/__init__.py -> build/lib/transformers/models/ibert\n",
            "copying src/transformers/models/ibert/configuration_ibert.py -> build/lib/transformers/models/ibert\n",
            "creating build/lib/transformers/models/auto\n",
            "copying src/transformers/models/auto/configuration_auto.py -> build/lib/transformers/models/auto\n",
            "copying src/transformers/models/auto/tokenization_auto.py -> build/lib/transformers/models/auto\n",
            "copying src/transformers/models/auto/__init__.py -> build/lib/transformers/models/auto\n",
            "copying src/transformers/models/auto/modeling_auto.py -> build/lib/transformers/models/auto\n",
            "copying src/transformers/models/auto/modeling_flax_auto.py -> build/lib/transformers/models/auto\n",
            "copying src/transformers/models/auto/modeling_tf_auto.py -> build/lib/transformers/models/auto\n",
            "creating build/lib/transformers/models/lxmert\n",
            "copying src/transformers/models/lxmert/modeling_lxmert.py -> build/lib/transformers/models/lxmert\n",
            "copying src/transformers/models/lxmert/tokenization_lxmert.py -> build/lib/transformers/models/lxmert\n",
            "copying src/transformers/models/lxmert/convert_lxmert_original_tf_checkpoint_to_pytorch.py -> build/lib/transformers/models/lxmert\n",
            "copying src/transformers/models/lxmert/configuration_lxmert.py -> build/lib/transformers/models/lxmert\n",
            "copying src/transformers/models/lxmert/__init__.py -> build/lib/transformers/models/lxmert\n",
            "copying src/transformers/models/lxmert/modeling_tf_lxmert.py -> build/lib/transformers/models/lxmert\n",
            "copying src/transformers/models/lxmert/tokenization_lxmert_fast.py -> build/lib/transformers/models/lxmert\n",
            "creating build/lib/transformers/models/encoder_decoder\n",
            "copying src/transformers/models/encoder_decoder/modeling_encoder_decoder.py -> build/lib/transformers/models/encoder_decoder\n",
            "copying src/transformers/models/encoder_decoder/configuration_encoder_decoder.py -> build/lib/transformers/models/encoder_decoder\n",
            "copying src/transformers/models/encoder_decoder/__init__.py -> build/lib/transformers/models/encoder_decoder\n",
            "creating build/lib/transformers/models/funnel\n",
            "copying src/transformers/models/funnel/modeling_funnel.py -> build/lib/transformers/models/funnel\n",
            "copying src/transformers/models/funnel/convert_funnel_original_tf_checkpoint_to_pytorch.py -> build/lib/transformers/models/funnel\n",
            "copying src/transformers/models/funnel/tokenization_funnel_fast.py -> build/lib/transformers/models/funnel\n",
            "copying src/transformers/models/funnel/modeling_tf_funnel.py -> build/lib/transformers/models/funnel\n",
            "copying src/transformers/models/funnel/tokenization_funnel.py -> build/lib/transformers/models/funnel\n",
            "copying src/transformers/models/funnel/__init__.py -> build/lib/transformers/models/funnel\n",
            "copying src/transformers/models/funnel/configuration_funnel.py -> build/lib/transformers/models/funnel\n",
            "creating build/lib/transformers/models/deberta\n",
            "copying src/transformers/models/deberta/tokenization_deberta.py -> build/lib/transformers/models/deberta\n",
            "copying src/transformers/models/deberta/modeling_deberta.py -> build/lib/transformers/models/deberta\n",
            "copying src/transformers/models/deberta/__init__.py -> build/lib/transformers/models/deberta\n",
            "copying src/transformers/models/deberta/configuration_deberta.py -> build/lib/transformers/models/deberta\n",
            "creating build/lib/transformers/models/roberta\n",
            "copying src/transformers/models/roberta/modeling_tf_roberta.py -> build/lib/transformers/models/roberta\n",
            "copying src/transformers/models/roberta/tokenization_roberta_fast.py -> build/lib/transformers/models/roberta\n",
            "copying src/transformers/models/roberta/tokenization_roberta.py -> build/lib/transformers/models/roberta\n",
            "copying src/transformers/models/roberta/modeling_flax_roberta.py -> build/lib/transformers/models/roberta\n",
            "copying src/transformers/models/roberta/convert_roberta_original_pytorch_checkpoint_to_pytorch.py -> build/lib/transformers/models/roberta\n",
            "copying src/transformers/models/roberta/modeling_roberta.py -> build/lib/transformers/models/roberta\n",
            "copying src/transformers/models/roberta/__init__.py -> build/lib/transformers/models/roberta\n",
            "copying src/transformers/models/roberta/configuration_roberta.py -> build/lib/transformers/models/roberta\n",
            "creating build/lib/transformers/models/fsmt\n",
            "copying src/transformers/models/fsmt/modeling_fsmt.py -> build/lib/transformers/models/fsmt\n",
            "copying src/transformers/models/fsmt/configuration_fsmt.py -> build/lib/transformers/models/fsmt\n",
            "copying src/transformers/models/fsmt/convert_fsmt_original_pytorch_checkpoint_to_pytorch.py -> build/lib/transformers/models/fsmt\n",
            "copying src/transformers/models/fsmt/tokenization_fsmt.py -> build/lib/transformers/models/fsmt\n",
            "copying src/transformers/models/fsmt/__init__.py -> build/lib/transformers/models/fsmt\n",
            "creating build/lib/transformers/models/gpt2\n",
            "copying src/transformers/models/gpt2/convert_gpt2_original_tf_checkpoint_to_pytorch.py -> build/lib/transformers/models/gpt2\n",
            "copying src/transformers/models/gpt2/modeling_gpt2.py -> build/lib/transformers/models/gpt2\n",
            "copying src/transformers/models/gpt2/modeling_tf_gpt2.py -> build/lib/transformers/models/gpt2\n",
            "copying src/transformers/models/gpt2/configuration_gpt2.py -> build/lib/transformers/models/gpt2\n",
            "copying src/transformers/models/gpt2/tokenization_gpt2_fast.py -> build/lib/transformers/models/gpt2\n",
            "copying src/transformers/models/gpt2/__init__.py -> build/lib/transformers/models/gpt2\n",
            "copying src/transformers/models/gpt2/tokenization_gpt2.py -> build/lib/transformers/models/gpt2\n",
            "creating build/lib/transformers/models/bert_generation\n",
            "copying src/transformers/models/bert_generation/__init__.py -> build/lib/transformers/models/bert_generation\n",
            "copying src/transformers/models/bert_generation/tokenization_bert_generation.py -> build/lib/transformers/models/bert_generation\n",
            "copying src/transformers/models/bert_generation/modeling_bert_generation.py -> build/lib/transformers/models/bert_generation\n",
            "copying src/transformers/models/bert_generation/configuration_bert_generation.py -> build/lib/transformers/models/bert_generation\n",
            "creating build/lib/transformers/models/blenderbot_small\n",
            "copying src/transformers/models/blenderbot_small/tokenization_blenderbot_small.py -> build/lib/transformers/models/blenderbot_small\n",
            "copying src/transformers/models/blenderbot_small/tokenization_blenderbot_small_fast.py -> build/lib/transformers/models/blenderbot_small\n",
            "copying src/transformers/models/blenderbot_small/modeling_blenderbot_small.py -> build/lib/transformers/models/blenderbot_small\n",
            "copying src/transformers/models/blenderbot_small/modeling_tf_blenderbot_small.py -> build/lib/transformers/models/blenderbot_small\n",
            "copying src/transformers/models/blenderbot_small/configuration_blenderbot_small.py -> build/lib/transformers/models/blenderbot_small\n",
            "copying src/transformers/models/blenderbot_small/__init__.py -> build/lib/transformers/models/blenderbot_small\n",
            "creating build/lib/transformers/models/bart\n",
            "copying src/transformers/models/bart/configuration_bart.py -> build/lib/transformers/models/bart\n",
            "copying src/transformers/models/bart/convert_bart_original_pytorch_checkpoint_to_pytorch.py -> build/lib/transformers/models/bart\n",
            "copying src/transformers/models/bart/tokenization_bart_fast.py -> build/lib/transformers/models/bart\n",
            "copying src/transformers/models/bart/modeling_bart.py -> build/lib/transformers/models/bart\n",
            "copying src/transformers/models/bart/__init__.py -> build/lib/transformers/models/bart\n",
            "copying src/transformers/models/bart/tokenization_bart.py -> build/lib/transformers/models/bart\n",
            "copying src/transformers/models/bart/modeling_tf_bart.py -> build/lib/transformers/models/bart\n",
            "creating build/lib/transformers/models/tapas\n",
            "copying src/transformers/models/tapas/convert_tapas_original_tf_checkpoint_to_pytorch.py -> build/lib/transformers/models/tapas\n",
            "copying src/transformers/models/tapas/tokenization_tapas.py -> build/lib/transformers/models/tapas\n",
            "copying src/transformers/models/tapas/configuration_tapas.py -> build/lib/transformers/models/tapas\n",
            "copying src/transformers/models/tapas/__init__.py -> build/lib/transformers/models/tapas\n",
            "copying src/transformers/models/tapas/modeling_tapas.py -> build/lib/transformers/models/tapas\n",
            "creating build/lib/transformers/models/dpr\n",
            "copying src/transformers/models/dpr/convert_dpr_original_checkpoint_to_pytorch.py -> build/lib/transformers/models/dpr\n",
            "copying src/transformers/models/dpr/modeling_tf_dpr.py -> build/lib/transformers/models/dpr\n",
            "copying src/transformers/models/dpr/modeling_dpr.py -> build/lib/transformers/models/dpr\n",
            "copying src/transformers/models/dpr/tokenization_dpr.py -> build/lib/transformers/models/dpr\n",
            "copying src/transformers/models/dpr/__init__.py -> build/lib/transformers/models/dpr\n",
            "copying src/transformers/models/dpr/configuration_dpr.py -> build/lib/transformers/models/dpr\n",
            "copying src/transformers/models/dpr/tokenization_dpr_fast.py -> build/lib/transformers/models/dpr\n",
            "creating build/lib/transformers/models/xlm_roberta\n",
            "copying src/transformers/models/xlm_roberta/tokenization_xlm_roberta.py -> build/lib/transformers/models/xlm_roberta\n",
            "copying src/transformers/models/xlm_roberta/modeling_xlm_roberta.py -> build/lib/transformers/models/xlm_roberta\n",
            "copying src/transformers/models/xlm_roberta/__init__.py -> build/lib/transformers/models/xlm_roberta\n",
            "copying src/transformers/models/xlm_roberta/configuration_xlm_roberta.py -> build/lib/transformers/models/xlm_roberta\n",
            "copying src/transformers/models/xlm_roberta/tokenization_xlm_roberta_fast.py -> build/lib/transformers/models/xlm_roberta\n",
            "copying src/transformers/models/xlm_roberta/modeling_tf_xlm_roberta.py -> build/lib/transformers/models/xlm_roberta\n",
            "creating build/lib/transformers/models/xlnet\n",
            "copying src/transformers/models/xlnet/configuration_xlnet.py -> build/lib/transformers/models/xlnet\n",
            "copying src/transformers/models/xlnet/modeling_tf_xlnet.py -> build/lib/transformers/models/xlnet\n",
            "copying src/transformers/models/xlnet/tokenization_xlnet_fast.py -> build/lib/transformers/models/xlnet\n",
            "copying src/transformers/models/xlnet/tokenization_xlnet.py -> build/lib/transformers/models/xlnet\n",
            "copying src/transformers/models/xlnet/modeling_xlnet.py -> build/lib/transformers/models/xlnet\n",
            "copying src/transformers/models/xlnet/convert_xlnet_original_tf_checkpoint_to_pytorch.py -> build/lib/transformers/models/xlnet\n",
            "copying src/transformers/models/xlnet/__init__.py -> build/lib/transformers/models/xlnet\n",
            "creating build/lib/transformers/models/prophetnet\n",
            "copying src/transformers/models/prophetnet/convert_prophetnet_original_pytorch_checkpoint_to_pytorch.py -> build/lib/transformers/models/prophetnet\n",
            "copying src/transformers/models/prophetnet/tokenization_prophetnet.py -> build/lib/transformers/models/prophetnet\n",
            "copying src/transformers/models/prophetnet/configuration_prophetnet.py -> build/lib/transformers/models/prophetnet\n",
            "copying src/transformers/models/prophetnet/modeling_prophetnet.py -> build/lib/transformers/models/prophetnet\n",
            "copying src/transformers/models/prophetnet/__init__.py -> build/lib/transformers/models/prophetnet\n",
            "creating build/lib/transformers/models/barthez\n",
            "copying src/transformers/models/barthez/tokenization_barthez_fast.py -> build/lib/transformers/models/barthez\n",
            "copying src/transformers/models/barthez/__init__.py -> build/lib/transformers/models/barthez\n",
            "copying src/transformers/models/barthez/tokenization_barthez.py -> build/lib/transformers/models/barthez\n",
            "creating build/lib/transformers/models/rag\n",
            "copying src/transformers/models/rag/modeling_rag.py -> build/lib/transformers/models/rag\n",
            "copying src/transformers/models/rag/retrieval_rag.py -> build/lib/transformers/models/rag\n",
            "copying src/transformers/models/rag/tokenization_rag.py -> build/lib/transformers/models/rag\n",
            "copying src/transformers/models/rag/configuration_rag.py -> build/lib/transformers/models/rag\n",
            "copying src/transformers/models/rag/__init__.py -> build/lib/transformers/models/rag\n",
            "creating build/lib/transformers/models/retribert\n",
            "copying src/transformers/models/retribert/modeling_retribert.py -> build/lib/transformers/models/retribert\n",
            "copying src/transformers/models/retribert/tokenization_retribert_fast.py -> build/lib/transformers/models/retribert\n",
            "copying src/transformers/models/retribert/tokenization_retribert.py -> build/lib/transformers/models/retribert\n",
            "copying src/transformers/models/retribert/configuration_retribert.py -> build/lib/transformers/models/retribert\n",
            "copying src/transformers/models/retribert/__init__.py -> build/lib/transformers/models/retribert\n",
            "creating build/lib/transformers/models/mobilebert\n",
            "copying src/transformers/models/mobilebert/tokenization_mobilebert_fast.py -> build/lib/transformers/models/mobilebert\n",
            "copying src/transformers/models/mobilebert/tokenization_mobilebert.py -> build/lib/transformers/models/mobilebert\n",
            "copying src/transformers/models/mobilebert/modeling_mobilebert.py -> build/lib/transformers/models/mobilebert\n",
            "copying src/transformers/models/mobilebert/configuration_mobilebert.py -> build/lib/transformers/models/mobilebert\n",
            "copying src/transformers/models/mobilebert/modeling_tf_mobilebert.py -> build/lib/transformers/models/mobilebert\n",
            "copying src/transformers/models/mobilebert/__init__.py -> build/lib/transformers/models/mobilebert\n",
            "copying src/transformers/models/mobilebert/convert_mobilebert_original_tf_checkpoint_to_pytorch.py -> build/lib/transformers/models/mobilebert\n",
            "creating build/lib/transformers/models/marian\n",
            "copying src/transformers/models/marian/configuration_marian.py -> build/lib/transformers/models/marian\n",
            "copying src/transformers/models/marian/modeling_tf_marian.py -> build/lib/transformers/models/marian\n",
            "copying src/transformers/models/marian/tokenization_marian.py -> build/lib/transformers/models/marian\n",
            "copying src/transformers/models/marian/convert_marian_tatoeba_to_pytorch.py -> build/lib/transformers/models/marian\n",
            "copying src/transformers/models/marian/modeling_marian.py -> build/lib/transformers/models/marian\n",
            "copying src/transformers/models/marian/__init__.py -> build/lib/transformers/models/marian\n",
            "copying src/transformers/models/marian/convert_marian_to_pytorch.py -> build/lib/transformers/models/marian\n",
            "creating build/lib/transformers/models/xlm\n",
            "copying src/transformers/models/xlm/configuration_xlm.py -> build/lib/transformers/models/xlm\n",
            "copying src/transformers/models/xlm/convert_xlm_original_pytorch_checkpoint_to_pytorch.py -> build/lib/transformers/models/xlm\n",
            "copying src/transformers/models/xlm/modeling_xlm.py -> build/lib/transformers/models/xlm\n",
            "copying src/transformers/models/xlm/tokenization_xlm.py -> build/lib/transformers/models/xlm\n",
            "copying src/transformers/models/xlm/__init__.py -> build/lib/transformers/models/xlm\n",
            "copying src/transformers/models/xlm/modeling_tf_xlm.py -> build/lib/transformers/models/xlm\n",
            "creating build/lib/transformers/models/phobert\n",
            "copying src/transformers/models/phobert/tokenization_phobert.py -> build/lib/transformers/models/phobert\n",
            "copying src/transformers/models/phobert/__init__.py -> build/lib/transformers/models/phobert\n",
            "creating build/lib/transformers/models/deberta_v2\n",
            "copying src/transformers/models/deberta_v2/modeling_deberta_v2.py -> build/lib/transformers/models/deberta_v2\n",
            "copying src/transformers/models/deberta_v2/configuration_deberta_v2.py -> build/lib/transformers/models/deberta_v2\n",
            "copying src/transformers/models/deberta_v2/tokenization_deberta_v2.py -> build/lib/transformers/models/deberta_v2\n",
            "copying src/transformers/models/deberta_v2/__init__.py -> build/lib/transformers/models/deberta_v2\n",
            "creating build/lib/transformers/models/albert\n",
            "copying src/transformers/models/albert/configuration_albert.py -> build/lib/transformers/models/albert\n",
            "copying src/transformers/models/albert/tokenization_albert_fast.py -> build/lib/transformers/models/albert\n",
            "copying src/transformers/models/albert/modeling_tf_albert.py -> build/lib/transformers/models/albert\n",
            "copying src/transformers/models/albert/tokenization_albert.py -> build/lib/transformers/models/albert\n",
            "copying src/transformers/models/albert/__init__.py -> build/lib/transformers/models/albert\n",
            "copying src/transformers/models/albert/modeling_albert.py -> build/lib/transformers/models/albert\n",
            "copying src/transformers/models/albert/convert_albert_original_tf_checkpoint_to_pytorch.py -> build/lib/transformers/models/albert\n",
            "creating build/lib/transformers/models/led\n",
            "copying src/transformers/models/led/configuration_led.py -> build/lib/transformers/models/led\n",
            "copying src/transformers/models/led/modeling_led.py -> build/lib/transformers/models/led\n",
            "copying src/transformers/models/led/tokenization_led.py -> build/lib/transformers/models/led\n",
            "copying src/transformers/models/led/tokenization_led_fast.py -> build/lib/transformers/models/led\n",
            "copying src/transformers/models/led/__init__.py -> build/lib/transformers/models/led\n",
            "copying src/transformers/models/led/modeling_tf_led.py -> build/lib/transformers/models/led\n",
            "creating build/lib/transformers/models/mt5\n",
            "copying src/transformers/models/mt5/configuration_mt5.py -> build/lib/transformers/models/mt5\n",
            "copying src/transformers/models/mt5/__init__.py -> build/lib/transformers/models/mt5\n",
            "copying src/transformers/models/mt5/modeling_tf_mt5.py -> build/lib/transformers/models/mt5\n",
            "copying src/transformers/models/mt5/modeling_mt5.py -> build/lib/transformers/models/mt5\n",
            "creating build/lib/transformers/models/flaubert\n",
            "copying src/transformers/models/flaubert/tokenization_flaubert.py -> build/lib/transformers/models/flaubert\n",
            "copying src/transformers/models/flaubert/configuration_flaubert.py -> build/lib/transformers/models/flaubert\n",
            "copying src/transformers/models/flaubert/modeling_flaubert.py -> build/lib/transformers/models/flaubert\n",
            "copying src/transformers/models/flaubert/__init__.py -> build/lib/transformers/models/flaubert\n",
            "copying src/transformers/models/flaubert/modeling_tf_flaubert.py -> build/lib/transformers/models/flaubert\n",
            "creating build/lib/transformers/models/t5\n",
            "copying src/transformers/models/t5/convert_t5_original_tf_checkpoint_to_pytorch.py -> build/lib/transformers/models/t5\n",
            "copying src/transformers/models/t5/tokenization_t5_fast.py -> build/lib/transformers/models/t5\n",
            "copying src/transformers/models/t5/tokenization_t5.py -> build/lib/transformers/models/t5\n",
            "copying src/transformers/models/t5/configuration_t5.py -> build/lib/transformers/models/t5\n",
            "copying src/transformers/models/t5/modeling_tf_t5.py -> build/lib/transformers/models/t5\n",
            "copying src/transformers/models/t5/__init__.py -> build/lib/transformers/models/t5\n",
            "copying src/transformers/models/t5/modeling_t5.py -> build/lib/transformers/models/t5\n",
            "creating build/lib/transformers/models/openai\n",
            "copying src/transformers/models/openai/modeling_tf_openai.py -> build/lib/transformers/models/openai\n",
            "copying src/transformers/models/openai/convert_openai_original_tf_checkpoint_to_pytorch.py -> build/lib/transformers/models/openai\n",
            "copying src/transformers/models/openai/tokenization_openai_fast.py -> build/lib/transformers/models/openai\n",
            "copying src/transformers/models/openai/configuration_openai.py -> build/lib/transformers/models/openai\n",
            "copying src/transformers/models/openai/__init__.py -> build/lib/transformers/models/openai\n",
            "copying src/transformers/models/openai/modeling_openai.py -> build/lib/transformers/models/openai\n",
            "copying src/transformers/models/openai/tokenization_openai.py -> build/lib/transformers/models/openai\n",
            "creating build/lib/transformers/models/mbart\n",
            "copying src/transformers/models/mbart/modeling_tf_mbart.py -> build/lib/transformers/models/mbart\n",
            "copying src/transformers/models/mbart/tokenization_mbart50_fast.py -> build/lib/transformers/models/mbart\n",
            "copying src/transformers/models/mbart/configuration_mbart.py -> build/lib/transformers/models/mbart\n",
            "copying src/transformers/models/mbart/tokenization_mbart.py -> build/lib/transformers/models/mbart\n",
            "copying src/transformers/models/mbart/convert_mbart_original_checkpoint_to_pytorch.py -> build/lib/transformers/models/mbart\n",
            "copying src/transformers/models/mbart/__init__.py -> build/lib/transformers/models/mbart\n",
            "copying src/transformers/models/mbart/modeling_mbart.py -> build/lib/transformers/models/mbart\n",
            "copying src/transformers/models/mbart/tokenization_mbart50.py -> build/lib/transformers/models/mbart\n",
            "copying src/transformers/models/mbart/tokenization_mbart_fast.py -> build/lib/transformers/models/mbart\n",
            "creating build/lib/transformers/models/blenderbot\n",
            "copying src/transformers/models/blenderbot/modeling_tf_blenderbot.py -> build/lib/transformers/models/blenderbot\n",
            "copying src/transformers/models/blenderbot/tokenization_blenderbot.py -> build/lib/transformers/models/blenderbot\n",
            "copying src/transformers/models/blenderbot/configuration_blenderbot.py -> build/lib/transformers/models/blenderbot\n",
            "copying src/transformers/models/blenderbot/__init__.py -> build/lib/transformers/models/blenderbot\n",
            "copying src/transformers/models/blenderbot/convert_blenderbot_original_pytorch_checkpoint_to_pytorch.py -> build/lib/transformers/models/blenderbot\n",
            "copying src/transformers/models/blenderbot/modeling_blenderbot.py -> build/lib/transformers/models/blenderbot\n",
            "creating build/lib/transformers/models/longformer\n",
            "copying src/transformers/models/longformer/configuration_longformer.py -> build/lib/transformers/models/longformer\n",
            "copying src/transformers/models/longformer/modeling_tf_longformer.py -> build/lib/transformers/models/longformer\n",
            "copying src/transformers/models/longformer/convert_longformer_original_pytorch_lightning_to_pytorch.py -> build/lib/transformers/models/longformer\n",
            "copying src/transformers/models/longformer/tokenization_longformer_fast.py -> build/lib/transformers/models/longformer\n",
            "copying src/transformers/models/longformer/modeling_longformer.py -> build/lib/transformers/models/longformer\n",
            "copying src/transformers/models/longformer/tokenization_longformer.py -> build/lib/transformers/models/longformer\n",
            "copying src/transformers/models/longformer/__init__.py -> build/lib/transformers/models/longformer\n",
            "creating build/lib/transformers/models/reformer\n",
            "copying src/transformers/models/reformer/tokenization_reformer.py -> build/lib/transformers/models/reformer\n",
            "copying src/transformers/models/reformer/convert_reformer_trax_checkpoint_to_pytorch.py -> build/lib/transformers/models/reformer\n",
            "copying src/transformers/models/reformer/configuration_reformer.py -> build/lib/transformers/models/reformer\n",
            "copying src/transformers/models/reformer/tokenization_reformer_fast.py -> build/lib/transformers/models/reformer\n",
            "copying src/transformers/models/reformer/modeling_reformer.py -> build/lib/transformers/models/reformer\n",
            "copying src/transformers/models/reformer/__init__.py -> build/lib/transformers/models/reformer\n",
            "creating build/lib/transformers/models/wav2vec2\n",
            "copying src/transformers/models/wav2vec2/configuration_wav2vec2.py -> build/lib/transformers/models/wav2vec2\n",
            "copying src/transformers/models/wav2vec2/feature_extraction_wav2vec2.py -> build/lib/transformers/models/wav2vec2\n",
            "copying src/transformers/models/wav2vec2/modeling_wav2vec2.py -> build/lib/transformers/models/wav2vec2\n",
            "copying src/transformers/models/wav2vec2/__init__.py -> build/lib/transformers/models/wav2vec2\n",
            "copying src/transformers/models/wav2vec2/tokenization_wav2vec2.py -> build/lib/transformers/models/wav2vec2\n",
            "copying src/transformers/models/wav2vec2/processing_wav2vec2.py -> build/lib/transformers/models/wav2vec2\n",
            "copying src/transformers/models/wav2vec2/convert_wav2vec2_original_pytorch_checkpoint_to_pytorch.py -> build/lib/transformers/models/wav2vec2\n",
            "creating build/lib/transformers/models/mpnet\n",
            "copying src/transformers/models/mpnet/modeling_tf_mpnet.py -> build/lib/transformers/models/mpnet\n",
            "copying src/transformers/models/mpnet/configuration_mpnet.py -> build/lib/transformers/models/mpnet\n",
            "copying src/transformers/models/mpnet/tokenization_mpnet.py -> build/lib/transformers/models/mpnet\n",
            "copying src/transformers/models/mpnet/modeling_mpnet.py -> build/lib/transformers/models/mpnet\n",
            "copying src/transformers/models/mpnet/tokenization_mpnet_fast.py -> build/lib/transformers/models/mpnet\n",
            "copying src/transformers/models/mpnet/__init__.py -> build/lib/transformers/models/mpnet\n",
            "creating build/lib/transformers/models/herbert\n",
            "copying src/transformers/models/herbert/tokenization_herbert_fast.py -> build/lib/transformers/models/herbert\n",
            "copying src/transformers/models/herbert/__init__.py -> build/lib/transformers/models/herbert\n",
            "copying src/transformers/models/herbert/tokenization_herbert.py -> build/lib/transformers/models/herbert\n",
            "creating build/lib/transformers/data/metrics\n",
            "copying src/transformers/data/metrics/squad_metrics.py -> build/lib/transformers/data/metrics\n",
            "copying src/transformers/data/metrics/__init__.py -> build/lib/transformers/data/metrics\n",
            "creating build/lib/transformers/data/datasets\n",
            "copying src/transformers/data/datasets/glue.py -> build/lib/transformers/data/datasets\n",
            "copying src/transformers/data/datasets/squad.py -> build/lib/transformers/data/datasets\n",
            "copying src/transformers/data/datasets/__init__.py -> build/lib/transformers/data/datasets\n",
            "copying src/transformers/data/datasets/language_modeling.py -> build/lib/transformers/data/datasets\n",
            "creating build/lib/transformers/data/processors\n",
            "copying src/transformers/data/processors/glue.py -> build/lib/transformers/data/processors\n",
            "copying src/transformers/data/processors/squad.py -> build/lib/transformers/data/processors\n",
            "copying src/transformers/data/processors/utils.py -> build/lib/transformers/data/processors\n",
            "copying src/transformers/data/processors/__init__.py -> build/lib/transformers/data/processors\n",
            "copying src/transformers/data/processors/xnli.py -> build/lib/transformers/data/processors\n",
            "creating build/bdist.linux-x86_64\n",
            "creating build/bdist.linux-x86_64/egg\n",
            "creating build/bdist.linux-x86_64/egg/transformers\n",
            "copying build/lib/transformers/tokenization_utils_fast.py -> build/bdist.linux-x86_64/egg/transformers\n",
            "copying build/lib/transformers/optimization_tf.py -> build/bdist.linux-x86_64/egg/transformers\n",
            "copying build/lib/transformers/convert_pytorch_checkpoint_to_tf2.py -> build/bdist.linux-x86_64/egg/transformers\n",
            "copying build/lib/transformers/convert_graph_to_onnx.py -> build/bdist.linux-x86_64/egg/transformers\n",
            "copying build/lib/transformers/convert_tf_hub_seq_to_seq_bert_to_pytorch.py -> build/bdist.linux-x86_64/egg/transformers\n",
            "copying build/lib/transformers/configuration_utils.py -> build/bdist.linux-x86_64/egg/transformers\n",
            "copying build/lib/transformers/integrations.py -> build/bdist.linux-x86_64/egg/transformers\n",
            "copying build/lib/transformers/optimization.py -> build/bdist.linux-x86_64/egg/transformers\n",
            "copying build/lib/transformers/convert_slow_tokenizer.py -> build/bdist.linux-x86_64/egg/transformers\n",
            "copying build/lib/transformers/training_args_tf.py -> build/bdist.linux-x86_64/egg/transformers\n",
            "copying build/lib/transformers/modeling_tf_utils.py -> build/bdist.linux-x86_64/egg/transformers\n",
            "copying build/lib/transformers/convert_slow_tokenizers_checkpoints_to_fast.py -> build/bdist.linux-x86_64/egg/transformers\n",
            "copying build/lib/transformers/hf_argparser.py -> build/bdist.linux-x86_64/egg/transformers\n",
            "copying build/lib/transformers/generation_beam_search.py -> build/bdist.linux-x86_64/egg/transformers\n",
            "copying build/lib/transformers/activations_tf.py -> build/bdist.linux-x86_64/egg/transformers\n",
            "copying build/lib/transformers/dependency_versions_table.py -> build/bdist.linux-x86_64/egg/transformers\n",
            "copying build/lib/transformers/modelcard.py -> build/bdist.linux-x86_64/egg/transformers\n",
            "creating build/bdist.linux-x86_64/egg/transformers/utils\n",
            "copying build/lib/transformers/utils/dummy_flax_objects.py -> build/bdist.linux-x86_64/egg/transformers/utils\n",
            "copying build/lib/transformers/utils/modeling_auto_mapping.py -> build/bdist.linux-x86_64/egg/transformers/utils\n",
            "copying build/lib/transformers/utils/notebook.py -> build/bdist.linux-x86_64/egg/transformers/utils\n",
            "copying build/lib/transformers/utils/dummy_sentencepiece_objects.py -> build/bdist.linux-x86_64/egg/transformers/utils\n",
            "copying build/lib/transformers/utils/sentencepiece_model_pb2.py -> build/bdist.linux-x86_64/egg/transformers/utils\n",
            "copying build/lib/transformers/utils/dummy_tokenizers_objects.py -> build/bdist.linux-x86_64/egg/transformers/utils\n",
            "copying build/lib/transformers/utils/model_parallel_utils.py -> build/bdist.linux-x86_64/egg/transformers/utils\n",
            "copying build/lib/transformers/utils/versions.py -> build/bdist.linux-x86_64/egg/transformers/utils\n",
            "copying build/lib/transformers/utils/logging.py -> build/bdist.linux-x86_64/egg/transformers/utils\n",
            "copying build/lib/transformers/utils/dummy_pt_objects.py -> build/bdist.linux-x86_64/egg/transformers/utils\n",
            "copying build/lib/transformers/utils/dummy_tf_objects.py -> build/bdist.linux-x86_64/egg/transformers/utils\n",
            "copying build/lib/transformers/utils/hp_naming.py -> build/bdist.linux-x86_64/egg/transformers/utils\n",
            "copying build/lib/transformers/utils/__init__.py -> build/bdist.linux-x86_64/egg/transformers/utils\n",
            "copying build/lib/transformers/trainer_utils.py -> build/bdist.linux-x86_64/egg/transformers\n",
            "copying build/lib/transformers/feature_extraction_utils.py -> build/bdist.linux-x86_64/egg/transformers\n",
            "copying build/lib/transformers/tokenization_utils.py -> build/bdist.linux-x86_64/egg/transformers\n",
            "creating build/bdist.linux-x86_64/egg/transformers/sagemaker\n",
            "copying build/lib/transformers/sagemaker/trainer_sm.py -> build/bdist.linux-x86_64/egg/transformers/sagemaker\n",
            "copying build/lib/transformers/sagemaker/training_args_sm.py -> build/bdist.linux-x86_64/egg/transformers/sagemaker\n",
            "copying build/lib/transformers/sagemaker/__init__.py -> build/bdist.linux-x86_64/egg/transformers/sagemaker\n",
            "copying build/lib/transformers/activations.py -> build/bdist.linux-x86_64/egg/transformers\n",
            "copying build/lib/transformers/modeling_utils.py -> build/bdist.linux-x86_64/egg/transformers\n",
            "copying build/lib/transformers/modeling_tf_pytorch_utils.py -> build/bdist.linux-x86_64/egg/transformers\n",
            "copying build/lib/transformers/modeling_tf_outputs.py -> build/bdist.linux-x86_64/egg/transformers\n",
            "creating build/bdist.linux-x86_64/egg/transformers/models\n",
            "creating build/bdist.linux-x86_64/egg/transformers/models/ctrl\n",
            "copying build/lib/transformers/models/ctrl/modeling_tf_ctrl.py -> build/bdist.linux-x86_64/egg/transformers/models/ctrl\n",
            "copying build/lib/transformers/models/ctrl/configuration_ctrl.py -> build/bdist.linux-x86_64/egg/transformers/models/ctrl\n",
            "copying build/lib/transformers/models/ctrl/modeling_ctrl.py -> build/bdist.linux-x86_64/egg/transformers/models/ctrl\n",
            "copying build/lib/transformers/models/ctrl/tokenization_ctrl.py -> build/bdist.linux-x86_64/egg/transformers/models/ctrl\n",
            "copying build/lib/transformers/models/ctrl/__init__.py -> build/bdist.linux-x86_64/egg/transformers/models/ctrl\n",
            "creating build/bdist.linux-x86_64/egg/transformers/models/camembert\n",
            "copying build/lib/transformers/models/camembert/modeling_camembert.py -> build/bdist.linux-x86_64/egg/transformers/models/camembert\n",
            "copying build/lib/transformers/models/camembert/tokenization_camembert.py -> build/bdist.linux-x86_64/egg/transformers/models/camembert\n",
            "copying build/lib/transformers/models/camembert/modeling_tf_camembert.py -> build/bdist.linux-x86_64/egg/transformers/models/camembert\n",
            "copying build/lib/transformers/models/camembert/configuration_camembert.py -> build/bdist.linux-x86_64/egg/transformers/models/camembert\n",
            "copying build/lib/transformers/models/camembert/tokenization_camembert_fast.py -> build/bdist.linux-x86_64/egg/transformers/models/camembert\n",
            "copying build/lib/transformers/models/camembert/__init__.py -> build/bdist.linux-x86_64/egg/transformers/models/camembert\n",
            "creating build/bdist.linux-x86_64/egg/transformers/models/distilbert\n",
            "copying build/lib/transformers/models/distilbert/tokenization_distilbert_fast.py -> build/bdist.linux-x86_64/egg/transformers/models/distilbert\n",
            "copying build/lib/transformers/models/distilbert/configuration_distilbert.py -> build/bdist.linux-x86_64/egg/transformers/models/distilbert\n",
            "copying build/lib/transformers/models/distilbert/modeling_distilbert.py -> build/bdist.linux-x86_64/egg/transformers/models/distilbert\n",
            "copying build/lib/transformers/models/distilbert/modeling_tf_distilbert.py -> build/bdist.linux-x86_64/egg/transformers/models/distilbert\n",
            "copying build/lib/transformers/models/distilbert/tokenization_distilbert.py -> build/bdist.linux-x86_64/egg/transformers/models/distilbert\n",
            "copying build/lib/transformers/models/distilbert/__init__.py -> build/bdist.linux-x86_64/egg/transformers/models/distilbert\n",
            "creating build/bdist.linux-x86_64/egg/transformers/models/xlm_prophetnet\n",
            "copying build/lib/transformers/models/xlm_prophetnet/configuration_xlm_prophetnet.py -> build/bdist.linux-x86_64/egg/transformers/models/xlm_prophetnet\n",
            "copying build/lib/transformers/models/xlm_prophetnet/modeling_xlm_prophetnet.py -> build/bdist.linux-x86_64/egg/transformers/models/xlm_prophetnet\n",
            "copying build/lib/transformers/models/xlm_prophetnet/tokenization_xlm_prophetnet.py -> build/bdist.linux-x86_64/egg/transformers/models/xlm_prophetnet\n",
            "copying build/lib/transformers/models/xlm_prophetnet/__init__.py -> build/bdist.linux-x86_64/egg/transformers/models/xlm_prophetnet\n",
            "creating build/bdist.linux-x86_64/egg/transformers/models/mmbt\n",
            "copying build/lib/transformers/models/mmbt/modeling_mmbt.py -> build/bdist.linux-x86_64/egg/transformers/models/mmbt\n",
            "copying build/lib/transformers/models/mmbt/configuration_mmbt.py -> build/bdist.linux-x86_64/egg/transformers/models/mmbt\n",
            "copying build/lib/transformers/models/mmbt/__init__.py -> build/bdist.linux-x86_64/egg/transformers/models/mmbt\n",
            "creating build/bdist.linux-x86_64/egg/transformers/models/electra\n",
            "copying build/lib/transformers/models/electra/tokenization_electra_fast.py -> build/bdist.linux-x86_64/egg/transformers/models/electra\n",
            "copying build/lib/transformers/models/electra/tokenization_electra.py -> build/bdist.linux-x86_64/egg/transformers/models/electra\n",
            "copying build/lib/transformers/models/electra/convert_electra_original_tf_checkpoint_to_pytorch.py -> build/bdist.linux-x86_64/egg/transformers/models/electra\n",
            "copying build/lib/transformers/models/electra/modeling_electra.py -> build/bdist.linux-x86_64/egg/transformers/models/electra\n",
            "copying build/lib/transformers/models/electra/configuration_electra.py -> build/bdist.linux-x86_64/egg/transformers/models/electra\n",
            "copying build/lib/transformers/models/electra/__init__.py -> build/bdist.linux-x86_64/egg/transformers/models/electra\n",
            "copying build/lib/transformers/models/electra/modeling_tf_electra.py -> build/bdist.linux-x86_64/egg/transformers/models/electra\n",
            "creating build/bdist.linux-x86_64/egg/transformers/models/layoutlm\n",
            "copying build/lib/transformers/models/layoutlm/configuration_layoutlm.py -> build/bdist.linux-x86_64/egg/transformers/models/layoutlm\n",
            "copying build/lib/transformers/models/layoutlm/tokenization_layoutlm.py -> build/bdist.linux-x86_64/egg/transformers/models/layoutlm\n",
            "copying build/lib/transformers/models/layoutlm/modeling_layoutlm.py -> build/bdist.linux-x86_64/egg/transformers/models/layoutlm\n",
            "copying build/lib/transformers/models/layoutlm/tokenization_layoutlm_fast.py -> build/bdist.linux-x86_64/egg/transformers/models/layoutlm\n",
            "copying build/lib/transformers/models/layoutlm/__init__.py -> build/bdist.linux-x86_64/egg/transformers/models/layoutlm\n",
            "creating build/bdist.linux-x86_64/egg/transformers/models/squeezebert\n",
            "copying build/lib/transformers/models/squeezebert/modeling_squeezebert.py -> build/bdist.linux-x86_64/egg/transformers/models/squeezebert\n",
            "copying build/lib/transformers/models/squeezebert/configuration_squeezebert.py -> build/bdist.linux-x86_64/egg/transformers/models/squeezebert\n",
            "copying build/lib/transformers/models/squeezebert/tokenization_squeezebert.py -> build/bdist.linux-x86_64/egg/transformers/models/squeezebert\n",
            "copying build/lib/transformers/models/squeezebert/tokenization_squeezebert_fast.py -> build/bdist.linux-x86_64/egg/transformers/models/squeezebert\n",
            "copying build/lib/transformers/models/squeezebert/__init__.py -> build/bdist.linux-x86_64/egg/transformers/models/squeezebert\n",
            "creating build/bdist.linux-x86_64/egg/transformers/models/m2m_100\n",
            "copying build/lib/transformers/models/m2m_100/modeling_m2m_100.py -> build/bdist.linux-x86_64/egg/transformers/models/m2m_100\n",
            "copying build/lib/transformers/models/m2m_100/configuration_m2m_100.py -> build/bdist.linux-x86_64/egg/transformers/models/m2m_100\n",
            "copying build/lib/transformers/models/m2m_100/tokenization_m2m_100.py -> build/bdist.linux-x86_64/egg/transformers/models/m2m_100\n",
            "copying build/lib/transformers/models/m2m_100/__init__.py -> build/bdist.linux-x86_64/egg/transformers/models/m2m_100\n",
            "copying build/lib/transformers/models/m2m_100/convert_m2m100_original_checkpoint_to_pytorch.py -> build/bdist.linux-x86_64/egg/transformers/models/m2m_100\n",
            "creating build/bdist.linux-x86_64/egg/transformers/models/bertweet\n",
            "copying build/lib/transformers/models/bertweet/tokenization_bertweet.py -> build/bdist.linux-x86_64/egg/transformers/models/bertweet\n",
            "copying build/lib/transformers/models/bertweet/__init__.py -> build/bdist.linux-x86_64/egg/transformers/models/bertweet\n",
            "creating build/bdist.linux-x86_64/egg/transformers/models/dialogpt\n",
            "copying build/lib/transformers/models/dialogpt/convert_dialogpt_original_pytorch_checkpoint_to_pytorch.py -> build/bdist.linux-x86_64/egg/transformers/models/dialogpt\n",
            "copying build/lib/transformers/models/dialogpt/__init__.py -> build/bdist.linux-x86_64/egg/transformers/models/dialogpt\n",
            "creating build/bdist.linux-x86_64/egg/transformers/models/bert_japanese\n",
            "copying build/lib/transformers/models/bert_japanese/tokenization_bert_japanese.py -> build/bdist.linux-x86_64/egg/transformers/models/bert_japanese\n",
            "copying build/lib/transformers/models/bert_japanese/__init__.py -> build/bdist.linux-x86_64/egg/transformers/models/bert_japanese\n",
            "creating build/bdist.linux-x86_64/egg/transformers/models/pegasus\n",
            "copying build/lib/transformers/models/pegasus/convert_pegasus_tf_to_pytorch.py -> build/bdist.linux-x86_64/egg/transformers/models/pegasus\n",
            "copying build/lib/transformers/models/pegasus/modeling_tf_pegasus.py -> build/bdist.linux-x86_64/egg/transformers/models/pegasus\n",
            "copying build/lib/transformers/models/pegasus/tokenization_pegasus_fast.py -> build/bdist.linux-x86_64/egg/transformers/models/pegasus\n",
            "copying build/lib/transformers/models/pegasus/modeling_pegasus.py -> build/bdist.linux-x86_64/egg/transformers/models/pegasus\n",
            "copying build/lib/transformers/models/pegasus/configuration_pegasus.py -> build/bdist.linux-x86_64/egg/transformers/models/pegasus\n",
            "copying build/lib/transformers/models/pegasus/__init__.py -> build/bdist.linux-x86_64/egg/transformers/models/pegasus\n",
            "copying build/lib/transformers/models/pegasus/tokenization_pegasus.py -> build/bdist.linux-x86_64/egg/transformers/models/pegasus\n",
            "creating build/bdist.linux-x86_64/egg/transformers/models/transfo_xl\n",
            "copying build/lib/transformers/models/transfo_xl/modeling_tf_transfo_xl_utilities.py -> build/bdist.linux-x86_64/egg/transformers/models/transfo_xl\n",
            "copying build/lib/transformers/models/transfo_xl/configuration_transfo_xl.py -> build/bdist.linux-x86_64/egg/transformers/models/transfo_xl\n",
            "copying build/lib/transformers/models/transfo_xl/modeling_tf_transfo_xl.py -> build/bdist.linux-x86_64/egg/transformers/models/transfo_xl\n",
            "copying build/lib/transformers/models/transfo_xl/modeling_transfo_xl.py -> build/bdist.linux-x86_64/egg/transformers/models/transfo_xl\n",
            "copying build/lib/transformers/models/transfo_xl/modeling_transfo_xl_utilities.py -> build/bdist.linux-x86_64/egg/transformers/models/transfo_xl\n",
            "copying build/lib/transformers/models/transfo_xl/__init__.py -> build/bdist.linux-x86_64/egg/transformers/models/transfo_xl\n",
            "copying build/lib/transformers/models/transfo_xl/convert_transfo_xl_original_tf_checkpoint_to_pytorch.py -> build/bdist.linux-x86_64/egg/transformers/models/transfo_xl\n",
            "copying build/lib/transformers/models/transfo_xl/tokenization_transfo_xl.py -> build/bdist.linux-x86_64/egg/transformers/models/transfo_xl\n",
            "creating build/bdist.linux-x86_64/egg/transformers/models/bert\n",
            "copying build/lib/transformers/models/bert/convert_bert_original_tf_checkpoint_to_pytorch.py -> build/bdist.linux-x86_64/egg/transformers/models/bert\n",
            "copying build/lib/transformers/models/bert/configuration_bert.py -> build/bdist.linux-x86_64/egg/transformers/models/bert\n",
            "copying build/lib/transformers/models/bert/convert_bert_original_tf2_checkpoint_to_pytorch.py -> build/bdist.linux-x86_64/egg/transformers/models/bert\n",
            "copying build/lib/transformers/models/bert/modeling_tf_bert.py -> build/bdist.linux-x86_64/egg/transformers/models/bert\n",
            "copying build/lib/transformers/models/bert/tokenization_bert.py -> build/bdist.linux-x86_64/egg/transformers/models/bert\n",
            "copying build/lib/transformers/models/bert/__init__.py -> build/bdist.linux-x86_64/egg/transformers/models/bert\n",
            "copying build/lib/transformers/models/bert/modeling_bert.py -> build/bdist.linux-x86_64/egg/transformers/models/bert\n",
            "copying build/lib/transformers/models/bert/tokenization_bert_fast.py -> build/bdist.linux-x86_64/egg/transformers/models/bert\n",
            "copying build/lib/transformers/models/bert/modeling_flax_bert.py -> build/bdist.linux-x86_64/egg/transformers/models/bert\n",
            "copying build/lib/transformers/models/bert/convert_bert_pytorch_checkpoint_to_original_tf.py -> build/bdist.linux-x86_64/egg/transformers/models/bert\n",
            "creating build/bdist.linux-x86_64/egg/transformers/models/convbert\n",
            "copying build/lib/transformers/models/convbert/modeling_tf_convbert.py -> build/bdist.linux-x86_64/egg/transformers/models/convbert\n",
            "copying build/lib/transformers/models/convbert/tokenization_convbert.py -> build/bdist.linux-x86_64/egg/transformers/models/convbert\n",
            "copying build/lib/transformers/models/convbert/tokenization_convbert_fast.py -> build/bdist.linux-x86_64/egg/transformers/models/convbert\n",
            "copying build/lib/transformers/models/convbert/convert_convbert_original_tf1_checkpoint_to_pytorch_and_tf2.py -> build/bdist.linux-x86_64/egg/transformers/models/convbert\n",
            "copying build/lib/transformers/models/convbert/configuration_convbert.py -> build/bdist.linux-x86_64/egg/transformers/models/convbert\n",
            "copying build/lib/transformers/models/convbert/modeling_convbert.py -> build/bdist.linux-x86_64/egg/transformers/models/convbert\n",
            "copying build/lib/transformers/models/convbert/__init__.py -> build/bdist.linux-x86_64/egg/transformers/models/convbert\n",
            "creating build/bdist.linux-x86_64/egg/transformers/models/ibert\n",
            "copying build/lib/transformers/models/ibert/quant_modules.py -> build/bdist.linux-x86_64/egg/transformers/models/ibert\n",
            "copying build/lib/transformers/models/ibert/modeling_ibert.py -> build/bdist.linux-x86_64/egg/transformers/models/ibert\n",
            "copying build/lib/transformers/models/ibert/__init__.py -> build/bdist.linux-x86_64/egg/transformers/models/ibert\n",
            "copying build/lib/transformers/models/ibert/configuration_ibert.py -> build/bdist.linux-x86_64/egg/transformers/models/ibert\n",
            "creating build/bdist.linux-x86_64/egg/transformers/models/auto\n",
            "copying build/lib/transformers/models/auto/configuration_auto.py -> build/bdist.linux-x86_64/egg/transformers/models/auto\n",
            "copying build/lib/transformers/models/auto/tokenization_auto.py -> build/bdist.linux-x86_64/egg/transformers/models/auto\n",
            "copying build/lib/transformers/models/auto/__init__.py -> build/bdist.linux-x86_64/egg/transformers/models/auto\n",
            "copying build/lib/transformers/models/auto/modeling_auto.py -> build/bdist.linux-x86_64/egg/transformers/models/auto\n",
            "copying build/lib/transformers/models/auto/modeling_flax_auto.py -> build/bdist.linux-x86_64/egg/transformers/models/auto\n",
            "copying build/lib/transformers/models/auto/modeling_tf_auto.py -> build/bdist.linux-x86_64/egg/transformers/models/auto\n",
            "creating build/bdist.linux-x86_64/egg/transformers/models/lxmert\n",
            "copying build/lib/transformers/models/lxmert/modeling_lxmert.py -> build/bdist.linux-x86_64/egg/transformers/models/lxmert\n",
            "copying build/lib/transformers/models/lxmert/tokenization_lxmert.py -> build/bdist.linux-x86_64/egg/transformers/models/lxmert\n",
            "copying build/lib/transformers/models/lxmert/convert_lxmert_original_tf_checkpoint_to_pytorch.py -> build/bdist.linux-x86_64/egg/transformers/models/lxmert\n",
            "copying build/lib/transformers/models/lxmert/configuration_lxmert.py -> build/bdist.linux-x86_64/egg/transformers/models/lxmert\n",
            "copying build/lib/transformers/models/lxmert/__init__.py -> build/bdist.linux-x86_64/egg/transformers/models/lxmert\n",
            "copying build/lib/transformers/models/lxmert/modeling_tf_lxmert.py -> build/bdist.linux-x86_64/egg/transformers/models/lxmert\n",
            "copying build/lib/transformers/models/lxmert/tokenization_lxmert_fast.py -> build/bdist.linux-x86_64/egg/transformers/models/lxmert\n",
            "creating build/bdist.linux-x86_64/egg/transformers/models/encoder_decoder\n",
            "copying build/lib/transformers/models/encoder_decoder/modeling_encoder_decoder.py -> build/bdist.linux-x86_64/egg/transformers/models/encoder_decoder\n",
            "copying build/lib/transformers/models/encoder_decoder/configuration_encoder_decoder.py -> build/bdist.linux-x86_64/egg/transformers/models/encoder_decoder\n",
            "copying build/lib/transformers/models/encoder_decoder/__init__.py -> build/bdist.linux-x86_64/egg/transformers/models/encoder_decoder\n",
            "creating build/bdist.linux-x86_64/egg/transformers/models/funnel\n",
            "copying build/lib/transformers/models/funnel/modeling_funnel.py -> build/bdist.linux-x86_64/egg/transformers/models/funnel\n",
            "copying build/lib/transformers/models/funnel/convert_funnel_original_tf_checkpoint_to_pytorch.py -> build/bdist.linux-x86_64/egg/transformers/models/funnel\n",
            "copying build/lib/transformers/models/funnel/tokenization_funnel_fast.py -> build/bdist.linux-x86_64/egg/transformers/models/funnel\n",
            "copying build/lib/transformers/models/funnel/modeling_tf_funnel.py -> build/bdist.linux-x86_64/egg/transformers/models/funnel\n",
            "copying build/lib/transformers/models/funnel/tokenization_funnel.py -> build/bdist.linux-x86_64/egg/transformers/models/funnel\n",
            "copying build/lib/transformers/models/funnel/__init__.py -> build/bdist.linux-x86_64/egg/transformers/models/funnel\n",
            "copying build/lib/transformers/models/funnel/configuration_funnel.py -> build/bdist.linux-x86_64/egg/transformers/models/funnel\n",
            "creating build/bdist.linux-x86_64/egg/transformers/models/deberta\n",
            "copying build/lib/transformers/models/deberta/tokenization_deberta.py -> build/bdist.linux-x86_64/egg/transformers/models/deberta\n",
            "copying build/lib/transformers/models/deberta/modeling_deberta.py -> build/bdist.linux-x86_64/egg/transformers/models/deberta\n",
            "copying build/lib/transformers/models/deberta/__init__.py -> build/bdist.linux-x86_64/egg/transformers/models/deberta\n",
            "copying build/lib/transformers/models/deberta/configuration_deberta.py -> build/bdist.linux-x86_64/egg/transformers/models/deberta\n",
            "creating build/bdist.linux-x86_64/egg/transformers/models/roberta\n",
            "copying build/lib/transformers/models/roberta/modeling_tf_roberta.py -> build/bdist.linux-x86_64/egg/transformers/models/roberta\n",
            "copying build/lib/transformers/models/roberta/tokenization_roberta_fast.py -> build/bdist.linux-x86_64/egg/transformers/models/roberta\n",
            "copying build/lib/transformers/models/roberta/tokenization_roberta.py -> build/bdist.linux-x86_64/egg/transformers/models/roberta\n",
            "copying build/lib/transformers/models/roberta/modeling_flax_roberta.py -> build/bdist.linux-x86_64/egg/transformers/models/roberta\n",
            "copying build/lib/transformers/models/roberta/convert_roberta_original_pytorch_checkpoint_to_pytorch.py -> build/bdist.linux-x86_64/egg/transformers/models/roberta\n",
            "copying build/lib/transformers/models/roberta/modeling_roberta.py -> build/bdist.linux-x86_64/egg/transformers/models/roberta\n",
            "copying build/lib/transformers/models/roberta/__init__.py -> build/bdist.linux-x86_64/egg/transformers/models/roberta\n",
            "copying build/lib/transformers/models/roberta/configuration_roberta.py -> build/bdist.linux-x86_64/egg/transformers/models/roberta\n",
            "creating build/bdist.linux-x86_64/egg/transformers/models/fsmt\n",
            "copying build/lib/transformers/models/fsmt/modeling_fsmt.py -> build/bdist.linux-x86_64/egg/transformers/models/fsmt\n",
            "copying build/lib/transformers/models/fsmt/configuration_fsmt.py -> build/bdist.linux-x86_64/egg/transformers/models/fsmt\n",
            "copying build/lib/transformers/models/fsmt/convert_fsmt_original_pytorch_checkpoint_to_pytorch.py -> build/bdist.linux-x86_64/egg/transformers/models/fsmt\n",
            "copying build/lib/transformers/models/fsmt/tokenization_fsmt.py -> build/bdist.linux-x86_64/egg/transformers/models/fsmt\n",
            "copying build/lib/transformers/models/fsmt/__init__.py -> build/bdist.linux-x86_64/egg/transformers/models/fsmt\n",
            "creating build/bdist.linux-x86_64/egg/transformers/models/gpt2\n",
            "copying build/lib/transformers/models/gpt2/convert_gpt2_original_tf_checkpoint_to_pytorch.py -> build/bdist.linux-x86_64/egg/transformers/models/gpt2\n",
            "copying build/lib/transformers/models/gpt2/modeling_gpt2.py -> build/bdist.linux-x86_64/egg/transformers/models/gpt2\n",
            "copying build/lib/transformers/models/gpt2/modeling_tf_gpt2.py -> build/bdist.linux-x86_64/egg/transformers/models/gpt2\n",
            "copying build/lib/transformers/models/gpt2/configuration_gpt2.py -> build/bdist.linux-x86_64/egg/transformers/models/gpt2\n",
            "copying build/lib/transformers/models/gpt2/tokenization_gpt2_fast.py -> build/bdist.linux-x86_64/egg/transformers/models/gpt2\n",
            "copying build/lib/transformers/models/gpt2/__init__.py -> build/bdist.linux-x86_64/egg/transformers/models/gpt2\n",
            "copying build/lib/transformers/models/gpt2/tokenization_gpt2.py -> build/bdist.linux-x86_64/egg/transformers/models/gpt2\n",
            "creating build/bdist.linux-x86_64/egg/transformers/models/bert_generation\n",
            "copying build/lib/transformers/models/bert_generation/__init__.py -> build/bdist.linux-x86_64/egg/transformers/models/bert_generation\n",
            "copying build/lib/transformers/models/bert_generation/tokenization_bert_generation.py -> build/bdist.linux-x86_64/egg/transformers/models/bert_generation\n",
            "copying build/lib/transformers/models/bert_generation/modeling_bert_generation.py -> build/bdist.linux-x86_64/egg/transformers/models/bert_generation\n",
            "copying build/lib/transformers/models/bert_generation/configuration_bert_generation.py -> build/bdist.linux-x86_64/egg/transformers/models/bert_generation\n",
            "creating build/bdist.linux-x86_64/egg/transformers/models/blenderbot_small\n",
            "copying build/lib/transformers/models/blenderbot_small/tokenization_blenderbot_small.py -> build/bdist.linux-x86_64/egg/transformers/models/blenderbot_small\n",
            "copying build/lib/transformers/models/blenderbot_small/tokenization_blenderbot_small_fast.py -> build/bdist.linux-x86_64/egg/transformers/models/blenderbot_small\n",
            "copying build/lib/transformers/models/blenderbot_small/modeling_blenderbot_small.py -> build/bdist.linux-x86_64/egg/transformers/models/blenderbot_small\n",
            "copying build/lib/transformers/models/blenderbot_small/modeling_tf_blenderbot_small.py -> build/bdist.linux-x86_64/egg/transformers/models/blenderbot_small\n",
            "copying build/lib/transformers/models/blenderbot_small/configuration_blenderbot_small.py -> build/bdist.linux-x86_64/egg/transformers/models/blenderbot_small\n",
            "copying build/lib/transformers/models/blenderbot_small/__init__.py -> build/bdist.linux-x86_64/egg/transformers/models/blenderbot_small\n",
            "creating build/bdist.linux-x86_64/egg/transformers/models/bart\n",
            "copying build/lib/transformers/models/bart/configuration_bart.py -> build/bdist.linux-x86_64/egg/transformers/models/bart\n",
            "copying build/lib/transformers/models/bart/convert_bart_original_pytorch_checkpoint_to_pytorch.py -> build/bdist.linux-x86_64/egg/transformers/models/bart\n",
            "copying build/lib/transformers/models/bart/tokenization_bart_fast.py -> build/bdist.linux-x86_64/egg/transformers/models/bart\n",
            "copying build/lib/transformers/models/bart/modeling_bart.py -> build/bdist.linux-x86_64/egg/transformers/models/bart\n",
            "copying build/lib/transformers/models/bart/__init__.py -> build/bdist.linux-x86_64/egg/transformers/models/bart\n",
            "copying build/lib/transformers/models/bart/tokenization_bart.py -> build/bdist.linux-x86_64/egg/transformers/models/bart\n",
            "copying build/lib/transformers/models/bart/modeling_tf_bart.py -> build/bdist.linux-x86_64/egg/transformers/models/bart\n",
            "creating build/bdist.linux-x86_64/egg/transformers/models/tapas\n",
            "copying build/lib/transformers/models/tapas/convert_tapas_original_tf_checkpoint_to_pytorch.py -> build/bdist.linux-x86_64/egg/transformers/models/tapas\n",
            "copying build/lib/transformers/models/tapas/tokenization_tapas.py -> build/bdist.linux-x86_64/egg/transformers/models/tapas\n",
            "copying build/lib/transformers/models/tapas/configuration_tapas.py -> build/bdist.linux-x86_64/egg/transformers/models/tapas\n",
            "copying build/lib/transformers/models/tapas/__init__.py -> build/bdist.linux-x86_64/egg/transformers/models/tapas\n",
            "copying build/lib/transformers/models/tapas/modeling_tapas.py -> build/bdist.linux-x86_64/egg/transformers/models/tapas\n",
            "creating build/bdist.linux-x86_64/egg/transformers/models/dpr\n",
            "copying build/lib/transformers/models/dpr/convert_dpr_original_checkpoint_to_pytorch.py -> build/bdist.linux-x86_64/egg/transformers/models/dpr\n",
            "copying build/lib/transformers/models/dpr/modeling_tf_dpr.py -> build/bdist.linux-x86_64/egg/transformers/models/dpr\n",
            "copying build/lib/transformers/models/dpr/modeling_dpr.py -> build/bdist.linux-x86_64/egg/transformers/models/dpr\n",
            "copying build/lib/transformers/models/dpr/tokenization_dpr.py -> build/bdist.linux-x86_64/egg/transformers/models/dpr\n",
            "copying build/lib/transformers/models/dpr/__init__.py -> build/bdist.linux-x86_64/egg/transformers/models/dpr\n",
            "copying build/lib/transformers/models/dpr/configuration_dpr.py -> build/bdist.linux-x86_64/egg/transformers/models/dpr\n",
            "copying build/lib/transformers/models/dpr/tokenization_dpr_fast.py -> build/bdist.linux-x86_64/egg/transformers/models/dpr\n",
            "creating build/bdist.linux-x86_64/egg/transformers/models/xlm_roberta\n",
            "copying build/lib/transformers/models/xlm_roberta/tokenization_xlm_roberta.py -> build/bdist.linux-x86_64/egg/transformers/models/xlm_roberta\n",
            "copying build/lib/transformers/models/xlm_roberta/modeling_xlm_roberta.py -> build/bdist.linux-x86_64/egg/transformers/models/xlm_roberta\n",
            "copying build/lib/transformers/models/xlm_roberta/__init__.py -> build/bdist.linux-x86_64/egg/transformers/models/xlm_roberta\n",
            "copying build/lib/transformers/models/xlm_roberta/configuration_xlm_roberta.py -> build/bdist.linux-x86_64/egg/transformers/models/xlm_roberta\n",
            "copying build/lib/transformers/models/xlm_roberta/tokenization_xlm_roberta_fast.py -> build/bdist.linux-x86_64/egg/transformers/models/xlm_roberta\n",
            "copying build/lib/transformers/models/xlm_roberta/modeling_tf_xlm_roberta.py -> build/bdist.linux-x86_64/egg/transformers/models/xlm_roberta\n",
            "creating build/bdist.linux-x86_64/egg/transformers/models/xlnet\n",
            "copying build/lib/transformers/models/xlnet/configuration_xlnet.py -> build/bdist.linux-x86_64/egg/transformers/models/xlnet\n",
            "copying build/lib/transformers/models/xlnet/modeling_tf_xlnet.py -> build/bdist.linux-x86_64/egg/transformers/models/xlnet\n",
            "copying build/lib/transformers/models/xlnet/tokenization_xlnet_fast.py -> build/bdist.linux-x86_64/egg/transformers/models/xlnet\n",
            "copying build/lib/transformers/models/xlnet/tokenization_xlnet.py -> build/bdist.linux-x86_64/egg/transformers/models/xlnet\n",
            "copying build/lib/transformers/models/xlnet/modeling_xlnet.py -> build/bdist.linux-x86_64/egg/transformers/models/xlnet\n",
            "copying build/lib/transformers/models/xlnet/convert_xlnet_original_tf_checkpoint_to_pytorch.py -> build/bdist.linux-x86_64/egg/transformers/models/xlnet\n",
            "copying build/lib/transformers/models/xlnet/__init__.py -> build/bdist.linux-x86_64/egg/transformers/models/xlnet\n",
            "creating build/bdist.linux-x86_64/egg/transformers/models/prophetnet\n",
            "copying build/lib/transformers/models/prophetnet/convert_prophetnet_original_pytorch_checkpoint_to_pytorch.py -> build/bdist.linux-x86_64/egg/transformers/models/prophetnet\n",
            "copying build/lib/transformers/models/prophetnet/tokenization_prophetnet.py -> build/bdist.linux-x86_64/egg/transformers/models/prophetnet\n",
            "copying build/lib/transformers/models/prophetnet/configuration_prophetnet.py -> build/bdist.linux-x86_64/egg/transformers/models/prophetnet\n",
            "copying build/lib/transformers/models/prophetnet/modeling_prophetnet.py -> build/bdist.linux-x86_64/egg/transformers/models/prophetnet\n",
            "copying build/lib/transformers/models/prophetnet/__init__.py -> build/bdist.linux-x86_64/egg/transformers/models/prophetnet\n",
            "creating build/bdist.linux-x86_64/egg/transformers/models/barthez\n",
            "copying build/lib/transformers/models/barthez/tokenization_barthez_fast.py -> build/bdist.linux-x86_64/egg/transformers/models/barthez\n",
            "copying build/lib/transformers/models/barthez/__init__.py -> build/bdist.linux-x86_64/egg/transformers/models/barthez\n",
            "copying build/lib/transformers/models/barthez/tokenization_barthez.py -> build/bdist.linux-x86_64/egg/transformers/models/barthez\n",
            "creating build/bdist.linux-x86_64/egg/transformers/models/rag\n",
            "copying build/lib/transformers/models/rag/modeling_rag.py -> build/bdist.linux-x86_64/egg/transformers/models/rag\n",
            "copying build/lib/transformers/models/rag/retrieval_rag.py -> build/bdist.linux-x86_64/egg/transformers/models/rag\n",
            "copying build/lib/transformers/models/rag/tokenization_rag.py -> build/bdist.linux-x86_64/egg/transformers/models/rag\n",
            "copying build/lib/transformers/models/rag/configuration_rag.py -> build/bdist.linux-x86_64/egg/transformers/models/rag\n",
            "copying build/lib/transformers/models/rag/__init__.py -> build/bdist.linux-x86_64/egg/transformers/models/rag\n",
            "creating build/bdist.linux-x86_64/egg/transformers/models/retribert\n",
            "copying build/lib/transformers/models/retribert/modeling_retribert.py -> build/bdist.linux-x86_64/egg/transformers/models/retribert\n",
            "copying build/lib/transformers/models/retribert/tokenization_retribert_fast.py -> build/bdist.linux-x86_64/egg/transformers/models/retribert\n",
            "copying build/lib/transformers/models/retribert/tokenization_retribert.py -> build/bdist.linux-x86_64/egg/transformers/models/retribert\n",
            "copying build/lib/transformers/models/retribert/configuration_retribert.py -> build/bdist.linux-x86_64/egg/transformers/models/retribert\n",
            "copying build/lib/transformers/models/retribert/__init__.py -> build/bdist.linux-x86_64/egg/transformers/models/retribert\n",
            "creating build/bdist.linux-x86_64/egg/transformers/models/mobilebert\n",
            "copying build/lib/transformers/models/mobilebert/tokenization_mobilebert_fast.py -> build/bdist.linux-x86_64/egg/transformers/models/mobilebert\n",
            "copying build/lib/transformers/models/mobilebert/tokenization_mobilebert.py -> build/bdist.linux-x86_64/egg/transformers/models/mobilebert\n",
            "copying build/lib/transformers/models/mobilebert/modeling_mobilebert.py -> build/bdist.linux-x86_64/egg/transformers/models/mobilebert\n",
            "copying build/lib/transformers/models/mobilebert/configuration_mobilebert.py -> build/bdist.linux-x86_64/egg/transformers/models/mobilebert\n",
            "copying build/lib/transformers/models/mobilebert/modeling_tf_mobilebert.py -> build/bdist.linux-x86_64/egg/transformers/models/mobilebert\n",
            "copying build/lib/transformers/models/mobilebert/__init__.py -> build/bdist.linux-x86_64/egg/transformers/models/mobilebert\n",
            "copying build/lib/transformers/models/mobilebert/convert_mobilebert_original_tf_checkpoint_to_pytorch.py -> build/bdist.linux-x86_64/egg/transformers/models/mobilebert\n",
            "creating build/bdist.linux-x86_64/egg/transformers/models/marian\n",
            "copying build/lib/transformers/models/marian/configuration_marian.py -> build/bdist.linux-x86_64/egg/transformers/models/marian\n",
            "copying build/lib/transformers/models/marian/modeling_tf_marian.py -> build/bdist.linux-x86_64/egg/transformers/models/marian\n",
            "copying build/lib/transformers/models/marian/tokenization_marian.py -> build/bdist.linux-x86_64/egg/transformers/models/marian\n",
            "copying build/lib/transformers/models/marian/convert_marian_tatoeba_to_pytorch.py -> build/bdist.linux-x86_64/egg/transformers/models/marian\n",
            "copying build/lib/transformers/models/marian/modeling_marian.py -> build/bdist.linux-x86_64/egg/transformers/models/marian\n",
            "copying build/lib/transformers/models/marian/__init__.py -> build/bdist.linux-x86_64/egg/transformers/models/marian\n",
            "copying build/lib/transformers/models/marian/convert_marian_to_pytorch.py -> build/bdist.linux-x86_64/egg/transformers/models/marian\n",
            "creating build/bdist.linux-x86_64/egg/transformers/models/xlm\n",
            "copying build/lib/transformers/models/xlm/configuration_xlm.py -> build/bdist.linux-x86_64/egg/transformers/models/xlm\n",
            "copying build/lib/transformers/models/xlm/convert_xlm_original_pytorch_checkpoint_to_pytorch.py -> build/bdist.linux-x86_64/egg/transformers/models/xlm\n",
            "copying build/lib/transformers/models/xlm/modeling_xlm.py -> build/bdist.linux-x86_64/egg/transformers/models/xlm\n",
            "copying build/lib/transformers/models/xlm/tokenization_xlm.py -> build/bdist.linux-x86_64/egg/transformers/models/xlm\n",
            "copying build/lib/transformers/models/xlm/__init__.py -> build/bdist.linux-x86_64/egg/transformers/models/xlm\n",
            "copying build/lib/transformers/models/xlm/modeling_tf_xlm.py -> build/bdist.linux-x86_64/egg/transformers/models/xlm\n",
            "creating build/bdist.linux-x86_64/egg/transformers/models/phobert\n",
            "copying build/lib/transformers/models/phobert/tokenization_phobert.py -> build/bdist.linux-x86_64/egg/transformers/models/phobert\n",
            "copying build/lib/transformers/models/phobert/__init__.py -> build/bdist.linux-x86_64/egg/transformers/models/phobert\n",
            "creating build/bdist.linux-x86_64/egg/transformers/models/deberta_v2\n",
            "copying build/lib/transformers/models/deberta_v2/modeling_deberta_v2.py -> build/bdist.linux-x86_64/egg/transformers/models/deberta_v2\n",
            "copying build/lib/transformers/models/deberta_v2/configuration_deberta_v2.py -> build/bdist.linux-x86_64/egg/transformers/models/deberta_v2\n",
            "copying build/lib/transformers/models/deberta_v2/tokenization_deberta_v2.py -> build/bdist.linux-x86_64/egg/transformers/models/deberta_v2\n",
            "copying build/lib/transformers/models/deberta_v2/__init__.py -> build/bdist.linux-x86_64/egg/transformers/models/deberta_v2\n",
            "creating build/bdist.linux-x86_64/egg/transformers/models/albert\n",
            "copying build/lib/transformers/models/albert/configuration_albert.py -> build/bdist.linux-x86_64/egg/transformers/models/albert\n",
            "copying build/lib/transformers/models/albert/tokenization_albert_fast.py -> build/bdist.linux-x86_64/egg/transformers/models/albert\n",
            "copying build/lib/transformers/models/albert/modeling_tf_albert.py -> build/bdist.linux-x86_64/egg/transformers/models/albert\n",
            "copying build/lib/transformers/models/albert/tokenization_albert.py -> build/bdist.linux-x86_64/egg/transformers/models/albert\n",
            "copying build/lib/transformers/models/albert/__init__.py -> build/bdist.linux-x86_64/egg/transformers/models/albert\n",
            "copying build/lib/transformers/models/albert/modeling_albert.py -> build/bdist.linux-x86_64/egg/transformers/models/albert\n",
            "copying build/lib/transformers/models/albert/convert_albert_original_tf_checkpoint_to_pytorch.py -> build/bdist.linux-x86_64/egg/transformers/models/albert\n",
            "creating build/bdist.linux-x86_64/egg/transformers/models/led\n",
            "copying build/lib/transformers/models/led/configuration_led.py -> build/bdist.linux-x86_64/egg/transformers/models/led\n",
            "copying build/lib/transformers/models/led/modeling_led.py -> build/bdist.linux-x86_64/egg/transformers/models/led\n",
            "copying build/lib/transformers/models/led/tokenization_led.py -> build/bdist.linux-x86_64/egg/transformers/models/led\n",
            "copying build/lib/transformers/models/led/tokenization_led_fast.py -> build/bdist.linux-x86_64/egg/transformers/models/led\n",
            "copying build/lib/transformers/models/led/__init__.py -> build/bdist.linux-x86_64/egg/transformers/models/led\n",
            "copying build/lib/transformers/models/led/modeling_tf_led.py -> build/bdist.linux-x86_64/egg/transformers/models/led\n",
            "copying build/lib/transformers/models/__init__.py -> build/bdist.linux-x86_64/egg/transformers/models\n",
            "creating build/bdist.linux-x86_64/egg/transformers/models/mt5\n",
            "copying build/lib/transformers/models/mt5/configuration_mt5.py -> build/bdist.linux-x86_64/egg/transformers/models/mt5\n",
            "copying build/lib/transformers/models/mt5/__init__.py -> build/bdist.linux-x86_64/egg/transformers/models/mt5\n",
            "copying build/lib/transformers/models/mt5/modeling_tf_mt5.py -> build/bdist.linux-x86_64/egg/transformers/models/mt5\n",
            "copying build/lib/transformers/models/mt5/modeling_mt5.py -> build/bdist.linux-x86_64/egg/transformers/models/mt5\n",
            "creating build/bdist.linux-x86_64/egg/transformers/models/flaubert\n",
            "copying build/lib/transformers/models/flaubert/tokenization_flaubert.py -> build/bdist.linux-x86_64/egg/transformers/models/flaubert\n",
            "copying build/lib/transformers/models/flaubert/configuration_flaubert.py -> build/bdist.linux-x86_64/egg/transformers/models/flaubert\n",
            "copying build/lib/transformers/models/flaubert/modeling_flaubert.py -> build/bdist.linux-x86_64/egg/transformers/models/flaubert\n",
            "copying build/lib/transformers/models/flaubert/__init__.py -> build/bdist.linux-x86_64/egg/transformers/models/flaubert\n",
            "copying build/lib/transformers/models/flaubert/modeling_tf_flaubert.py -> build/bdist.linux-x86_64/egg/transformers/models/flaubert\n",
            "creating build/bdist.linux-x86_64/egg/transformers/models/t5\n",
            "copying build/lib/transformers/models/t5/convert_t5_original_tf_checkpoint_to_pytorch.py -> build/bdist.linux-x86_64/egg/transformers/models/t5\n",
            "copying build/lib/transformers/models/t5/tokenization_t5_fast.py -> build/bdist.linux-x86_64/egg/transformers/models/t5\n",
            "copying build/lib/transformers/models/t5/tokenization_t5.py -> build/bdist.linux-x86_64/egg/transformers/models/t5\n",
            "copying build/lib/transformers/models/t5/configuration_t5.py -> build/bdist.linux-x86_64/egg/transformers/models/t5\n",
            "copying build/lib/transformers/models/t5/modeling_tf_t5.py -> build/bdist.linux-x86_64/egg/transformers/models/t5\n",
            "copying build/lib/transformers/models/t5/__init__.py -> build/bdist.linux-x86_64/egg/transformers/models/t5\n",
            "copying build/lib/transformers/models/t5/modeling_t5.py -> build/bdist.linux-x86_64/egg/transformers/models/t5\n",
            "creating build/bdist.linux-x86_64/egg/transformers/models/openai\n",
            "copying build/lib/transformers/models/openai/modeling_tf_openai.py -> build/bdist.linux-x86_64/egg/transformers/models/openai\n",
            "copying build/lib/transformers/models/openai/convert_openai_original_tf_checkpoint_to_pytorch.py -> build/bdist.linux-x86_64/egg/transformers/models/openai\n",
            "copying build/lib/transformers/models/openai/tokenization_openai_fast.py -> build/bdist.linux-x86_64/egg/transformers/models/openai\n",
            "copying build/lib/transformers/models/openai/configuration_openai.py -> build/bdist.linux-x86_64/egg/transformers/models/openai\n",
            "copying build/lib/transformers/models/openai/__init__.py -> build/bdist.linux-x86_64/egg/transformers/models/openai\n",
            "copying build/lib/transformers/models/openai/modeling_openai.py -> build/bdist.linux-x86_64/egg/transformers/models/openai\n",
            "copying build/lib/transformers/models/openai/tokenization_openai.py -> build/bdist.linux-x86_64/egg/transformers/models/openai\n",
            "creating build/bdist.linux-x86_64/egg/transformers/models/mbart\n",
            "copying build/lib/transformers/models/mbart/modeling_tf_mbart.py -> build/bdist.linux-x86_64/egg/transformers/models/mbart\n",
            "copying build/lib/transformers/models/mbart/tokenization_mbart50_fast.py -> build/bdist.linux-x86_64/egg/transformers/models/mbart\n",
            "copying build/lib/transformers/models/mbart/configuration_mbart.py -> build/bdist.linux-x86_64/egg/transformers/models/mbart\n",
            "copying build/lib/transformers/models/mbart/tokenization_mbart.py -> build/bdist.linux-x86_64/egg/transformers/models/mbart\n",
            "copying build/lib/transformers/models/mbart/convert_mbart_original_checkpoint_to_pytorch.py -> build/bdist.linux-x86_64/egg/transformers/models/mbart\n",
            "copying build/lib/transformers/models/mbart/__init__.py -> build/bdist.linux-x86_64/egg/transformers/models/mbart\n",
            "copying build/lib/transformers/models/mbart/modeling_mbart.py -> build/bdist.linux-x86_64/egg/transformers/models/mbart\n",
            "copying build/lib/transformers/models/mbart/tokenization_mbart50.py -> build/bdist.linux-x86_64/egg/transformers/models/mbart\n",
            "copying build/lib/transformers/models/mbart/tokenization_mbart_fast.py -> build/bdist.linux-x86_64/egg/transformers/models/mbart\n",
            "creating build/bdist.linux-x86_64/egg/transformers/models/blenderbot\n",
            "copying build/lib/transformers/models/blenderbot/modeling_tf_blenderbot.py -> build/bdist.linux-x86_64/egg/transformers/models/blenderbot\n",
            "copying build/lib/transformers/models/blenderbot/tokenization_blenderbot.py -> build/bdist.linux-x86_64/egg/transformers/models/blenderbot\n",
            "copying build/lib/transformers/models/blenderbot/configuration_blenderbot.py -> build/bdist.linux-x86_64/egg/transformers/models/blenderbot\n",
            "copying build/lib/transformers/models/blenderbot/__init__.py -> build/bdist.linux-x86_64/egg/transformers/models/blenderbot\n",
            "copying build/lib/transformers/models/blenderbot/convert_blenderbot_original_pytorch_checkpoint_to_pytorch.py -> build/bdist.linux-x86_64/egg/transformers/models/blenderbot\n",
            "copying build/lib/transformers/models/blenderbot/modeling_blenderbot.py -> build/bdist.linux-x86_64/egg/transformers/models/blenderbot\n",
            "creating build/bdist.linux-x86_64/egg/transformers/models/longformer\n",
            "copying build/lib/transformers/models/longformer/configuration_longformer.py -> build/bdist.linux-x86_64/egg/transformers/models/longformer\n",
            "copying build/lib/transformers/models/longformer/modeling_tf_longformer.py -> build/bdist.linux-x86_64/egg/transformers/models/longformer\n",
            "copying build/lib/transformers/models/longformer/convert_longformer_original_pytorch_lightning_to_pytorch.py -> build/bdist.linux-x86_64/egg/transformers/models/longformer\n",
            "copying build/lib/transformers/models/longformer/tokenization_longformer_fast.py -> build/bdist.linux-x86_64/egg/transformers/models/longformer\n",
            "copying build/lib/transformers/models/longformer/modeling_longformer.py -> build/bdist.linux-x86_64/egg/transformers/models/longformer\n",
            "copying build/lib/transformers/models/longformer/tokenization_longformer.py -> build/bdist.linux-x86_64/egg/transformers/models/longformer\n",
            "copying build/lib/transformers/models/longformer/__init__.py -> build/bdist.linux-x86_64/egg/transformers/models/longformer\n",
            "creating build/bdist.linux-x86_64/egg/transformers/models/reformer\n",
            "copying build/lib/transformers/models/reformer/tokenization_reformer.py -> build/bdist.linux-x86_64/egg/transformers/models/reformer\n",
            "copying build/lib/transformers/models/reformer/convert_reformer_trax_checkpoint_to_pytorch.py -> build/bdist.linux-x86_64/egg/transformers/models/reformer\n",
            "copying build/lib/transformers/models/reformer/configuration_reformer.py -> build/bdist.linux-x86_64/egg/transformers/models/reformer\n",
            "copying build/lib/transformers/models/reformer/tokenization_reformer_fast.py -> build/bdist.linux-x86_64/egg/transformers/models/reformer\n",
            "copying build/lib/transformers/models/reformer/modeling_reformer.py -> build/bdist.linux-x86_64/egg/transformers/models/reformer\n",
            "copying build/lib/transformers/models/reformer/__init__.py -> build/bdist.linux-x86_64/egg/transformers/models/reformer\n",
            "creating build/bdist.linux-x86_64/egg/transformers/models/wav2vec2\n",
            "copying build/lib/transformers/models/wav2vec2/configuration_wav2vec2.py -> build/bdist.linux-x86_64/egg/transformers/models/wav2vec2\n",
            "copying build/lib/transformers/models/wav2vec2/feature_extraction_wav2vec2.py -> build/bdist.linux-x86_64/egg/transformers/models/wav2vec2\n",
            "copying build/lib/transformers/models/wav2vec2/modeling_wav2vec2.py -> build/bdist.linux-x86_64/egg/transformers/models/wav2vec2\n",
            "copying build/lib/transformers/models/wav2vec2/__init__.py -> build/bdist.linux-x86_64/egg/transformers/models/wav2vec2\n",
            "copying build/lib/transformers/models/wav2vec2/tokenization_wav2vec2.py -> build/bdist.linux-x86_64/egg/transformers/models/wav2vec2\n",
            "copying build/lib/transformers/models/wav2vec2/processing_wav2vec2.py -> build/bdist.linux-x86_64/egg/transformers/models/wav2vec2\n",
            "copying build/lib/transformers/models/wav2vec2/convert_wav2vec2_original_pytorch_checkpoint_to_pytorch.py -> build/bdist.linux-x86_64/egg/transformers/models/wav2vec2\n",
            "creating build/bdist.linux-x86_64/egg/transformers/models/mpnet\n",
            "copying build/lib/transformers/models/mpnet/modeling_tf_mpnet.py -> build/bdist.linux-x86_64/egg/transformers/models/mpnet\n",
            "copying build/lib/transformers/models/mpnet/configuration_mpnet.py -> build/bdist.linux-x86_64/egg/transformers/models/mpnet\n",
            "copying build/lib/transformers/models/mpnet/tokenization_mpnet.py -> build/bdist.linux-x86_64/egg/transformers/models/mpnet\n",
            "copying build/lib/transformers/models/mpnet/modeling_mpnet.py -> build/bdist.linux-x86_64/egg/transformers/models/mpnet\n",
            "copying build/lib/transformers/models/mpnet/tokenization_mpnet_fast.py -> build/bdist.linux-x86_64/egg/transformers/models/mpnet\n",
            "copying build/lib/transformers/models/mpnet/__init__.py -> build/bdist.linux-x86_64/egg/transformers/models/mpnet\n",
            "creating build/bdist.linux-x86_64/egg/transformers/models/herbert\n",
            "copying build/lib/transformers/models/herbert/tokenization_herbert_fast.py -> build/bdist.linux-x86_64/egg/transformers/models/herbert\n",
            "copying build/lib/transformers/models/herbert/__init__.py -> build/bdist.linux-x86_64/egg/transformers/models/herbert\n",
            "copying build/lib/transformers/models/herbert/tokenization_herbert.py -> build/bdist.linux-x86_64/egg/transformers/models/herbert\n",
            "copying build/lib/transformers/trainer_seq2seq.py -> build/bdist.linux-x86_64/egg/transformers\n",
            "copying build/lib/transformers/generation_tf_utils.py -> build/bdist.linux-x86_64/egg/transformers\n",
            "copying build/lib/transformers/trainer_tf.py -> build/bdist.linux-x86_64/egg/transformers\n",
            "copying build/lib/transformers/generation_utils.py -> build/bdist.linux-x86_64/egg/transformers\n",
            "copying build/lib/transformers/trainer.py -> build/bdist.linux-x86_64/egg/transformers\n",
            "copying build/lib/transformers/trainer_callback.py -> build/bdist.linux-x86_64/egg/transformers\n",
            "creating build/bdist.linux-x86_64/egg/transformers/pipelines\n",
            "copying build/lib/transformers/pipelines/feature_extraction.py -> build/bdist.linux-x86_64/egg/transformers/pipelines\n",
            "copying build/lib/transformers/pipelines/base.py -> build/bdist.linux-x86_64/egg/transformers/pipelines\n",
            "copying build/lib/transformers/pipelines/fill_mask.py -> build/bdist.linux-x86_64/egg/transformers/pipelines\n",
            "copying build/lib/transformers/pipelines/table_question_answering.py -> build/bdist.linux-x86_64/egg/transformers/pipelines\n",
            "copying build/lib/transformers/pipelines/text_classification.py -> build/bdist.linux-x86_64/egg/transformers/pipelines\n",
            "copying build/lib/transformers/pipelines/zero_shot_classification.py -> build/bdist.linux-x86_64/egg/transformers/pipelines\n",
            "copying build/lib/transformers/pipelines/conversational.py -> build/bdist.linux-x86_64/egg/transformers/pipelines\n",
            "copying build/lib/transformers/pipelines/text2text_generation.py -> build/bdist.linux-x86_64/egg/transformers/pipelines\n",
            "copying build/lib/transformers/pipelines/token_classification.py -> build/bdist.linux-x86_64/egg/transformers/pipelines\n",
            "copying build/lib/transformers/pipelines/text_generation.py -> build/bdist.linux-x86_64/egg/transformers/pipelines\n",
            "copying build/lib/transformers/pipelines/__init__.py -> build/bdist.linux-x86_64/egg/transformers/pipelines\n",
            "copying build/lib/transformers/pipelines/question_answering.py -> build/bdist.linux-x86_64/egg/transformers/pipelines\n",
            "copying build/lib/transformers/tokenization_utils_base.py -> build/bdist.linux-x86_64/egg/transformers\n",
            "creating build/bdist.linux-x86_64/egg/transformers/commands\n",
            "copying build/lib/transformers/commands/add_new_model.py -> build/bdist.linux-x86_64/egg/transformers/commands\n",
            "copying build/lib/transformers/commands/lfs.py -> build/bdist.linux-x86_64/egg/transformers/commands\n",
            "copying build/lib/transformers/commands/serving.py -> build/bdist.linux-x86_64/egg/transformers/commands\n",
            "copying build/lib/transformers/commands/convert.py -> build/bdist.linux-x86_64/egg/transformers/commands\n",
            "copying build/lib/transformers/commands/train.py -> build/bdist.linux-x86_64/egg/transformers/commands\n",
            "copying build/lib/transformers/commands/download.py -> build/bdist.linux-x86_64/egg/transformers/commands\n",
            "copying build/lib/transformers/commands/user.py -> build/bdist.linux-x86_64/egg/transformers/commands\n",
            "copying build/lib/transformers/commands/transformers_cli.py -> build/bdist.linux-x86_64/egg/transformers/commands\n",
            "copying build/lib/transformers/commands/env.py -> build/bdist.linux-x86_64/egg/transformers/commands\n",
            "copying build/lib/transformers/commands/__init__.py -> build/bdist.linux-x86_64/egg/transformers/commands\n",
            "copying build/lib/transformers/commands/run.py -> build/bdist.linux-x86_64/egg/transformers/commands\n",
            "creating build/bdist.linux-x86_64/egg/transformers/benchmark\n",
            "copying build/lib/transformers/benchmark/benchmark_utils.py -> build/bdist.linux-x86_64/egg/transformers/benchmark\n",
            "copying build/lib/transformers/benchmark/benchmark_tf.py -> build/bdist.linux-x86_64/egg/transformers/benchmark\n",
            "copying build/lib/transformers/benchmark/benchmark_args.py -> build/bdist.linux-x86_64/egg/transformers/benchmark\n",
            "copying build/lib/transformers/benchmark/benchmark_args_tf.py -> build/bdist.linux-x86_64/egg/transformers/benchmark\n",
            "copying build/lib/transformers/benchmark/benchmark.py -> build/bdist.linux-x86_64/egg/transformers/benchmark\n",
            "copying build/lib/transformers/benchmark/__init__.py -> build/bdist.linux-x86_64/egg/transformers/benchmark\n",
            "copying build/lib/transformers/benchmark/benchmark_args_utils.py -> build/bdist.linux-x86_64/egg/transformers/benchmark\n",
            "creating build/bdist.linux-x86_64/egg/transformers/data\n",
            "copying build/lib/transformers/data/test_generation_utils.py -> build/bdist.linux-x86_64/egg/transformers/data\n",
            "creating build/bdist.linux-x86_64/egg/transformers/data/metrics\n",
            "copying build/lib/transformers/data/metrics/squad_metrics.py -> build/bdist.linux-x86_64/egg/transformers/data/metrics\n",
            "copying build/lib/transformers/data/metrics/__init__.py -> build/bdist.linux-x86_64/egg/transformers/data/metrics\n",
            "copying build/lib/transformers/data/data_collator.py -> build/bdist.linux-x86_64/egg/transformers/data\n",
            "copying build/lib/transformers/data/__init__.py -> build/bdist.linux-x86_64/egg/transformers/data\n",
            "creating build/bdist.linux-x86_64/egg/transformers/data/datasets\n",
            "copying build/lib/transformers/data/datasets/glue.py -> build/bdist.linux-x86_64/egg/transformers/data/datasets\n",
            "copying build/lib/transformers/data/datasets/squad.py -> build/bdist.linux-x86_64/egg/transformers/data/datasets\n",
            "copying build/lib/transformers/data/datasets/__init__.py -> build/bdist.linux-x86_64/egg/transformers/data/datasets\n",
            "copying build/lib/transformers/data/datasets/language_modeling.py -> build/bdist.linux-x86_64/egg/transformers/data/datasets\n",
            "creating build/bdist.linux-x86_64/egg/transformers/data/processors\n",
            "copying build/lib/transformers/data/processors/glue.py -> build/bdist.linux-x86_64/egg/transformers/data/processors\n",
            "copying build/lib/transformers/data/processors/squad.py -> build/bdist.linux-x86_64/egg/transformers/data/processors\n",
            "copying build/lib/transformers/data/processors/utils.py -> build/bdist.linux-x86_64/egg/transformers/data/processors\n",
            "copying build/lib/transformers/data/processors/__init__.py -> build/bdist.linux-x86_64/egg/transformers/data/processors\n",
            "copying build/lib/transformers/data/processors/xnli.py -> build/bdist.linux-x86_64/egg/transformers/data/processors\n",
            "copying build/lib/transformers/__init__.py -> build/bdist.linux-x86_64/egg/transformers\n",
            "copying build/lib/transformers/training_args.py -> build/bdist.linux-x86_64/egg/transformers\n",
            "copying build/lib/transformers/modeling_flax_utils.py -> build/bdist.linux-x86_64/egg/transformers\n",
            "copying build/lib/transformers/hf_api.py -> build/bdist.linux-x86_64/egg/transformers\n",
            "copying build/lib/transformers/trainer_pt_utils.py -> build/bdist.linux-x86_64/egg/transformers\n",
            "copying build/lib/transformers/modeling_outputs.py -> build/bdist.linux-x86_64/egg/transformers\n",
            "copying build/lib/transformers/dependency_versions_check.py -> build/bdist.linux-x86_64/egg/transformers\n",
            "copying build/lib/transformers/training_args_seq2seq.py -> build/bdist.linux-x86_64/egg/transformers\n",
            "copying build/lib/transformers/generation_logits_process.py -> build/bdist.linux-x86_64/egg/transformers\n",
            "copying build/lib/transformers/testing_utils.py -> build/bdist.linux-x86_64/egg/transformers\n",
            "copying build/lib/transformers/file_utils.py -> build/bdist.linux-x86_64/egg/transformers\n",
            "byte-compiling build/bdist.linux-x86_64/egg/transformers/tokenization_utils_fast.py to tokenization_utils_fast.cpython-37.pyc\n",
            "byte-compiling build/bdist.linux-x86_64/egg/transformers/optimization_tf.py to optimization_tf.cpython-37.pyc\n",
            "byte-compiling build/bdist.linux-x86_64/egg/transformers/convert_pytorch_checkpoint_to_tf2.py to convert_pytorch_checkpoint_to_tf2.cpython-37.pyc\n",
            "byte-compiling build/bdist.linux-x86_64/egg/transformers/convert_graph_to_onnx.py to convert_graph_to_onnx.cpython-37.pyc\n",
            "byte-compiling build/bdist.linux-x86_64/egg/transformers/convert_tf_hub_seq_to_seq_bert_to_pytorch.py to convert_tf_hub_seq_to_seq_bert_to_pytorch.cpython-37.pyc\n",
            "byte-compiling build/bdist.linux-x86_64/egg/transformers/configuration_utils.py to configuration_utils.cpython-37.pyc\n",
            "byte-compiling build/bdist.linux-x86_64/egg/transformers/integrations.py to integrations.cpython-37.pyc\n",
            "byte-compiling build/bdist.linux-x86_64/egg/transformers/optimization.py to optimization.cpython-37.pyc\n",
            "byte-compiling build/bdist.linux-x86_64/egg/transformers/convert_slow_tokenizer.py to convert_slow_tokenizer.cpython-37.pyc\n",
            "byte-compiling build/bdist.linux-x86_64/egg/transformers/training_args_tf.py to training_args_tf.cpython-37.pyc\n",
            "byte-compiling build/bdist.linux-x86_64/egg/transformers/modeling_tf_utils.py to modeling_tf_utils.cpython-37.pyc\n",
            "byte-compiling build/bdist.linux-x86_64/egg/transformers/convert_slow_tokenizers_checkpoints_to_fast.py to convert_slow_tokenizers_checkpoints_to_fast.cpython-37.pyc\n",
            "byte-compiling build/bdist.linux-x86_64/egg/transformers/hf_argparser.py to hf_argparser.cpython-37.pyc\n",
            "byte-compiling build/bdist.linux-x86_64/egg/transformers/generation_beam_search.py to generation_beam_search.cpython-37.pyc\n",
            "byte-compiling build/bdist.linux-x86_64/egg/transformers/activations_tf.py to activations_tf.cpython-37.pyc\n",
            "byte-compiling build/bdist.linux-x86_64/egg/transformers/dependency_versions_table.py to dependency_versions_table.cpython-37.pyc\n",
            "byte-compiling build/bdist.linux-x86_64/egg/transformers/modelcard.py to modelcard.cpython-37.pyc\n",
            "byte-compiling build/bdist.linux-x86_64/egg/transformers/utils/dummy_flax_objects.py to dummy_flax_objects.cpython-37.pyc\n",
            "byte-compiling build/bdist.linux-x86_64/egg/transformers/utils/modeling_auto_mapping.py to modeling_auto_mapping.cpython-37.pyc\n",
            "byte-compiling build/bdist.linux-x86_64/egg/transformers/utils/notebook.py to notebook.cpython-37.pyc\n",
            "byte-compiling build/bdist.linux-x86_64/egg/transformers/utils/dummy_sentencepiece_objects.py to dummy_sentencepiece_objects.cpython-37.pyc\n",
            "byte-compiling build/bdist.linux-x86_64/egg/transformers/utils/sentencepiece_model_pb2.py to sentencepiece_model_pb2.cpython-37.pyc\n",
            "byte-compiling build/bdist.linux-x86_64/egg/transformers/utils/dummy_tokenizers_objects.py to dummy_tokenizers_objects.cpython-37.pyc\n",
            "byte-compiling build/bdist.linux-x86_64/egg/transformers/utils/model_parallel_utils.py to model_parallel_utils.cpython-37.pyc\n",
            "byte-compiling build/bdist.linux-x86_64/egg/transformers/utils/versions.py to versions.cpython-37.pyc\n",
            "byte-compiling build/bdist.linux-x86_64/egg/transformers/utils/logging.py to logging.cpython-37.pyc\n",
            "byte-compiling build/bdist.linux-x86_64/egg/transformers/utils/dummy_pt_objects.py to dummy_pt_objects.cpython-37.pyc\n",
            "byte-compiling build/bdist.linux-x86_64/egg/transformers/utils/dummy_tf_objects.py to dummy_tf_objects.cpython-37.pyc\n",
            "byte-compiling build/bdist.linux-x86_64/egg/transformers/utils/hp_naming.py to hp_naming.cpython-37.pyc\n",
            "byte-compiling build/bdist.linux-x86_64/egg/transformers/utils/__init__.py to __init__.cpython-37.pyc\n",
            "byte-compiling build/bdist.linux-x86_64/egg/transformers/trainer_utils.py to trainer_utils.cpython-37.pyc\n",
            "byte-compiling build/bdist.linux-x86_64/egg/transformers/feature_extraction_utils.py to feature_extraction_utils.cpython-37.pyc\n",
            "byte-compiling build/bdist.linux-x86_64/egg/transformers/tokenization_utils.py to tokenization_utils.cpython-37.pyc\n",
            "byte-compiling build/bdist.linux-x86_64/egg/transformers/sagemaker/trainer_sm.py to trainer_sm.cpython-37.pyc\n",
            "byte-compiling build/bdist.linux-x86_64/egg/transformers/sagemaker/training_args_sm.py to training_args_sm.cpython-37.pyc\n",
            "byte-compiling build/bdist.linux-x86_64/egg/transformers/sagemaker/__init__.py to __init__.cpython-37.pyc\n",
            "byte-compiling build/bdist.linux-x86_64/egg/transformers/activations.py to activations.cpython-37.pyc\n",
            "byte-compiling build/bdist.linux-x86_64/egg/transformers/modeling_utils.py to modeling_utils.cpython-37.pyc\n",
            "byte-compiling build/bdist.linux-x86_64/egg/transformers/modeling_tf_pytorch_utils.py to modeling_tf_pytorch_utils.cpython-37.pyc\n",
            "byte-compiling build/bdist.linux-x86_64/egg/transformers/modeling_tf_outputs.py to modeling_tf_outputs.cpython-37.pyc\n",
            "byte-compiling build/bdist.linux-x86_64/egg/transformers/models/ctrl/modeling_tf_ctrl.py to modeling_tf_ctrl.cpython-37.pyc\n",
            "byte-compiling build/bdist.linux-x86_64/egg/transformers/models/ctrl/configuration_ctrl.py to configuration_ctrl.cpython-37.pyc\n",
            "byte-compiling build/bdist.linux-x86_64/egg/transformers/models/ctrl/modeling_ctrl.py to modeling_ctrl.cpython-37.pyc\n",
            "byte-compiling build/bdist.linux-x86_64/egg/transformers/models/ctrl/tokenization_ctrl.py to tokenization_ctrl.cpython-37.pyc\n",
            "byte-compiling build/bdist.linux-x86_64/egg/transformers/models/ctrl/__init__.py to __init__.cpython-37.pyc\n",
            "byte-compiling build/bdist.linux-x86_64/egg/transformers/models/camembert/modeling_camembert.py to modeling_camembert.cpython-37.pyc\n",
            "byte-compiling build/bdist.linux-x86_64/egg/transformers/models/camembert/tokenization_camembert.py to tokenization_camembert.cpython-37.pyc\n",
            "byte-compiling build/bdist.linux-x86_64/egg/transformers/models/camembert/modeling_tf_camembert.py to modeling_tf_camembert.cpython-37.pyc\n",
            "byte-compiling build/bdist.linux-x86_64/egg/transformers/models/camembert/configuration_camembert.py to configuration_camembert.cpython-37.pyc\n",
            "byte-compiling build/bdist.linux-x86_64/egg/transformers/models/camembert/tokenization_camembert_fast.py to tokenization_camembert_fast.cpython-37.pyc\n",
            "byte-compiling build/bdist.linux-x86_64/egg/transformers/models/camembert/__init__.py to __init__.cpython-37.pyc\n",
            "byte-compiling build/bdist.linux-x86_64/egg/transformers/models/distilbert/tokenization_distilbert_fast.py to tokenization_distilbert_fast.cpython-37.pyc\n",
            "byte-compiling build/bdist.linux-x86_64/egg/transformers/models/distilbert/configuration_distilbert.py to configuration_distilbert.cpython-37.pyc\n",
            "byte-compiling build/bdist.linux-x86_64/egg/transformers/models/distilbert/modeling_distilbert.py to modeling_distilbert.cpython-37.pyc\n",
            "byte-compiling build/bdist.linux-x86_64/egg/transformers/models/distilbert/modeling_tf_distilbert.py to modeling_tf_distilbert.cpython-37.pyc\n",
            "byte-compiling build/bdist.linux-x86_64/egg/transformers/models/distilbert/tokenization_distilbert.py to tokenization_distilbert.cpython-37.pyc\n",
            "byte-compiling build/bdist.linux-x86_64/egg/transformers/models/distilbert/__init__.py to __init__.cpython-37.pyc\n",
            "byte-compiling build/bdist.linux-x86_64/egg/transformers/models/xlm_prophetnet/configuration_xlm_prophetnet.py to configuration_xlm_prophetnet.cpython-37.pyc\n",
            "byte-compiling build/bdist.linux-x86_64/egg/transformers/models/xlm_prophetnet/modeling_xlm_prophetnet.py to modeling_xlm_prophetnet.cpython-37.pyc\n",
            "byte-compiling build/bdist.linux-x86_64/egg/transformers/models/xlm_prophetnet/tokenization_xlm_prophetnet.py to tokenization_xlm_prophetnet.cpython-37.pyc\n",
            "byte-compiling build/bdist.linux-x86_64/egg/transformers/models/xlm_prophetnet/__init__.py to __init__.cpython-37.pyc\n",
            "byte-compiling build/bdist.linux-x86_64/egg/transformers/models/mmbt/modeling_mmbt.py to modeling_mmbt.cpython-37.pyc\n",
            "byte-compiling build/bdist.linux-x86_64/egg/transformers/models/mmbt/configuration_mmbt.py to configuration_mmbt.cpython-37.pyc\n",
            "byte-compiling build/bdist.linux-x86_64/egg/transformers/models/mmbt/__init__.py to __init__.cpython-37.pyc\n",
            "byte-compiling build/bdist.linux-x86_64/egg/transformers/models/electra/tokenization_electra_fast.py to tokenization_electra_fast.cpython-37.pyc\n",
            "byte-compiling build/bdist.linux-x86_64/egg/transformers/models/electra/tokenization_electra.py to tokenization_electra.cpython-37.pyc\n",
            "byte-compiling build/bdist.linux-x86_64/egg/transformers/models/electra/convert_electra_original_tf_checkpoint_to_pytorch.py to convert_electra_original_tf_checkpoint_to_pytorch.cpython-37.pyc\n",
            "byte-compiling build/bdist.linux-x86_64/egg/transformers/models/electra/modeling_electra.py to modeling_electra.cpython-37.pyc\n",
            "byte-compiling build/bdist.linux-x86_64/egg/transformers/models/electra/configuration_electra.py to configuration_electra.cpython-37.pyc\n",
            "byte-compiling build/bdist.linux-x86_64/egg/transformers/models/electra/__init__.py to __init__.cpython-37.pyc\n",
            "byte-compiling build/bdist.linux-x86_64/egg/transformers/models/electra/modeling_tf_electra.py to modeling_tf_electra.cpython-37.pyc\n",
            "byte-compiling build/bdist.linux-x86_64/egg/transformers/models/layoutlm/configuration_layoutlm.py to configuration_layoutlm.cpython-37.pyc\n",
            "byte-compiling build/bdist.linux-x86_64/egg/transformers/models/layoutlm/tokenization_layoutlm.py to tokenization_layoutlm.cpython-37.pyc\n",
            "byte-compiling build/bdist.linux-x86_64/egg/transformers/models/layoutlm/modeling_layoutlm.py to modeling_layoutlm.cpython-37.pyc\n",
            "byte-compiling build/bdist.linux-x86_64/egg/transformers/models/layoutlm/tokenization_layoutlm_fast.py to tokenization_layoutlm_fast.cpython-37.pyc\n",
            "byte-compiling build/bdist.linux-x86_64/egg/transformers/models/layoutlm/__init__.py to __init__.cpython-37.pyc\n",
            "byte-compiling build/bdist.linux-x86_64/egg/transformers/models/squeezebert/modeling_squeezebert.py to modeling_squeezebert.cpython-37.pyc\n",
            "byte-compiling build/bdist.linux-x86_64/egg/transformers/models/squeezebert/configuration_squeezebert.py to configuration_squeezebert.cpython-37.pyc\n",
            "byte-compiling build/bdist.linux-x86_64/egg/transformers/models/squeezebert/tokenization_squeezebert.py to tokenization_squeezebert.cpython-37.pyc\n",
            "byte-compiling build/bdist.linux-x86_64/egg/transformers/models/squeezebert/tokenization_squeezebert_fast.py to tokenization_squeezebert_fast.cpython-37.pyc\n",
            "byte-compiling build/bdist.linux-x86_64/egg/transformers/models/squeezebert/__init__.py to __init__.cpython-37.pyc\n",
            "byte-compiling build/bdist.linux-x86_64/egg/transformers/models/m2m_100/modeling_m2m_100.py to modeling_m2m_100.cpython-37.pyc\n",
            "byte-compiling build/bdist.linux-x86_64/egg/transformers/models/m2m_100/configuration_m2m_100.py to configuration_m2m_100.cpython-37.pyc\n",
            "byte-compiling build/bdist.linux-x86_64/egg/transformers/models/m2m_100/tokenization_m2m_100.py to tokenization_m2m_100.cpython-37.pyc\n",
            "byte-compiling build/bdist.linux-x86_64/egg/transformers/models/m2m_100/__init__.py to __init__.cpython-37.pyc\n",
            "byte-compiling build/bdist.linux-x86_64/egg/transformers/models/m2m_100/convert_m2m100_original_checkpoint_to_pytorch.py to convert_m2m100_original_checkpoint_to_pytorch.cpython-37.pyc\n",
            "byte-compiling build/bdist.linux-x86_64/egg/transformers/models/bertweet/tokenization_bertweet.py to tokenization_bertweet.cpython-37.pyc\n",
            "byte-compiling build/bdist.linux-x86_64/egg/transformers/models/bertweet/__init__.py to __init__.cpython-37.pyc\n",
            "byte-compiling build/bdist.linux-x86_64/egg/transformers/models/dialogpt/convert_dialogpt_original_pytorch_checkpoint_to_pytorch.py to convert_dialogpt_original_pytorch_checkpoint_to_pytorch.cpython-37.pyc\n",
            "byte-compiling build/bdist.linux-x86_64/egg/transformers/models/dialogpt/__init__.py to __init__.cpython-37.pyc\n",
            "byte-compiling build/bdist.linux-x86_64/egg/transformers/models/bert_japanese/tokenization_bert_japanese.py to tokenization_bert_japanese.cpython-37.pyc\n",
            "byte-compiling build/bdist.linux-x86_64/egg/transformers/models/bert_japanese/__init__.py to __init__.cpython-37.pyc\n",
            "byte-compiling build/bdist.linux-x86_64/egg/transformers/models/pegasus/convert_pegasus_tf_to_pytorch.py to convert_pegasus_tf_to_pytorch.cpython-37.pyc\n",
            "byte-compiling build/bdist.linux-x86_64/egg/transformers/models/pegasus/modeling_tf_pegasus.py to modeling_tf_pegasus.cpython-37.pyc\n",
            "byte-compiling build/bdist.linux-x86_64/egg/transformers/models/pegasus/tokenization_pegasus_fast.py to tokenization_pegasus_fast.cpython-37.pyc\n",
            "byte-compiling build/bdist.linux-x86_64/egg/transformers/models/pegasus/modeling_pegasus.py to modeling_pegasus.cpython-37.pyc\n",
            "byte-compiling build/bdist.linux-x86_64/egg/transformers/models/pegasus/configuration_pegasus.py to configuration_pegasus.cpython-37.pyc\n",
            "byte-compiling build/bdist.linux-x86_64/egg/transformers/models/pegasus/__init__.py to __init__.cpython-37.pyc\n",
            "byte-compiling build/bdist.linux-x86_64/egg/transformers/models/pegasus/tokenization_pegasus.py to tokenization_pegasus.cpython-37.pyc\n",
            "byte-compiling build/bdist.linux-x86_64/egg/transformers/models/transfo_xl/modeling_tf_transfo_xl_utilities.py to modeling_tf_transfo_xl_utilities.cpython-37.pyc\n",
            "byte-compiling build/bdist.linux-x86_64/egg/transformers/models/transfo_xl/configuration_transfo_xl.py to configuration_transfo_xl.cpython-37.pyc\n",
            "byte-compiling build/bdist.linux-x86_64/egg/transformers/models/transfo_xl/modeling_tf_transfo_xl.py to modeling_tf_transfo_xl.cpython-37.pyc\n",
            "byte-compiling build/bdist.linux-x86_64/egg/transformers/models/transfo_xl/modeling_transfo_xl.py to modeling_transfo_xl.cpython-37.pyc\n",
            "byte-compiling build/bdist.linux-x86_64/egg/transformers/models/transfo_xl/modeling_transfo_xl_utilities.py to modeling_transfo_xl_utilities.cpython-37.pyc\n",
            "byte-compiling build/bdist.linux-x86_64/egg/transformers/models/transfo_xl/__init__.py to __init__.cpython-37.pyc\n",
            "byte-compiling build/bdist.linux-x86_64/egg/transformers/models/transfo_xl/convert_transfo_xl_original_tf_checkpoint_to_pytorch.py to convert_transfo_xl_original_tf_checkpoint_to_pytorch.cpython-37.pyc\n",
            "byte-compiling build/bdist.linux-x86_64/egg/transformers/models/transfo_xl/tokenization_transfo_xl.py to tokenization_transfo_xl.cpython-37.pyc\n",
            "byte-compiling build/bdist.linux-x86_64/egg/transformers/models/bert/convert_bert_original_tf_checkpoint_to_pytorch.py to convert_bert_original_tf_checkpoint_to_pytorch.cpython-37.pyc\n",
            "byte-compiling build/bdist.linux-x86_64/egg/transformers/models/bert/configuration_bert.py to configuration_bert.cpython-37.pyc\n",
            "byte-compiling build/bdist.linux-x86_64/egg/transformers/models/bert/convert_bert_original_tf2_checkpoint_to_pytorch.py to convert_bert_original_tf2_checkpoint_to_pytorch.cpython-37.pyc\n",
            "byte-compiling build/bdist.linux-x86_64/egg/transformers/models/bert/modeling_tf_bert.py to modeling_tf_bert.cpython-37.pyc\n",
            "byte-compiling build/bdist.linux-x86_64/egg/transformers/models/bert/tokenization_bert.py to tokenization_bert.cpython-37.pyc\n",
            "byte-compiling build/bdist.linux-x86_64/egg/transformers/models/bert/__init__.py to __init__.cpython-37.pyc\n",
            "byte-compiling build/bdist.linux-x86_64/egg/transformers/models/bert/modeling_bert.py to modeling_bert.cpython-37.pyc\n",
            "byte-compiling build/bdist.linux-x86_64/egg/transformers/models/bert/tokenization_bert_fast.py to tokenization_bert_fast.cpython-37.pyc\n",
            "byte-compiling build/bdist.linux-x86_64/egg/transformers/models/bert/modeling_flax_bert.py to modeling_flax_bert.cpython-37.pyc\n",
            "byte-compiling build/bdist.linux-x86_64/egg/transformers/models/bert/convert_bert_pytorch_checkpoint_to_original_tf.py to convert_bert_pytorch_checkpoint_to_original_tf.cpython-37.pyc\n",
            "byte-compiling build/bdist.linux-x86_64/egg/transformers/models/convbert/modeling_tf_convbert.py to modeling_tf_convbert.cpython-37.pyc\n",
            "byte-compiling build/bdist.linux-x86_64/egg/transformers/models/convbert/tokenization_convbert.py to tokenization_convbert.cpython-37.pyc\n",
            "byte-compiling build/bdist.linux-x86_64/egg/transformers/models/convbert/tokenization_convbert_fast.py to tokenization_convbert_fast.cpython-37.pyc\n",
            "byte-compiling build/bdist.linux-x86_64/egg/transformers/models/convbert/convert_convbert_original_tf1_checkpoint_to_pytorch_and_tf2.py to convert_convbert_original_tf1_checkpoint_to_pytorch_and_tf2.cpython-37.pyc\n",
            "byte-compiling build/bdist.linux-x86_64/egg/transformers/models/convbert/configuration_convbert.py to configuration_convbert.cpython-37.pyc\n",
            "byte-compiling build/bdist.linux-x86_64/egg/transformers/models/convbert/modeling_convbert.py to modeling_convbert.cpython-37.pyc\n",
            "byte-compiling build/bdist.linux-x86_64/egg/transformers/models/convbert/__init__.py to __init__.cpython-37.pyc\n",
            "byte-compiling build/bdist.linux-x86_64/egg/transformers/models/ibert/quant_modules.py to quant_modules.cpython-37.pyc\n",
            "byte-compiling build/bdist.linux-x86_64/egg/transformers/models/ibert/modeling_ibert.py to modeling_ibert.cpython-37.pyc\n",
            "byte-compiling build/bdist.linux-x86_64/egg/transformers/models/ibert/__init__.py to __init__.cpython-37.pyc\n",
            "byte-compiling build/bdist.linux-x86_64/egg/transformers/models/ibert/configuration_ibert.py to configuration_ibert.cpython-37.pyc\n",
            "byte-compiling build/bdist.linux-x86_64/egg/transformers/models/auto/configuration_auto.py to configuration_auto.cpython-37.pyc\n",
            "byte-compiling build/bdist.linux-x86_64/egg/transformers/models/auto/tokenization_auto.py to tokenization_auto.cpython-37.pyc\n",
            "byte-compiling build/bdist.linux-x86_64/egg/transformers/models/auto/__init__.py to __init__.cpython-37.pyc\n",
            "byte-compiling build/bdist.linux-x86_64/egg/transformers/models/auto/modeling_auto.py to modeling_auto.cpython-37.pyc\n",
            "byte-compiling build/bdist.linux-x86_64/egg/transformers/models/auto/modeling_flax_auto.py to modeling_flax_auto.cpython-37.pyc\n",
            "byte-compiling build/bdist.linux-x86_64/egg/transformers/models/auto/modeling_tf_auto.py to modeling_tf_auto.cpython-37.pyc\n",
            "byte-compiling build/bdist.linux-x86_64/egg/transformers/models/lxmert/modeling_lxmert.py to modeling_lxmert.cpython-37.pyc\n",
            "byte-compiling build/bdist.linux-x86_64/egg/transformers/models/lxmert/tokenization_lxmert.py to tokenization_lxmert.cpython-37.pyc\n",
            "byte-compiling build/bdist.linux-x86_64/egg/transformers/models/lxmert/convert_lxmert_original_tf_checkpoint_to_pytorch.py to convert_lxmert_original_tf_checkpoint_to_pytorch.cpython-37.pyc\n",
            "byte-compiling build/bdist.linux-x86_64/egg/transformers/models/lxmert/configuration_lxmert.py to configuration_lxmert.cpython-37.pyc\n",
            "byte-compiling build/bdist.linux-x86_64/egg/transformers/models/lxmert/__init__.py to __init__.cpython-37.pyc\n",
            "byte-compiling build/bdist.linux-x86_64/egg/transformers/models/lxmert/modeling_tf_lxmert.py to modeling_tf_lxmert.cpython-37.pyc\n",
            "byte-compiling build/bdist.linux-x86_64/egg/transformers/models/lxmert/tokenization_lxmert_fast.py to tokenization_lxmert_fast.cpython-37.pyc\n",
            "byte-compiling build/bdist.linux-x86_64/egg/transformers/models/encoder_decoder/modeling_encoder_decoder.py to modeling_encoder_decoder.cpython-37.pyc\n",
            "byte-compiling build/bdist.linux-x86_64/egg/transformers/models/encoder_decoder/configuration_encoder_decoder.py to configuration_encoder_decoder.cpython-37.pyc\n",
            "byte-compiling build/bdist.linux-x86_64/egg/transformers/models/encoder_decoder/__init__.py to __init__.cpython-37.pyc\n",
            "byte-compiling build/bdist.linux-x86_64/egg/transformers/models/funnel/modeling_funnel.py to modeling_funnel.cpython-37.pyc\n",
            "byte-compiling build/bdist.linux-x86_64/egg/transformers/models/funnel/convert_funnel_original_tf_checkpoint_to_pytorch.py to convert_funnel_original_tf_checkpoint_to_pytorch.cpython-37.pyc\n",
            "byte-compiling build/bdist.linux-x86_64/egg/transformers/models/funnel/tokenization_funnel_fast.py to tokenization_funnel_fast.cpython-37.pyc\n",
            "byte-compiling build/bdist.linux-x86_64/egg/transformers/models/funnel/modeling_tf_funnel.py to modeling_tf_funnel.cpython-37.pyc\n",
            "byte-compiling build/bdist.linux-x86_64/egg/transformers/models/funnel/tokenization_funnel.py to tokenization_funnel.cpython-37.pyc\n",
            "byte-compiling build/bdist.linux-x86_64/egg/transformers/models/funnel/__init__.py to __init__.cpython-37.pyc\n",
            "byte-compiling build/bdist.linux-x86_64/egg/transformers/models/funnel/configuration_funnel.py to configuration_funnel.cpython-37.pyc\n",
            "byte-compiling build/bdist.linux-x86_64/egg/transformers/models/deberta/tokenization_deberta.py to tokenization_deberta.cpython-37.pyc\n",
            "byte-compiling build/bdist.linux-x86_64/egg/transformers/models/deberta/modeling_deberta.py to modeling_deberta.cpython-37.pyc\n",
            "byte-compiling build/bdist.linux-x86_64/egg/transformers/models/deberta/__init__.py to __init__.cpython-37.pyc\n",
            "byte-compiling build/bdist.linux-x86_64/egg/transformers/models/deberta/configuration_deberta.py to configuration_deberta.cpython-37.pyc\n",
            "byte-compiling build/bdist.linux-x86_64/egg/transformers/models/roberta/modeling_tf_roberta.py to modeling_tf_roberta.cpython-37.pyc\n",
            "byte-compiling build/bdist.linux-x86_64/egg/transformers/models/roberta/tokenization_roberta_fast.py to tokenization_roberta_fast.cpython-37.pyc\n",
            "byte-compiling build/bdist.linux-x86_64/egg/transformers/models/roberta/tokenization_roberta.py to tokenization_roberta.cpython-37.pyc\n",
            "byte-compiling build/bdist.linux-x86_64/egg/transformers/models/roberta/modeling_flax_roberta.py to modeling_flax_roberta.cpython-37.pyc\n",
            "byte-compiling build/bdist.linux-x86_64/egg/transformers/models/roberta/convert_roberta_original_pytorch_checkpoint_to_pytorch.py to convert_roberta_original_pytorch_checkpoint_to_pytorch.cpython-37.pyc\n",
            "byte-compiling build/bdist.linux-x86_64/egg/transformers/models/roberta/modeling_roberta.py to modeling_roberta.cpython-37.pyc\n",
            "byte-compiling build/bdist.linux-x86_64/egg/transformers/models/roberta/__init__.py to __init__.cpython-37.pyc\n",
            "byte-compiling build/bdist.linux-x86_64/egg/transformers/models/roberta/configuration_roberta.py to configuration_roberta.cpython-37.pyc\n",
            "byte-compiling build/bdist.linux-x86_64/egg/transformers/models/fsmt/modeling_fsmt.py to modeling_fsmt.cpython-37.pyc\n",
            "byte-compiling build/bdist.linux-x86_64/egg/transformers/models/fsmt/configuration_fsmt.py to configuration_fsmt.cpython-37.pyc\n",
            "byte-compiling build/bdist.linux-x86_64/egg/transformers/models/fsmt/convert_fsmt_original_pytorch_checkpoint_to_pytorch.py to convert_fsmt_original_pytorch_checkpoint_to_pytorch.cpython-37.pyc\n",
            "byte-compiling build/bdist.linux-x86_64/egg/transformers/models/fsmt/tokenization_fsmt.py to tokenization_fsmt.cpython-37.pyc\n",
            "byte-compiling build/bdist.linux-x86_64/egg/transformers/models/fsmt/__init__.py to __init__.cpython-37.pyc\n",
            "byte-compiling build/bdist.linux-x86_64/egg/transformers/models/gpt2/convert_gpt2_original_tf_checkpoint_to_pytorch.py to convert_gpt2_original_tf_checkpoint_to_pytorch.cpython-37.pyc\n",
            "byte-compiling build/bdist.linux-x86_64/egg/transformers/models/gpt2/modeling_gpt2.py to modeling_gpt2.cpython-37.pyc\n",
            "byte-compiling build/bdist.linux-x86_64/egg/transformers/models/gpt2/modeling_tf_gpt2.py to modeling_tf_gpt2.cpython-37.pyc\n",
            "byte-compiling build/bdist.linux-x86_64/egg/transformers/models/gpt2/configuration_gpt2.py to configuration_gpt2.cpython-37.pyc\n",
            "byte-compiling build/bdist.linux-x86_64/egg/transformers/models/gpt2/tokenization_gpt2_fast.py to tokenization_gpt2_fast.cpython-37.pyc\n",
            "byte-compiling build/bdist.linux-x86_64/egg/transformers/models/gpt2/__init__.py to __init__.cpython-37.pyc\n",
            "byte-compiling build/bdist.linux-x86_64/egg/transformers/models/gpt2/tokenization_gpt2.py to tokenization_gpt2.cpython-37.pyc\n",
            "byte-compiling build/bdist.linux-x86_64/egg/transformers/models/bert_generation/__init__.py to __init__.cpython-37.pyc\n",
            "byte-compiling build/bdist.linux-x86_64/egg/transformers/models/bert_generation/tokenization_bert_generation.py to tokenization_bert_generation.cpython-37.pyc\n",
            "byte-compiling build/bdist.linux-x86_64/egg/transformers/models/bert_generation/modeling_bert_generation.py to modeling_bert_generation.cpython-37.pyc\n",
            "byte-compiling build/bdist.linux-x86_64/egg/transformers/models/bert_generation/configuration_bert_generation.py to configuration_bert_generation.cpython-37.pyc\n",
            "byte-compiling build/bdist.linux-x86_64/egg/transformers/models/blenderbot_small/tokenization_blenderbot_small.py to tokenization_blenderbot_small.cpython-37.pyc\n",
            "byte-compiling build/bdist.linux-x86_64/egg/transformers/models/blenderbot_small/tokenization_blenderbot_small_fast.py to tokenization_blenderbot_small_fast.cpython-37.pyc\n",
            "byte-compiling build/bdist.linux-x86_64/egg/transformers/models/blenderbot_small/modeling_blenderbot_small.py to modeling_blenderbot_small.cpython-37.pyc\n",
            "byte-compiling build/bdist.linux-x86_64/egg/transformers/models/blenderbot_small/modeling_tf_blenderbot_small.py to modeling_tf_blenderbot_small.cpython-37.pyc\n",
            "byte-compiling build/bdist.linux-x86_64/egg/transformers/models/blenderbot_small/configuration_blenderbot_small.py to configuration_blenderbot_small.cpython-37.pyc\n",
            "byte-compiling build/bdist.linux-x86_64/egg/transformers/models/blenderbot_small/__init__.py to __init__.cpython-37.pyc\n",
            "byte-compiling build/bdist.linux-x86_64/egg/transformers/models/bart/configuration_bart.py to configuration_bart.cpython-37.pyc\n",
            "byte-compiling build/bdist.linux-x86_64/egg/transformers/models/bart/convert_bart_original_pytorch_checkpoint_to_pytorch.py to convert_bart_original_pytorch_checkpoint_to_pytorch.cpython-37.pyc\n",
            "byte-compiling build/bdist.linux-x86_64/egg/transformers/models/bart/tokenization_bart_fast.py to tokenization_bart_fast.cpython-37.pyc\n",
            "byte-compiling build/bdist.linux-x86_64/egg/transformers/models/bart/modeling_bart.py to modeling_bart.cpython-37.pyc\n",
            "byte-compiling build/bdist.linux-x86_64/egg/transformers/models/bart/__init__.py to __init__.cpython-37.pyc\n",
            "byte-compiling build/bdist.linux-x86_64/egg/transformers/models/bart/tokenization_bart.py to tokenization_bart.cpython-37.pyc\n",
            "byte-compiling build/bdist.linux-x86_64/egg/transformers/models/bart/modeling_tf_bart.py to modeling_tf_bart.cpython-37.pyc\n",
            "byte-compiling build/bdist.linux-x86_64/egg/transformers/models/tapas/convert_tapas_original_tf_checkpoint_to_pytorch.py to convert_tapas_original_tf_checkpoint_to_pytorch.cpython-37.pyc\n",
            "byte-compiling build/bdist.linux-x86_64/egg/transformers/models/tapas/tokenization_tapas.py to tokenization_tapas.cpython-37.pyc\n",
            "byte-compiling build/bdist.linux-x86_64/egg/transformers/models/tapas/configuration_tapas.py to configuration_tapas.cpython-37.pyc\n",
            "byte-compiling build/bdist.linux-x86_64/egg/transformers/models/tapas/__init__.py to __init__.cpython-37.pyc\n",
            "byte-compiling build/bdist.linux-x86_64/egg/transformers/models/tapas/modeling_tapas.py to modeling_tapas.cpython-37.pyc\n",
            "byte-compiling build/bdist.linux-x86_64/egg/transformers/models/dpr/convert_dpr_original_checkpoint_to_pytorch.py to convert_dpr_original_checkpoint_to_pytorch.cpython-37.pyc\n",
            "byte-compiling build/bdist.linux-x86_64/egg/transformers/models/dpr/modeling_tf_dpr.py to modeling_tf_dpr.cpython-37.pyc\n",
            "byte-compiling build/bdist.linux-x86_64/egg/transformers/models/dpr/modeling_dpr.py to modeling_dpr.cpython-37.pyc\n",
            "byte-compiling build/bdist.linux-x86_64/egg/transformers/models/dpr/tokenization_dpr.py to tokenization_dpr.cpython-37.pyc\n",
            "byte-compiling build/bdist.linux-x86_64/egg/transformers/models/dpr/__init__.py to __init__.cpython-37.pyc\n",
            "byte-compiling build/bdist.linux-x86_64/egg/transformers/models/dpr/configuration_dpr.py to configuration_dpr.cpython-37.pyc\n",
            "byte-compiling build/bdist.linux-x86_64/egg/transformers/models/dpr/tokenization_dpr_fast.py to tokenization_dpr_fast.cpython-37.pyc\n",
            "byte-compiling build/bdist.linux-x86_64/egg/transformers/models/xlm_roberta/tokenization_xlm_roberta.py to tokenization_xlm_roberta.cpython-37.pyc\n",
            "byte-compiling build/bdist.linux-x86_64/egg/transformers/models/xlm_roberta/modeling_xlm_roberta.py to modeling_xlm_roberta.cpython-37.pyc\n",
            "byte-compiling build/bdist.linux-x86_64/egg/transformers/models/xlm_roberta/__init__.py to __init__.cpython-37.pyc\n",
            "byte-compiling build/bdist.linux-x86_64/egg/transformers/models/xlm_roberta/configuration_xlm_roberta.py to configuration_xlm_roberta.cpython-37.pyc\n",
            "byte-compiling build/bdist.linux-x86_64/egg/transformers/models/xlm_roberta/tokenization_xlm_roberta_fast.py to tokenization_xlm_roberta_fast.cpython-37.pyc\n",
            "byte-compiling build/bdist.linux-x86_64/egg/transformers/models/xlm_roberta/modeling_tf_xlm_roberta.py to modeling_tf_xlm_roberta.cpython-37.pyc\n",
            "byte-compiling build/bdist.linux-x86_64/egg/transformers/models/xlnet/configuration_xlnet.py to configuration_xlnet.cpython-37.pyc\n",
            "byte-compiling build/bdist.linux-x86_64/egg/transformers/models/xlnet/modeling_tf_xlnet.py to modeling_tf_xlnet.cpython-37.pyc\n",
            "byte-compiling build/bdist.linux-x86_64/egg/transformers/models/xlnet/tokenization_xlnet_fast.py to tokenization_xlnet_fast.cpython-37.pyc\n",
            "byte-compiling build/bdist.linux-x86_64/egg/transformers/models/xlnet/tokenization_xlnet.py to tokenization_xlnet.cpython-37.pyc\n",
            "byte-compiling build/bdist.linux-x86_64/egg/transformers/models/xlnet/modeling_xlnet.py to modeling_xlnet.cpython-37.pyc\n",
            "byte-compiling build/bdist.linux-x86_64/egg/transformers/models/xlnet/convert_xlnet_original_tf_checkpoint_to_pytorch.py to convert_xlnet_original_tf_checkpoint_to_pytorch.cpython-37.pyc\n",
            "byte-compiling build/bdist.linux-x86_64/egg/transformers/models/xlnet/__init__.py to __init__.cpython-37.pyc\n",
            "byte-compiling build/bdist.linux-x86_64/egg/transformers/models/prophetnet/convert_prophetnet_original_pytorch_checkpoint_to_pytorch.py to convert_prophetnet_original_pytorch_checkpoint_to_pytorch.cpython-37.pyc\n",
            "byte-compiling build/bdist.linux-x86_64/egg/transformers/models/prophetnet/tokenization_prophetnet.py to tokenization_prophetnet.cpython-37.pyc\n",
            "byte-compiling build/bdist.linux-x86_64/egg/transformers/models/prophetnet/configuration_prophetnet.py to configuration_prophetnet.cpython-37.pyc\n",
            "byte-compiling build/bdist.linux-x86_64/egg/transformers/models/prophetnet/modeling_prophetnet.py to modeling_prophetnet.cpython-37.pyc\n",
            "byte-compiling build/bdist.linux-x86_64/egg/transformers/models/prophetnet/__init__.py to __init__.cpython-37.pyc\n",
            "byte-compiling build/bdist.linux-x86_64/egg/transformers/models/barthez/tokenization_barthez_fast.py to tokenization_barthez_fast.cpython-37.pyc\n",
            "byte-compiling build/bdist.linux-x86_64/egg/transformers/models/barthez/__init__.py to __init__.cpython-37.pyc\n",
            "byte-compiling build/bdist.linux-x86_64/egg/transformers/models/barthez/tokenization_barthez.py to tokenization_barthez.cpython-37.pyc\n",
            "byte-compiling build/bdist.linux-x86_64/egg/transformers/models/rag/modeling_rag.py to modeling_rag.cpython-37.pyc\n",
            "byte-compiling build/bdist.linux-x86_64/egg/transformers/models/rag/retrieval_rag.py to retrieval_rag.cpython-37.pyc\n",
            "byte-compiling build/bdist.linux-x86_64/egg/transformers/models/rag/tokenization_rag.py to tokenization_rag.cpython-37.pyc\n",
            "byte-compiling build/bdist.linux-x86_64/egg/transformers/models/rag/configuration_rag.py to configuration_rag.cpython-37.pyc\n",
            "byte-compiling build/bdist.linux-x86_64/egg/transformers/models/rag/__init__.py to __init__.cpython-37.pyc\n",
            "byte-compiling build/bdist.linux-x86_64/egg/transformers/models/retribert/modeling_retribert.py to modeling_retribert.cpython-37.pyc\n",
            "byte-compiling build/bdist.linux-x86_64/egg/transformers/models/retribert/tokenization_retribert_fast.py to tokenization_retribert_fast.cpython-37.pyc\n",
            "byte-compiling build/bdist.linux-x86_64/egg/transformers/models/retribert/tokenization_retribert.py to tokenization_retribert.cpython-37.pyc\n",
            "byte-compiling build/bdist.linux-x86_64/egg/transformers/models/retribert/configuration_retribert.py to configuration_retribert.cpython-37.pyc\n",
            "byte-compiling build/bdist.linux-x86_64/egg/transformers/models/retribert/__init__.py to __init__.cpython-37.pyc\n",
            "byte-compiling build/bdist.linux-x86_64/egg/transformers/models/mobilebert/tokenization_mobilebert_fast.py to tokenization_mobilebert_fast.cpython-37.pyc\n",
            "byte-compiling build/bdist.linux-x86_64/egg/transformers/models/mobilebert/tokenization_mobilebert.py to tokenization_mobilebert.cpython-37.pyc\n",
            "byte-compiling build/bdist.linux-x86_64/egg/transformers/models/mobilebert/modeling_mobilebert.py to modeling_mobilebert.cpython-37.pyc\n",
            "byte-compiling build/bdist.linux-x86_64/egg/transformers/models/mobilebert/configuration_mobilebert.py to configuration_mobilebert.cpython-37.pyc\n",
            "byte-compiling build/bdist.linux-x86_64/egg/transformers/models/mobilebert/modeling_tf_mobilebert.py to modeling_tf_mobilebert.cpython-37.pyc\n",
            "byte-compiling build/bdist.linux-x86_64/egg/transformers/models/mobilebert/__init__.py to __init__.cpython-37.pyc\n",
            "byte-compiling build/bdist.linux-x86_64/egg/transformers/models/mobilebert/convert_mobilebert_original_tf_checkpoint_to_pytorch.py to convert_mobilebert_original_tf_checkpoint_to_pytorch.cpython-37.pyc\n",
            "byte-compiling build/bdist.linux-x86_64/egg/transformers/models/marian/configuration_marian.py to configuration_marian.cpython-37.pyc\n",
            "byte-compiling build/bdist.linux-x86_64/egg/transformers/models/marian/modeling_tf_marian.py to modeling_tf_marian.cpython-37.pyc\n",
            "byte-compiling build/bdist.linux-x86_64/egg/transformers/models/marian/tokenization_marian.py to tokenization_marian.cpython-37.pyc\n",
            "byte-compiling build/bdist.linux-x86_64/egg/transformers/models/marian/convert_marian_tatoeba_to_pytorch.py to convert_marian_tatoeba_to_pytorch.cpython-37.pyc\n",
            "byte-compiling build/bdist.linux-x86_64/egg/transformers/models/marian/modeling_marian.py to modeling_marian.cpython-37.pyc\n",
            "byte-compiling build/bdist.linux-x86_64/egg/transformers/models/marian/__init__.py to __init__.cpython-37.pyc\n",
            "byte-compiling build/bdist.linux-x86_64/egg/transformers/models/marian/convert_marian_to_pytorch.py to convert_marian_to_pytorch.cpython-37.pyc\n",
            "byte-compiling build/bdist.linux-x86_64/egg/transformers/models/xlm/configuration_xlm.py to configuration_xlm.cpython-37.pyc\n",
            "byte-compiling build/bdist.linux-x86_64/egg/transformers/models/xlm/convert_xlm_original_pytorch_checkpoint_to_pytorch.py to convert_xlm_original_pytorch_checkpoint_to_pytorch.cpython-37.pyc\n",
            "byte-compiling build/bdist.linux-x86_64/egg/transformers/models/xlm/modeling_xlm.py to modeling_xlm.cpython-37.pyc\n",
            "byte-compiling build/bdist.linux-x86_64/egg/transformers/models/xlm/tokenization_xlm.py to tokenization_xlm.cpython-37.pyc\n",
            "byte-compiling build/bdist.linux-x86_64/egg/transformers/models/xlm/__init__.py to __init__.cpython-37.pyc\n",
            "byte-compiling build/bdist.linux-x86_64/egg/transformers/models/xlm/modeling_tf_xlm.py to modeling_tf_xlm.cpython-37.pyc\n",
            "byte-compiling build/bdist.linux-x86_64/egg/transformers/models/phobert/tokenization_phobert.py to tokenization_phobert.cpython-37.pyc\n",
            "byte-compiling build/bdist.linux-x86_64/egg/transformers/models/phobert/__init__.py to __init__.cpython-37.pyc\n",
            "byte-compiling build/bdist.linux-x86_64/egg/transformers/models/deberta_v2/modeling_deberta_v2.py to modeling_deberta_v2.cpython-37.pyc\n",
            "byte-compiling build/bdist.linux-x86_64/egg/transformers/models/deberta_v2/configuration_deberta_v2.py to configuration_deberta_v2.cpython-37.pyc\n",
            "byte-compiling build/bdist.linux-x86_64/egg/transformers/models/deberta_v2/tokenization_deberta_v2.py to tokenization_deberta_v2.cpython-37.pyc\n",
            "byte-compiling build/bdist.linux-x86_64/egg/transformers/models/deberta_v2/__init__.py to __init__.cpython-37.pyc\n",
            "byte-compiling build/bdist.linux-x86_64/egg/transformers/models/albert/configuration_albert.py to configuration_albert.cpython-37.pyc\n",
            "byte-compiling build/bdist.linux-x86_64/egg/transformers/models/albert/tokenization_albert_fast.py to tokenization_albert_fast.cpython-37.pyc\n",
            "byte-compiling build/bdist.linux-x86_64/egg/transformers/models/albert/modeling_tf_albert.py to modeling_tf_albert.cpython-37.pyc\n",
            "byte-compiling build/bdist.linux-x86_64/egg/transformers/models/albert/tokenization_albert.py to tokenization_albert.cpython-37.pyc\n",
            "byte-compiling build/bdist.linux-x86_64/egg/transformers/models/albert/__init__.py to __init__.cpython-37.pyc\n",
            "byte-compiling build/bdist.linux-x86_64/egg/transformers/models/albert/modeling_albert.py to modeling_albert.cpython-37.pyc\n",
            "byte-compiling build/bdist.linux-x86_64/egg/transformers/models/albert/convert_albert_original_tf_checkpoint_to_pytorch.py to convert_albert_original_tf_checkpoint_to_pytorch.cpython-37.pyc\n",
            "byte-compiling build/bdist.linux-x86_64/egg/transformers/models/led/configuration_led.py to configuration_led.cpython-37.pyc\n",
            "byte-compiling build/bdist.linux-x86_64/egg/transformers/models/led/modeling_led.py to modeling_led.cpython-37.pyc\n",
            "byte-compiling build/bdist.linux-x86_64/egg/transformers/models/led/tokenization_led.py to tokenization_led.cpython-37.pyc\n",
            "byte-compiling build/bdist.linux-x86_64/egg/transformers/models/led/tokenization_led_fast.py to tokenization_led_fast.cpython-37.pyc\n",
            "byte-compiling build/bdist.linux-x86_64/egg/transformers/models/led/__init__.py to __init__.cpython-37.pyc\n",
            "byte-compiling build/bdist.linux-x86_64/egg/transformers/models/led/modeling_tf_led.py to modeling_tf_led.cpython-37.pyc\n",
            "byte-compiling build/bdist.linux-x86_64/egg/transformers/models/__init__.py to __init__.cpython-37.pyc\n",
            "byte-compiling build/bdist.linux-x86_64/egg/transformers/models/mt5/configuration_mt5.py to configuration_mt5.cpython-37.pyc\n",
            "byte-compiling build/bdist.linux-x86_64/egg/transformers/models/mt5/__init__.py to __init__.cpython-37.pyc\n",
            "byte-compiling build/bdist.linux-x86_64/egg/transformers/models/mt5/modeling_tf_mt5.py to modeling_tf_mt5.cpython-37.pyc\n",
            "byte-compiling build/bdist.linux-x86_64/egg/transformers/models/mt5/modeling_mt5.py to modeling_mt5.cpython-37.pyc\n",
            "byte-compiling build/bdist.linux-x86_64/egg/transformers/models/flaubert/tokenization_flaubert.py to tokenization_flaubert.cpython-37.pyc\n",
            "byte-compiling build/bdist.linux-x86_64/egg/transformers/models/flaubert/configuration_flaubert.py to configuration_flaubert.cpython-37.pyc\n",
            "byte-compiling build/bdist.linux-x86_64/egg/transformers/models/flaubert/modeling_flaubert.py to modeling_flaubert.cpython-37.pyc\n",
            "byte-compiling build/bdist.linux-x86_64/egg/transformers/models/flaubert/__init__.py to __init__.cpython-37.pyc\n",
            "byte-compiling build/bdist.linux-x86_64/egg/transformers/models/flaubert/modeling_tf_flaubert.py to modeling_tf_flaubert.cpython-37.pyc\n",
            "byte-compiling build/bdist.linux-x86_64/egg/transformers/models/t5/convert_t5_original_tf_checkpoint_to_pytorch.py to convert_t5_original_tf_checkpoint_to_pytorch.cpython-37.pyc\n",
            "byte-compiling build/bdist.linux-x86_64/egg/transformers/models/t5/tokenization_t5_fast.py to tokenization_t5_fast.cpython-37.pyc\n",
            "byte-compiling build/bdist.linux-x86_64/egg/transformers/models/t5/tokenization_t5.py to tokenization_t5.cpython-37.pyc\n",
            "byte-compiling build/bdist.linux-x86_64/egg/transformers/models/t5/configuration_t5.py to configuration_t5.cpython-37.pyc\n",
            "byte-compiling build/bdist.linux-x86_64/egg/transformers/models/t5/modeling_tf_t5.py to modeling_tf_t5.cpython-37.pyc\n",
            "byte-compiling build/bdist.linux-x86_64/egg/transformers/models/t5/__init__.py to __init__.cpython-37.pyc\n",
            "byte-compiling build/bdist.linux-x86_64/egg/transformers/models/t5/modeling_t5.py to modeling_t5.cpython-37.pyc\n",
            "byte-compiling build/bdist.linux-x86_64/egg/transformers/models/openai/modeling_tf_openai.py to modeling_tf_openai.cpython-37.pyc\n",
            "byte-compiling build/bdist.linux-x86_64/egg/transformers/models/openai/convert_openai_original_tf_checkpoint_to_pytorch.py to convert_openai_original_tf_checkpoint_to_pytorch.cpython-37.pyc\n",
            "byte-compiling build/bdist.linux-x86_64/egg/transformers/models/openai/tokenization_openai_fast.py to tokenization_openai_fast.cpython-37.pyc\n",
            "byte-compiling build/bdist.linux-x86_64/egg/transformers/models/openai/configuration_openai.py to configuration_openai.cpython-37.pyc\n",
            "byte-compiling build/bdist.linux-x86_64/egg/transformers/models/openai/__init__.py to __init__.cpython-37.pyc\n",
            "byte-compiling build/bdist.linux-x86_64/egg/transformers/models/openai/modeling_openai.py to modeling_openai.cpython-37.pyc\n",
            "byte-compiling build/bdist.linux-x86_64/egg/transformers/models/openai/tokenization_openai.py to tokenization_openai.cpython-37.pyc\n",
            "byte-compiling build/bdist.linux-x86_64/egg/transformers/models/mbart/modeling_tf_mbart.py to modeling_tf_mbart.cpython-37.pyc\n",
            "byte-compiling build/bdist.linux-x86_64/egg/transformers/models/mbart/tokenization_mbart50_fast.py to tokenization_mbart50_fast.cpython-37.pyc\n",
            "byte-compiling build/bdist.linux-x86_64/egg/transformers/models/mbart/configuration_mbart.py to configuration_mbart.cpython-37.pyc\n",
            "byte-compiling build/bdist.linux-x86_64/egg/transformers/models/mbart/tokenization_mbart.py to tokenization_mbart.cpython-37.pyc\n",
            "byte-compiling build/bdist.linux-x86_64/egg/transformers/models/mbart/convert_mbart_original_checkpoint_to_pytorch.py to convert_mbart_original_checkpoint_to_pytorch.cpython-37.pyc\n",
            "byte-compiling build/bdist.linux-x86_64/egg/transformers/models/mbart/__init__.py to __init__.cpython-37.pyc\n",
            "byte-compiling build/bdist.linux-x86_64/egg/transformers/models/mbart/modeling_mbart.py to modeling_mbart.cpython-37.pyc\n",
            "byte-compiling build/bdist.linux-x86_64/egg/transformers/models/mbart/tokenization_mbart50.py to tokenization_mbart50.cpython-37.pyc\n",
            "byte-compiling build/bdist.linux-x86_64/egg/transformers/models/mbart/tokenization_mbart_fast.py to tokenization_mbart_fast.cpython-37.pyc\n",
            "byte-compiling build/bdist.linux-x86_64/egg/transformers/models/blenderbot/modeling_tf_blenderbot.py to modeling_tf_blenderbot.cpython-37.pyc\n",
            "byte-compiling build/bdist.linux-x86_64/egg/transformers/models/blenderbot/tokenization_blenderbot.py to tokenization_blenderbot.cpython-37.pyc\n",
            "byte-compiling build/bdist.linux-x86_64/egg/transformers/models/blenderbot/configuration_blenderbot.py to configuration_blenderbot.cpython-37.pyc\n",
            "byte-compiling build/bdist.linux-x86_64/egg/transformers/models/blenderbot/__init__.py to __init__.cpython-37.pyc\n",
            "byte-compiling build/bdist.linux-x86_64/egg/transformers/models/blenderbot/convert_blenderbot_original_pytorch_checkpoint_to_pytorch.py to convert_blenderbot_original_pytorch_checkpoint_to_pytorch.cpython-37.pyc\n",
            "byte-compiling build/bdist.linux-x86_64/egg/transformers/models/blenderbot/modeling_blenderbot.py to modeling_blenderbot.cpython-37.pyc\n",
            "byte-compiling build/bdist.linux-x86_64/egg/transformers/models/longformer/configuration_longformer.py to configuration_longformer.cpython-37.pyc\n",
            "byte-compiling build/bdist.linux-x86_64/egg/transformers/models/longformer/modeling_tf_longformer.py to modeling_tf_longformer.cpython-37.pyc\n",
            "byte-compiling build/bdist.linux-x86_64/egg/transformers/models/longformer/convert_longformer_original_pytorch_lightning_to_pytorch.py to convert_longformer_original_pytorch_lightning_to_pytorch.cpython-37.pyc\n",
            "byte-compiling build/bdist.linux-x86_64/egg/transformers/models/longformer/tokenization_longformer_fast.py to tokenization_longformer_fast.cpython-37.pyc\n",
            "byte-compiling build/bdist.linux-x86_64/egg/transformers/models/longformer/modeling_longformer.py to modeling_longformer.cpython-37.pyc\n",
            "byte-compiling build/bdist.linux-x86_64/egg/transformers/models/longformer/tokenization_longformer.py to tokenization_longformer.cpython-37.pyc\n",
            "byte-compiling build/bdist.linux-x86_64/egg/transformers/models/longformer/__init__.py to __init__.cpython-37.pyc\n",
            "byte-compiling build/bdist.linux-x86_64/egg/transformers/models/reformer/tokenization_reformer.py to tokenization_reformer.cpython-37.pyc\n",
            "byte-compiling build/bdist.linux-x86_64/egg/transformers/models/reformer/convert_reformer_trax_checkpoint_to_pytorch.py to convert_reformer_trax_checkpoint_to_pytorch.cpython-37.pyc\n",
            "byte-compiling build/bdist.linux-x86_64/egg/transformers/models/reformer/configuration_reformer.py to configuration_reformer.cpython-37.pyc\n",
            "byte-compiling build/bdist.linux-x86_64/egg/transformers/models/reformer/tokenization_reformer_fast.py to tokenization_reformer_fast.cpython-37.pyc\n",
            "byte-compiling build/bdist.linux-x86_64/egg/transformers/models/reformer/modeling_reformer.py to modeling_reformer.cpython-37.pyc\n",
            "byte-compiling build/bdist.linux-x86_64/egg/transformers/models/reformer/__init__.py to __init__.cpython-37.pyc\n",
            "byte-compiling build/bdist.linux-x86_64/egg/transformers/models/wav2vec2/configuration_wav2vec2.py to configuration_wav2vec2.cpython-37.pyc\n",
            "byte-compiling build/bdist.linux-x86_64/egg/transformers/models/wav2vec2/feature_extraction_wav2vec2.py to feature_extraction_wav2vec2.cpython-37.pyc\n",
            "byte-compiling build/bdist.linux-x86_64/egg/transformers/models/wav2vec2/modeling_wav2vec2.py to modeling_wav2vec2.cpython-37.pyc\n",
            "byte-compiling build/bdist.linux-x86_64/egg/transformers/models/wav2vec2/__init__.py to __init__.cpython-37.pyc\n",
            "byte-compiling build/bdist.linux-x86_64/egg/transformers/models/wav2vec2/tokenization_wav2vec2.py to tokenization_wav2vec2.cpython-37.pyc\n",
            "byte-compiling build/bdist.linux-x86_64/egg/transformers/models/wav2vec2/processing_wav2vec2.py to processing_wav2vec2.cpython-37.pyc\n",
            "byte-compiling build/bdist.linux-x86_64/egg/transformers/models/wav2vec2/convert_wav2vec2_original_pytorch_checkpoint_to_pytorch.py to convert_wav2vec2_original_pytorch_checkpoint_to_pytorch.cpython-37.pyc\n",
            "byte-compiling build/bdist.linux-x86_64/egg/transformers/models/mpnet/modeling_tf_mpnet.py to modeling_tf_mpnet.cpython-37.pyc\n",
            "byte-compiling build/bdist.linux-x86_64/egg/transformers/models/mpnet/configuration_mpnet.py to configuration_mpnet.cpython-37.pyc\n",
            "byte-compiling build/bdist.linux-x86_64/egg/transformers/models/mpnet/tokenization_mpnet.py to tokenization_mpnet.cpython-37.pyc\n",
            "byte-compiling build/bdist.linux-x86_64/egg/transformers/models/mpnet/modeling_mpnet.py to modeling_mpnet.cpython-37.pyc\n",
            "byte-compiling build/bdist.linux-x86_64/egg/transformers/models/mpnet/tokenization_mpnet_fast.py to tokenization_mpnet_fast.cpython-37.pyc\n",
            "byte-compiling build/bdist.linux-x86_64/egg/transformers/models/mpnet/__init__.py to __init__.cpython-37.pyc\n",
            "byte-compiling build/bdist.linux-x86_64/egg/transformers/models/herbert/tokenization_herbert_fast.py to tokenization_herbert_fast.cpython-37.pyc\n",
            "byte-compiling build/bdist.linux-x86_64/egg/transformers/models/herbert/__init__.py to __init__.cpython-37.pyc\n",
            "byte-compiling build/bdist.linux-x86_64/egg/transformers/models/herbert/tokenization_herbert.py to tokenization_herbert.cpython-37.pyc\n",
            "byte-compiling build/bdist.linux-x86_64/egg/transformers/trainer_seq2seq.py to trainer_seq2seq.cpython-37.pyc\n",
            "byte-compiling build/bdist.linux-x86_64/egg/transformers/generation_tf_utils.py to generation_tf_utils.cpython-37.pyc\n",
            "byte-compiling build/bdist.linux-x86_64/egg/transformers/trainer_tf.py to trainer_tf.cpython-37.pyc\n",
            "byte-compiling build/bdist.linux-x86_64/egg/transformers/generation_utils.py to generation_utils.cpython-37.pyc\n",
            "byte-compiling build/bdist.linux-x86_64/egg/transformers/trainer.py to trainer.cpython-37.pyc\n",
            "byte-compiling build/bdist.linux-x86_64/egg/transformers/trainer_callback.py to trainer_callback.cpython-37.pyc\n",
            "byte-compiling build/bdist.linux-x86_64/egg/transformers/pipelines/feature_extraction.py to feature_extraction.cpython-37.pyc\n",
            "byte-compiling build/bdist.linux-x86_64/egg/transformers/pipelines/base.py to base.cpython-37.pyc\n",
            "byte-compiling build/bdist.linux-x86_64/egg/transformers/pipelines/fill_mask.py to fill_mask.cpython-37.pyc\n",
            "byte-compiling build/bdist.linux-x86_64/egg/transformers/pipelines/table_question_answering.py to table_question_answering.cpython-37.pyc\n",
            "byte-compiling build/bdist.linux-x86_64/egg/transformers/pipelines/text_classification.py to text_classification.cpython-37.pyc\n",
            "byte-compiling build/bdist.linux-x86_64/egg/transformers/pipelines/zero_shot_classification.py to zero_shot_classification.cpython-37.pyc\n",
            "byte-compiling build/bdist.linux-x86_64/egg/transformers/pipelines/conversational.py to conversational.cpython-37.pyc\n",
            "byte-compiling build/bdist.linux-x86_64/egg/transformers/pipelines/text2text_generation.py to text2text_generation.cpython-37.pyc\n",
            "byte-compiling build/bdist.linux-x86_64/egg/transformers/pipelines/token_classification.py to token_classification.cpython-37.pyc\n",
            "byte-compiling build/bdist.linux-x86_64/egg/transformers/pipelines/text_generation.py to text_generation.cpython-37.pyc\n",
            "byte-compiling build/bdist.linux-x86_64/egg/transformers/pipelines/__init__.py to __init__.cpython-37.pyc\n",
            "byte-compiling build/bdist.linux-x86_64/egg/transformers/pipelines/question_answering.py to question_answering.cpython-37.pyc\n",
            "byte-compiling build/bdist.linux-x86_64/egg/transformers/tokenization_utils_base.py to tokenization_utils_base.cpython-37.pyc\n",
            "byte-compiling build/bdist.linux-x86_64/egg/transformers/commands/add_new_model.py to add_new_model.cpython-37.pyc\n",
            "byte-compiling build/bdist.linux-x86_64/egg/transformers/commands/lfs.py to lfs.cpython-37.pyc\n",
            "byte-compiling build/bdist.linux-x86_64/egg/transformers/commands/serving.py to serving.cpython-37.pyc\n",
            "byte-compiling build/bdist.linux-x86_64/egg/transformers/commands/convert.py to convert.cpython-37.pyc\n",
            "byte-compiling build/bdist.linux-x86_64/egg/transformers/commands/train.py to train.cpython-37.pyc\n",
            "byte-compiling build/bdist.linux-x86_64/egg/transformers/commands/download.py to download.cpython-37.pyc\n",
            "byte-compiling build/bdist.linux-x86_64/egg/transformers/commands/user.py to user.cpython-37.pyc\n",
            "byte-compiling build/bdist.linux-x86_64/egg/transformers/commands/transformers_cli.py to transformers_cli.cpython-37.pyc\n",
            "byte-compiling build/bdist.linux-x86_64/egg/transformers/commands/env.py to env.cpython-37.pyc\n",
            "byte-compiling build/bdist.linux-x86_64/egg/transformers/commands/__init__.py to __init__.cpython-37.pyc\n",
            "byte-compiling build/bdist.linux-x86_64/egg/transformers/commands/run.py to run.cpython-37.pyc\n",
            "byte-compiling build/bdist.linux-x86_64/egg/transformers/benchmark/benchmark_utils.py to benchmark_utils.cpython-37.pyc\n",
            "byte-compiling build/bdist.linux-x86_64/egg/transformers/benchmark/benchmark_tf.py to benchmark_tf.cpython-37.pyc\n",
            "byte-compiling build/bdist.linux-x86_64/egg/transformers/benchmark/benchmark_args.py to benchmark_args.cpython-37.pyc\n",
            "byte-compiling build/bdist.linux-x86_64/egg/transformers/benchmark/benchmark_args_tf.py to benchmark_args_tf.cpython-37.pyc\n",
            "byte-compiling build/bdist.linux-x86_64/egg/transformers/benchmark/benchmark.py to benchmark.cpython-37.pyc\n",
            "byte-compiling build/bdist.linux-x86_64/egg/transformers/benchmark/__init__.py to __init__.cpython-37.pyc\n",
            "byte-compiling build/bdist.linux-x86_64/egg/transformers/benchmark/benchmark_args_utils.py to benchmark_args_utils.cpython-37.pyc\n",
            "byte-compiling build/bdist.linux-x86_64/egg/transformers/data/test_generation_utils.py to test_generation_utils.cpython-37.pyc\n",
            "byte-compiling build/bdist.linux-x86_64/egg/transformers/data/metrics/squad_metrics.py to squad_metrics.cpython-37.pyc\n",
            "byte-compiling build/bdist.linux-x86_64/egg/transformers/data/metrics/__init__.py to __init__.cpython-37.pyc\n",
            "byte-compiling build/bdist.linux-x86_64/egg/transformers/data/data_collator.py to data_collator.cpython-37.pyc\n",
            "byte-compiling build/bdist.linux-x86_64/egg/transformers/data/__init__.py to __init__.cpython-37.pyc\n",
            "byte-compiling build/bdist.linux-x86_64/egg/transformers/data/datasets/glue.py to glue.cpython-37.pyc\n",
            "byte-compiling build/bdist.linux-x86_64/egg/transformers/data/datasets/squad.py to squad.cpython-37.pyc\n",
            "byte-compiling build/bdist.linux-x86_64/egg/transformers/data/datasets/__init__.py to __init__.cpython-37.pyc\n",
            "byte-compiling build/bdist.linux-x86_64/egg/transformers/data/datasets/language_modeling.py to language_modeling.cpython-37.pyc\n",
            "byte-compiling build/bdist.linux-x86_64/egg/transformers/data/processors/glue.py to glue.cpython-37.pyc\n",
            "byte-compiling build/bdist.linux-x86_64/egg/transformers/data/processors/squad.py to squad.cpython-37.pyc\n",
            "byte-compiling build/bdist.linux-x86_64/egg/transformers/data/processors/utils.py to utils.cpython-37.pyc\n",
            "byte-compiling build/bdist.linux-x86_64/egg/transformers/data/processors/__init__.py to __init__.cpython-37.pyc\n",
            "byte-compiling build/bdist.linux-x86_64/egg/transformers/data/processors/xnli.py to xnli.cpython-37.pyc\n",
            "byte-compiling build/bdist.linux-x86_64/egg/transformers/__init__.py to __init__.cpython-37.pyc\n",
            "byte-compiling build/bdist.linux-x86_64/egg/transformers/training_args.py to training_args.cpython-37.pyc\n",
            "byte-compiling build/bdist.linux-x86_64/egg/transformers/modeling_flax_utils.py to modeling_flax_utils.cpython-37.pyc\n",
            "byte-compiling build/bdist.linux-x86_64/egg/transformers/hf_api.py to hf_api.cpython-37.pyc\n",
            "byte-compiling build/bdist.linux-x86_64/egg/transformers/trainer_pt_utils.py to trainer_pt_utils.cpython-37.pyc\n",
            "byte-compiling build/bdist.linux-x86_64/egg/transformers/modeling_outputs.py to modeling_outputs.cpython-37.pyc\n",
            "byte-compiling build/bdist.linux-x86_64/egg/transformers/dependency_versions_check.py to dependency_versions_check.cpython-37.pyc\n",
            "byte-compiling build/bdist.linux-x86_64/egg/transformers/training_args_seq2seq.py to training_args_seq2seq.cpython-37.pyc\n",
            "byte-compiling build/bdist.linux-x86_64/egg/transformers/generation_logits_process.py to generation_logits_process.cpython-37.pyc\n",
            "byte-compiling build/bdist.linux-x86_64/egg/transformers/testing_utils.py to testing_utils.cpython-37.pyc\n",
            "byte-compiling build/bdist.linux-x86_64/egg/transformers/file_utils.py to file_utils.cpython-37.pyc\n",
            "creating build/bdist.linux-x86_64/egg/EGG-INFO\n",
            "copying src/transformers.egg-info/PKG-INFO -> build/bdist.linux-x86_64/egg/EGG-INFO\n",
            "copying src/transformers.egg-info/SOURCES.txt -> build/bdist.linux-x86_64/egg/EGG-INFO\n",
            "copying src/transformers.egg-info/dependency_links.txt -> build/bdist.linux-x86_64/egg/EGG-INFO\n",
            "copying src/transformers.egg-info/entry_points.txt -> build/bdist.linux-x86_64/egg/EGG-INFO\n",
            "copying src/transformers.egg-info/requires.txt -> build/bdist.linux-x86_64/egg/EGG-INFO\n",
            "copying src/transformers.egg-info/top_level.txt -> build/bdist.linux-x86_64/egg/EGG-INFO\n",
            "zip_safe flag not set; analyzing archive contents...\n",
            "transformers.__pycache__.__init__.cpython-37: module references __file__\n",
            "transformers.__pycache__.__init__.cpython-37: module references __path__\n",
            "transformers.__pycache__.testing_utils.cpython-37: module MAY be using inspect.stack\n",
            "transformers.benchmark.__pycache__.benchmark_utils.cpython-37: module references __file__\n",
            "transformers.commands.__pycache__.add_new_model.cpython-37: module references __file__\n",
            "transformers.models.albert.__pycache__.__init__.cpython-37: module references __file__\n",
            "transformers.models.albert.__pycache__.__init__.cpython-37: module references __path__\n",
            "transformers.models.auto.__pycache__.__init__.cpython-37: module references __file__\n",
            "transformers.models.auto.__pycache__.__init__.cpython-37: module references __path__\n",
            "transformers.models.bart.__pycache__.__init__.cpython-37: module references __file__\n",
            "transformers.models.bart.__pycache__.__init__.cpython-37: module references __path__\n",
            "transformers.models.barthez.__pycache__.__init__.cpython-37: module references __file__\n",
            "transformers.models.barthez.__pycache__.__init__.cpython-37: module references __path__\n",
            "transformers.models.bert.__pycache__.__init__.cpython-37: module references __file__\n",
            "transformers.models.bert.__pycache__.__init__.cpython-37: module references __path__\n",
            "transformers.models.bert_generation.__pycache__.__init__.cpython-37: module references __file__\n",
            "transformers.models.bert_generation.__pycache__.__init__.cpython-37: module references __path__\n",
            "transformers.models.bert_japanese.__pycache__.__init__.cpython-37: module references __file__\n",
            "transformers.models.bert_japanese.__pycache__.__init__.cpython-37: module references __path__\n",
            "transformers.models.bertweet.__pycache__.__init__.cpython-37: module references __file__\n",
            "transformers.models.bertweet.__pycache__.__init__.cpython-37: module references __path__\n",
            "transformers.models.blenderbot.__pycache__.__init__.cpython-37: module references __file__\n",
            "transformers.models.blenderbot.__pycache__.__init__.cpython-37: module references __path__\n",
            "transformers.models.blenderbot_small.__pycache__.__init__.cpython-37: module references __file__\n",
            "transformers.models.blenderbot_small.__pycache__.__init__.cpython-37: module references __path__\n",
            "transformers.models.camembert.__pycache__.__init__.cpython-37: module references __file__\n",
            "transformers.models.camembert.__pycache__.__init__.cpython-37: module references __path__\n",
            "transformers.models.convbert.__pycache__.__init__.cpython-37: module references __file__\n",
            "transformers.models.convbert.__pycache__.__init__.cpython-37: module references __path__\n",
            "transformers.models.ctrl.__pycache__.__init__.cpython-37: module references __file__\n",
            "transformers.models.ctrl.__pycache__.__init__.cpython-37: module references __path__\n",
            "transformers.models.deberta.__pycache__.__init__.cpython-37: module references __file__\n",
            "transformers.models.deberta.__pycache__.__init__.cpython-37: module references __path__\n",
            "transformers.models.deberta_v2.__pycache__.__init__.cpython-37: module references __file__\n",
            "transformers.models.deberta_v2.__pycache__.__init__.cpython-37: module references __path__\n",
            "transformers.models.distilbert.__pycache__.__init__.cpython-37: module references __file__\n",
            "transformers.models.distilbert.__pycache__.__init__.cpython-37: module references __path__\n",
            "transformers.models.dpr.__pycache__.__init__.cpython-37: module references __file__\n",
            "transformers.models.dpr.__pycache__.__init__.cpython-37: module references __path__\n",
            "transformers.models.electra.__pycache__.__init__.cpython-37: module references __file__\n",
            "transformers.models.electra.__pycache__.__init__.cpython-37: module references __path__\n",
            "transformers.models.encoder_decoder.__pycache__.__init__.cpython-37: module references __file__\n",
            "transformers.models.encoder_decoder.__pycache__.__init__.cpython-37: module references __path__\n",
            "transformers.models.flaubert.__pycache__.__init__.cpython-37: module references __file__\n",
            "transformers.models.flaubert.__pycache__.__init__.cpython-37: module references __path__\n",
            "transformers.models.fsmt.__pycache__.__init__.cpython-37: module references __file__\n",
            "transformers.models.fsmt.__pycache__.__init__.cpython-37: module references __path__\n",
            "transformers.models.funnel.__pycache__.__init__.cpython-37: module references __file__\n",
            "transformers.models.funnel.__pycache__.__init__.cpython-37: module references __path__\n",
            "transformers.models.gpt2.__pycache__.__init__.cpython-37: module references __file__\n",
            "transformers.models.gpt2.__pycache__.__init__.cpython-37: module references __path__\n",
            "transformers.models.herbert.__pycache__.__init__.cpython-37: module references __file__\n",
            "transformers.models.herbert.__pycache__.__init__.cpython-37: module references __path__\n",
            "transformers.models.ibert.__pycache__.__init__.cpython-37: module references __file__\n",
            "transformers.models.ibert.__pycache__.__init__.cpython-37: module references __path__\n",
            "transformers.models.layoutlm.__pycache__.__init__.cpython-37: module references __file__\n",
            "transformers.models.layoutlm.__pycache__.__init__.cpython-37: module references __path__\n",
            "transformers.models.led.__pycache__.__init__.cpython-37: module references __file__\n",
            "transformers.models.led.__pycache__.__init__.cpython-37: module references __path__\n",
            "transformers.models.longformer.__pycache__.__init__.cpython-37: module references __file__\n",
            "transformers.models.longformer.__pycache__.__init__.cpython-37: module references __path__\n",
            "transformers.models.lxmert.__pycache__.__init__.cpython-37: module references __file__\n",
            "transformers.models.lxmert.__pycache__.__init__.cpython-37: module references __path__\n",
            "transformers.models.m2m_100.__pycache__.__init__.cpython-37: module references __file__\n",
            "transformers.models.m2m_100.__pycache__.__init__.cpython-37: module references __path__\n",
            "transformers.models.marian.__pycache__.__init__.cpython-37: module references __file__\n",
            "transformers.models.marian.__pycache__.__init__.cpython-37: module references __path__\n",
            "transformers.models.mbart.__pycache__.__init__.cpython-37: module references __file__\n",
            "transformers.models.mbart.__pycache__.__init__.cpython-37: module references __path__\n",
            "transformers.models.mmbt.__pycache__.__init__.cpython-37: module references __file__\n",
            "transformers.models.mmbt.__pycache__.__init__.cpython-37: module references __path__\n",
            "transformers.models.mobilebert.__pycache__.__init__.cpython-37: module references __file__\n",
            "transformers.models.mobilebert.__pycache__.__init__.cpython-37: module references __path__\n",
            "transformers.models.mpnet.__pycache__.__init__.cpython-37: module references __file__\n",
            "transformers.models.mpnet.__pycache__.__init__.cpython-37: module references __path__\n",
            "transformers.models.mt5.__pycache__.__init__.cpython-37: module references __file__\n",
            "transformers.models.mt5.__pycache__.__init__.cpython-37: module references __path__\n",
            "transformers.models.openai.__pycache__.__init__.cpython-37: module references __file__\n",
            "transformers.models.openai.__pycache__.__init__.cpython-37: module references __path__\n",
            "transformers.models.pegasus.__pycache__.__init__.cpython-37: module references __file__\n",
            "transformers.models.pegasus.__pycache__.__init__.cpython-37: module references __path__\n",
            "transformers.models.phobert.__pycache__.__init__.cpython-37: module references __file__\n",
            "transformers.models.phobert.__pycache__.__init__.cpython-37: module references __path__\n",
            "transformers.models.prophetnet.__pycache__.__init__.cpython-37: module references __file__\n",
            "transformers.models.prophetnet.__pycache__.__init__.cpython-37: module references __path__\n",
            "transformers.models.rag.__pycache__.__init__.cpython-37: module references __file__\n",
            "transformers.models.rag.__pycache__.__init__.cpython-37: module references __path__\n",
            "transformers.models.reformer.__pycache__.__init__.cpython-37: module references __file__\n",
            "transformers.models.reformer.__pycache__.__init__.cpython-37: module references __path__\n",
            "transformers.models.retribert.__pycache__.__init__.cpython-37: module references __file__\n",
            "transformers.models.retribert.__pycache__.__init__.cpython-37: module references __path__\n",
            "transformers.models.roberta.__pycache__.__init__.cpython-37: module references __file__\n",
            "transformers.models.roberta.__pycache__.__init__.cpython-37: module references __path__\n",
            "transformers.models.squeezebert.__pycache__.__init__.cpython-37: module references __file__\n",
            "transformers.models.squeezebert.__pycache__.__init__.cpython-37: module references __path__\n",
            "transformers.models.t5.__pycache__.__init__.cpython-37: module references __file__\n",
            "transformers.models.t5.__pycache__.__init__.cpython-37: module references __path__\n",
            "transformers.models.tapas.__pycache__.__init__.cpython-37: module references __file__\n",
            "transformers.models.tapas.__pycache__.__init__.cpython-37: module references __path__\n",
            "transformers.models.transfo_xl.__pycache__.__init__.cpython-37: module references __file__\n",
            "transformers.models.transfo_xl.__pycache__.__init__.cpython-37: module references __path__\n",
            "transformers.models.wav2vec2.__pycache__.__init__.cpython-37: module references __file__\n",
            "transformers.models.wav2vec2.__pycache__.__init__.cpython-37: module references __path__\n",
            "transformers.models.xlm.__pycache__.__init__.cpython-37: module references __file__\n",
            "transformers.models.xlm.__pycache__.__init__.cpython-37: module references __path__\n",
            "transformers.models.xlm_roberta.__pycache__.__init__.cpython-37: module references __file__\n",
            "transformers.models.xlm_roberta.__pycache__.__init__.cpython-37: module references __path__\n",
            "transformers.models.xlnet.__pycache__.__init__.cpython-37: module references __file__\n",
            "transformers.models.xlnet.__pycache__.__init__.cpython-37: module references __path__\n",
            "creating dist\n",
            "creating 'dist/transformers-4.4.0.dev0-py3.7.egg' and adding 'build/bdist.linux-x86_64/egg' to it\n",
            "removing 'build/bdist.linux-x86_64/egg' (and everything under it)\n",
            "Processing transformers-4.4.0.dev0-py3.7.egg\n",
            "creating /usr/local/lib/python3.7/dist-packages/transformers-4.4.0.dev0-py3.7.egg\n",
            "Extracting transformers-4.4.0.dev0-py3.7.egg to /usr/local/lib/python3.7/dist-packages\n",
            "Removing transformers 4.4.0.dev0 from easy-install.pth file\n",
            "Adding transformers 4.4.0.dev0 to easy-install.pth file\n",
            "Installing transformers-cli script to /usr/local/bin\n",
            "\n",
            "Installed /usr/local/lib/python3.7/dist-packages/transformers-4.4.0.dev0-py3.7.egg\n",
            "Processing dependencies for transformers==4.4.0.dev0\n",
            "Searching for importlib-metadata==3.7.0\n",
            "Best match: importlib-metadata 3.7.0\n",
            "Adding importlib-metadata 3.7.0 to easy-install.pth file\n",
            "\n",
            "Using /usr/local/lib/python3.7/dist-packages\n",
            "Searching for tqdm==4.41.1\n",
            "Best match: tqdm 4.41.1\n",
            "Adding tqdm 4.41.1 to easy-install.pth file\n",
            "Installing tqdm script to /usr/local/bin\n",
            "\n",
            "Using /usr/local/lib/python3.7/dist-packages\n",
            "Searching for tokenizers==0.10.1\n",
            "Best match: tokenizers 0.10.1\n",
            "Adding tokenizers 0.10.1 to easy-install.pth file\n",
            "\n",
            "Using /usr/local/lib/python3.7/dist-packages\n",
            "Searching for sacremoses==0.0.43\n",
            "Best match: sacremoses 0.0.43\n",
            "Adding sacremoses 0.0.43 to easy-install.pth file\n",
            "Installing sacremoses script to /usr/local/bin\n",
            "\n",
            "Using /usr/local/lib/python3.7/dist-packages\n",
            "Searching for requests==2.23.0\n",
            "Best match: requests 2.23.0\n",
            "Adding requests 2.23.0 to easy-install.pth file\n",
            "\n",
            "Using /usr/local/lib/python3.7/dist-packages\n",
            "Searching for regex==2019.12.20\n",
            "Best match: regex 2019.12.20\n",
            "Adding regex 2019.12.20 to easy-install.pth file\n",
            "\n",
            "Using /usr/local/lib/python3.7/dist-packages\n",
            "Searching for packaging==20.9\n",
            "Best match: packaging 20.9\n",
            "Adding packaging 20.9 to easy-install.pth file\n",
            "\n",
            "Using /usr/local/lib/python3.7/dist-packages\n",
            "Searching for numpy==1.19.5\n",
            "Best match: numpy 1.19.5\n",
            "Adding numpy 1.19.5 to easy-install.pth file\n",
            "Installing f2py script to /usr/local/bin\n",
            "Installing f2py3 script to /usr/local/bin\n",
            "Installing f2py3.7 script to /usr/local/bin\n",
            "\n",
            "Using /usr/local/lib/python3.7/dist-packages\n",
            "Searching for filelock==3.0.12\n",
            "Best match: filelock 3.0.12\n",
            "Adding filelock 3.0.12 to easy-install.pth file\n",
            "\n",
            "Using /usr/local/lib/python3.7/dist-packages\n",
            "Searching for zipp==3.4.0\n",
            "Best match: zipp 3.4.0\n",
            "Adding zipp 3.4.0 to easy-install.pth file\n",
            "\n",
            "Using /usr/local/lib/python3.7/dist-packages\n",
            "Searching for typing-extensions==3.7.4.3\n",
            "Best match: typing-extensions 3.7.4.3\n",
            "Adding typing-extensions 3.7.4.3 to easy-install.pth file\n",
            "\n",
            "Using /usr/local/lib/python3.7/dist-packages\n",
            "Searching for six==1.15.0\n",
            "Best match: six 1.15.0\n",
            "Adding six 1.15.0 to easy-install.pth file\n",
            "\n",
            "Using /usr/local/lib/python3.7/dist-packages\n",
            "Searching for click==7.1.2\n",
            "Best match: click 7.1.2\n",
            "Adding click 7.1.2 to easy-install.pth file\n",
            "\n",
            "Using /usr/local/lib/python3.7/dist-packages\n",
            "Searching for joblib==1.0.1\n",
            "Best match: joblib 1.0.1\n",
            "Adding joblib 1.0.1 to easy-install.pth file\n",
            "\n",
            "Using /usr/local/lib/python3.7/dist-packages\n",
            "Searching for certifi==2020.12.5\n",
            "Best match: certifi 2020.12.5\n",
            "Adding certifi 2020.12.5 to easy-install.pth file\n",
            "\n",
            "Using /usr/local/lib/python3.7/dist-packages\n",
            "Searching for urllib3==1.24.3\n",
            "Best match: urllib3 1.24.3\n",
            "Adding urllib3 1.24.3 to easy-install.pth file\n",
            "\n",
            "Using /usr/local/lib/python3.7/dist-packages\n",
            "Searching for idna==2.10\n",
            "Best match: idna 2.10\n",
            "Adding idna 2.10 to easy-install.pth file\n",
            "\n",
            "Using /usr/local/lib/python3.7/dist-packages\n",
            "Searching for chardet==3.0.4\n",
            "Best match: chardet 3.0.4\n",
            "Adding chardet 3.0.4 to easy-install.pth file\n",
            "Installing chardetect script to /usr/local/bin\n",
            "\n",
            "Using /usr/local/lib/python3.7/dist-packages\n",
            "Searching for pyparsing==2.4.7\n",
            "Best match: pyparsing 2.4.7\n",
            "Adding pyparsing 2.4.7 to easy-install.pth file\n",
            "\n",
            "Using /usr/local/lib/python3.7/dist-packages\n",
            "Finished processing dependencies for transformers==4.4.0.dev0\n"
          ],
          "name": "stdout"
        }
      ]
    },
    {
      "cell_type": "code",
      "metadata": {
        "colab": {
          "base_uri": "https://localhost:8080/"
        },
        "id": "Hv6LzszKQTVN",
        "outputId": "9127db31-fbf0-4692-8a5b-5a0984cc6ba3"
      },
      "source": [
        "!pip install -q streamlit\n",
        "!pip install -q sentencepiece\n",
        "!pip install torch"
      ],
      "execution_count": null,
      "outputs": [
        {
          "output_type": "stream",
          "text": [
            "\u001b[K     |████████████████████████████████| 7.5MB 8.4MB/s \n",
            "\u001b[K     |████████████████████████████████| 81kB 6.2MB/s \n",
            "\u001b[K     |████████████████████████████████| 112kB 55.3MB/s \n",
            "\u001b[K     |████████████████████████████████| 163kB 49.9MB/s \n",
            "\u001b[K     |████████████████████████████████| 4.6MB 44.0MB/s \n",
            "\u001b[K     |████████████████████████████████| 71kB 6.0MB/s \n",
            "\u001b[K     |████████████████████████████████| 122kB 43.3MB/s \n",
            "\u001b[?25h  Building wheel for blinker (setup.py) ... \u001b[?25l\u001b[?25hdone\n",
            "\u001b[31mERROR: google-colab 1.0.0 has requirement ipykernel~=4.10, but you'll have ipykernel 5.5.0 which is incompatible.\u001b[0m\n",
            "\u001b[K     |████████████████████████████████| 1.2MB 8.4MB/s \n",
            "\u001b[?25hRequirement already satisfied: torch in /usr/local/lib/python3.7/dist-packages (1.7.1+cu101)\n",
            "Requirement already satisfied: typing-extensions in /usr/local/lib/python3.7/dist-packages (from torch) (3.7.4.3)\n",
            "Requirement already satisfied: numpy in /usr/local/lib/python3.7/dist-packages (from torch) (1.19.5)\n"
          ],
          "name": "stdout"
        }
      ]
    },
    {
      "cell_type": "code",
      "metadata": {
        "colab": {
          "base_uri": "https://localhost:8080/"
        },
        "id": "vMQK51bGfUSB",
        "outputId": "b83adf2c-b537-4224-e6c2-da67b4432d9f"
      },
      "source": [
        "!wget https://github.com/huggingface/transformers.git"
      ],
      "execution_count": null,
      "outputs": [
        {
          "output_type": "stream",
          "text": [
            "--2021-03-07 07:01:21--  https://github.com/huggingface/transformers.git\n",
            "Resolving github.com (github.com)... 140.82.112.4\n",
            "Connecting to github.com (github.com)|140.82.112.4|:443... connected.\n",
            "HTTP request sent, awaiting response... 301 Moved Permanently\n",
            "Location: https://github.com/huggingface/transformers [following]\n",
            "--2021-03-07 07:01:21--  https://github.com/huggingface/transformers\n",
            "Reusing existing connection to github.com:443.\n",
            "HTTP request sent, awaiting response... 200 OK\n",
            "Length: unspecified [text/html]\n",
            "Saving to: ‘transformers.git’\n",
            "\n",
            "transformers.git        [ <=>                ] 282.99K  --.-KB/s    in 0.05s   \n",
            "\n",
            "2021-03-07 07:01:21 (5.48 MB/s) - ‘transformers.git’ saved [289781]\n",
            "\n"
          ],
          "name": "stdout"
        }
      ]
    },
    {
      "cell_type": "code",
      "metadata": {
        "colab": {
          "base_uri": "https://localhost:8080/"
        },
        "id": "wC-ivb8SfXzr",
        "outputId": "a6a0b160-d905-45ae-d657-d7c3752a7d4d"
      },
      "source": [
        "!git clone https://github.com/huggingface/transformers.git"
      ],
      "execution_count": null,
      "outputs": [
        {
          "output_type": "stream",
          "text": [
            "Cloning into 'transformers'...\n",
            "remote: Enumerating objects: 65719, done.\u001b[K\n",
            "remote: Total 65719 (delta 0), reused 0 (delta 0), pack-reused 65719\u001b[K\n",
            "Receiving objects: 100% (65719/65719), 49.33 MiB | 23.15 MiB/s, done.\n",
            "Resolving deltas: 100% (46630/46630), done.\n"
          ],
          "name": "stdout"
        }
      ]
    },
    {
      "cell_type": "code",
      "metadata": {
        "colab": {
          "base_uri": "https://localhost:8080/"
        },
        "id": "XKSi-PDOfsLM",
        "outputId": "7fb7a6af-447c-4cbf-fcf9-d6ba91743728"
      },
      "source": [
        "cd transformers"
      ],
      "execution_count": null,
      "outputs": [
        {
          "output_type": "stream",
          "text": [
            "/content/transformers\n"
          ],
          "name": "stdout"
        }
      ]
    },
    {
      "cell_type": "code",
      "metadata": {
        "id": "I29QnPPHhoUA"
      },
      "source": [
        "!python setup.py install"
      ],
      "execution_count": null,
      "outputs": []
    },
    {
      "cell_type": "code",
      "metadata": {
        "colab": {
          "base_uri": "https://localhost:8080/"
        },
        "id": "jK8Q7v8Gh4zA",
        "outputId": "6348af31-ebff-4b49-d859-802ae3668b71"
      },
      "source": [
        "cd .."
      ],
      "execution_count": null,
      "outputs": [
        {
          "output_type": "stream",
          "text": [
            "/content\n"
          ],
          "name": "stdout"
        }
      ]
    },
    {
      "cell_type": "code",
      "metadata": {
        "colab": {
          "base_uri": "https://localhost:8080/",
          "height": 538,
          "referenced_widgets": [
            "039e6204c3e5447aaec4c408b10860a3",
            "1fd7cf0d64c74fd6b0601e8408b4d841",
            "41c45f63de37432782e30f1a598d98bc",
            "e9b1b1f549384a378549c3790c995320",
            "ba3f8987d70d47b68ee995ef6e847776",
            "68c9658da69a46ca8e676dfac4cd2ed5",
            "bb59a95f9bbc4a7e8a491004274c5752",
            "92d1de6b54504bdb8c46a2aab742d84f",
            "628102de8307465ea2ad39e509fac110",
            "2894d73db5d84fa1a46d9d55ce3ed57b",
            "f491be9b5b354eb4bd4fe223fac9e98e",
            "8d58423af9df4705805dcf4620d38b0c",
            "1fc0097d380341be82fa4bdc26e7aefd",
            "3a0d4efc507d41d0bae44a69940bc9e2",
            "3d5d64e8e3f24441a4454cccbdd68098",
            "a815740767c24f2697e789482a85a8d8",
            "9ba217fba66d473d840c761e94f81c71",
            "b5ee2234e5b34ca1a39743c7edcc2163",
            "dc5b24b950d74997b34ec28395ced713",
            "b2d0276f0ae54b65ab19d78b311d3de8",
            "8d46d01988594f9ead23f2fd358987fe",
            "943c1f27d2604f2ab111913c13bffb20",
            "8716e8e00dbc428282a5f21735025d24",
            "3868a35fcacc4959b6e35895ef8a3d56"
          ]
        },
        "id": "mfE6zfxHQAO_",
        "outputId": "72ce178a-7fdf-43ba-e264-50fe7b38761d"
      },
      "source": [
        "\n",
        "\n",
        "from transformers import MBartForConditionalGeneration, MBartTokenizer\n",
        "article_hi = \"संयुक्त राष्ट्र के प्रमुख का कहना है कि सीरिया में कोई सैन्य समाधान नहीं है\"\n",
        "article_ar = \"الأمين العام للأمم المتحدة يقول إنه لا يوجد حل عسكري في سوريا.\"\n",
        "\n",
        "model = MBartForConditionalGeneration.from_pretrained(\"facebook/mbart-large-50-many-to-many-mmt\")\n",
        "tokenizer = MBartTokenizer.from_pretrained(\"facebook/mbart-large-50-many-to-many-mmt\")\n",
        "\n",
        "# translate Hindi to French\n",
        "tokenizer.src_lang = \"hi_IN\"\n",
        "encoded_hi = tokenizer(article_hi, return_tensors=\"pt\")\n",
        "generated_tokens = model.generate(**encoded_hi, forced_bos_token_id=tokenizer.lang_code_to_id[\"fr_XX\"])\n",
        "tokenizer.batch_decode(generated_tokens, skip_special_tokens=True)"
      ],
      "execution_count": null,
      "outputs": [
        {
          "output_type": "display_data",
          "data": {
            "application/vnd.jupyter.widget-view+json": {
              "model_id": "039e6204c3e5447aaec4c408b10860a3",
              "version_minor": 0,
              "version_major": 2
            },
            "text/plain": [
              "HBox(children=(FloatProgress(value=0.0, description='Downloading', max=5069051.0, style=ProgressStyle(descript…"
            ]
          },
          "metadata": {
            "tags": []
          }
        },
        {
          "output_type": "stream",
          "text": [
            "\n"
          ],
          "name": "stdout"
        },
        {
          "output_type": "display_data",
          "data": {
            "application/vnd.jupyter.widget-view+json": {
              "model_id": "628102de8307465ea2ad39e509fac110",
              "version_minor": 0,
              "version_major": 2
            },
            "text/plain": [
              "HBox(children=(FloatProgress(value=0.0, description='Downloading', max=649.0, style=ProgressStyle(description_…"
            ]
          },
          "metadata": {
            "tags": []
          }
        },
        {
          "output_type": "stream",
          "text": [
            "\n"
          ],
          "name": "stdout"
        },
        {
          "output_type": "display_data",
          "data": {
            "application/vnd.jupyter.widget-view+json": {
              "model_id": "9ba217fba66d473d840c761e94f81c71",
              "version_minor": 0,
              "version_major": 2
            },
            "text/plain": [
              "HBox(children=(FloatProgress(value=0.0, description='Downloading', max=529.0, style=ProgressStyle(description_…"
            ]
          },
          "metadata": {
            "tags": []
          }
        },
        {
          "output_type": "stream",
          "text": [
            "\n"
          ],
          "name": "stdout"
        },
        {
          "output_type": "error",
          "ename": "KeyError",
          "evalue": "ignored",
          "traceback": [
            "\u001b[0;31m---------------------------------------------------------------------------\u001b[0m",
            "\u001b[0;31mKeyError\u001b[0m                                  Traceback (most recent call last)",
            "\u001b[0;32m<ipython-input-1-8a7c04794981>\u001b[0m in \u001b[0;36m<module>\u001b[0;34m()\u001b[0m\n\u001b[1;32m      6\u001b[0m \u001b[0;34m\u001b[0m\u001b[0m\n\u001b[1;32m      7\u001b[0m \u001b[0mmodel\u001b[0m \u001b[0;34m=\u001b[0m \u001b[0mMBartForConditionalGeneration\u001b[0m\u001b[0;34m.\u001b[0m\u001b[0mfrom_pretrained\u001b[0m\u001b[0;34m(\u001b[0m\u001b[0;34m\"facebook/mbart-large-50-many-to-many-mmt\"\u001b[0m\u001b[0;34m)\u001b[0m\u001b[0;34m\u001b[0m\u001b[0;34m\u001b[0m\u001b[0m\n\u001b[0;32m----> 8\u001b[0;31m \u001b[0mtokenizer\u001b[0m \u001b[0;34m=\u001b[0m \u001b[0mMBartTokenizer\u001b[0m\u001b[0;34m.\u001b[0m\u001b[0mfrom_pretrained\u001b[0m\u001b[0;34m(\u001b[0m\u001b[0;34m\"facebook/mbart-large-50-many-to-many-mmt\"\u001b[0m\u001b[0;34m)\u001b[0m\u001b[0;34m\u001b[0m\u001b[0;34m\u001b[0m\u001b[0m\n\u001b[0m\u001b[1;32m      9\u001b[0m \u001b[0;34m\u001b[0m\u001b[0m\n\u001b[1;32m     10\u001b[0m \u001b[0;31m# translate Hindi to French\u001b[0m\u001b[0;34m\u001b[0m\u001b[0;34m\u001b[0m\u001b[0;34m\u001b[0m\u001b[0m\n",
            "\u001b[0;32m/usr/local/lib/python3.7/dist-packages/transformers/tokenization_utils_base.py\u001b[0m in \u001b[0;36mfrom_pretrained\u001b[0;34m(cls, pretrained_model_name_or_path, *init_inputs, **kwargs)\u001b[0m\n\u001b[1;32m   1787\u001b[0m \u001b[0;34m\u001b[0m\u001b[0m\n\u001b[1;32m   1788\u001b[0m         return cls._from_pretrained(\n\u001b[0;32m-> 1789\u001b[0;31m             \u001b[0mresolved_vocab_files\u001b[0m\u001b[0;34m,\u001b[0m \u001b[0mpretrained_model_name_or_path\u001b[0m\u001b[0;34m,\u001b[0m \u001b[0minit_configuration\u001b[0m\u001b[0;34m,\u001b[0m \u001b[0;34m*\u001b[0m\u001b[0minit_inputs\u001b[0m\u001b[0;34m,\u001b[0m \u001b[0;34m**\u001b[0m\u001b[0mkwargs\u001b[0m\u001b[0;34m\u001b[0m\u001b[0;34m\u001b[0m\u001b[0m\n\u001b[0m\u001b[1;32m   1790\u001b[0m         )\n\u001b[1;32m   1791\u001b[0m \u001b[0;34m\u001b[0m\u001b[0m\n",
            "\u001b[0;32m/usr/local/lib/python3.7/dist-packages/transformers/tokenization_utils_base.py\u001b[0m in \u001b[0;36m_from_pretrained\u001b[0;34m(cls, resolved_vocab_files, pretrained_model_name_or_path, init_configuration, *init_inputs, **kwargs)\u001b[0m\n\u001b[1;32m   1858\u001b[0m         \u001b[0;31m# Instantiate tokenizer.\u001b[0m\u001b[0;34m\u001b[0m\u001b[0;34m\u001b[0m\u001b[0;34m\u001b[0m\u001b[0m\n\u001b[1;32m   1859\u001b[0m         \u001b[0;32mtry\u001b[0m\u001b[0;34m:\u001b[0m\u001b[0;34m\u001b[0m\u001b[0;34m\u001b[0m\u001b[0m\n\u001b[0;32m-> 1860\u001b[0;31m             \u001b[0mtokenizer\u001b[0m \u001b[0;34m=\u001b[0m \u001b[0mcls\u001b[0m\u001b[0;34m(\u001b[0m\u001b[0;34m*\u001b[0m\u001b[0minit_inputs\u001b[0m\u001b[0;34m,\u001b[0m \u001b[0;34m**\u001b[0m\u001b[0minit_kwargs\u001b[0m\u001b[0;34m)\u001b[0m\u001b[0;34m\u001b[0m\u001b[0;34m\u001b[0m\u001b[0m\n\u001b[0m\u001b[1;32m   1861\u001b[0m         \u001b[0;32mexcept\u001b[0m \u001b[0mOSError\u001b[0m\u001b[0;34m:\u001b[0m\u001b[0;34m\u001b[0m\u001b[0;34m\u001b[0m\u001b[0m\n\u001b[1;32m   1862\u001b[0m             raise OSError(\n",
            "\u001b[0;32m/usr/local/lib/python3.7/dist-packages/transformers/models/mbart/tokenization_mbart.py\u001b[0m in \u001b[0;36m__init__\u001b[0;34m(self, tokenizer_file, *args, **kwargs)\u001b[0m\n\u001b[1;32m    107\u001b[0m         \u001b[0mself\u001b[0m\u001b[0;34m.\u001b[0m\u001b[0mfairseq_ids_to_tokens\u001b[0m \u001b[0;34m=\u001b[0m \u001b[0;34m{\u001b[0m\u001b[0mv\u001b[0m\u001b[0;34m:\u001b[0m \u001b[0mk\u001b[0m \u001b[0;32mfor\u001b[0m \u001b[0mk\u001b[0m\u001b[0;34m,\u001b[0m \u001b[0mv\u001b[0m \u001b[0;32min\u001b[0m \u001b[0mself\u001b[0m\u001b[0;34m.\u001b[0m\u001b[0mfairseq_tokens_to_ids\u001b[0m\u001b[0;34m.\u001b[0m\u001b[0mitems\u001b[0m\u001b[0;34m(\u001b[0m\u001b[0;34m)\u001b[0m\u001b[0;34m}\u001b[0m\u001b[0;34m\u001b[0m\u001b[0;34m\u001b[0m\u001b[0m\n\u001b[1;32m    108\u001b[0m         \u001b[0mself\u001b[0m\u001b[0;34m.\u001b[0m\u001b[0m_additional_special_tokens\u001b[0m \u001b[0;34m=\u001b[0m \u001b[0mlist\u001b[0m\u001b[0;34m(\u001b[0m\u001b[0mself\u001b[0m\u001b[0;34m.\u001b[0m\u001b[0mlang_code_to_id\u001b[0m\u001b[0;34m.\u001b[0m\u001b[0mkeys\u001b[0m\u001b[0;34m(\u001b[0m\u001b[0;34m)\u001b[0m\u001b[0;34m)\u001b[0m\u001b[0;34m\u001b[0m\u001b[0;34m\u001b[0m\u001b[0m\n\u001b[0;32m--> 109\u001b[0;31m         \u001b[0mself\u001b[0m\u001b[0;34m.\u001b[0m\u001b[0mset_src_lang_special_tokens\u001b[0m\u001b[0;34m(\u001b[0m\u001b[0mkwargs\u001b[0m\u001b[0;34m.\u001b[0m\u001b[0mget\u001b[0m\u001b[0;34m(\u001b[0m\u001b[0;34m\"src_lang\"\u001b[0m\u001b[0;34m,\u001b[0m \u001b[0;34m\"en_XX\"\u001b[0m\u001b[0;34m)\u001b[0m\u001b[0;34m)\u001b[0m\u001b[0;34m\u001b[0m\u001b[0;34m\u001b[0m\u001b[0m\n\u001b[0m\u001b[1;32m    110\u001b[0m \u001b[0;34m\u001b[0m\u001b[0m\n\u001b[1;32m    111\u001b[0m     \u001b[0;34m@\u001b[0m\u001b[0mproperty\u001b[0m\u001b[0;34m\u001b[0m\u001b[0;34m\u001b[0m\u001b[0m\n",
            "\u001b[0;32m/usr/local/lib/python3.7/dist-packages/transformers/models/mbart/tokenization_mbart.py\u001b[0m in \u001b[0;36mset_src_lang_special_tokens\u001b[0;34m(self, src_lang)\u001b[0m\n\u001b[1;32m    197\u001b[0m     \u001b[0;32mdef\u001b[0m \u001b[0mset_src_lang_special_tokens\u001b[0m\u001b[0;34m(\u001b[0m\u001b[0mself\u001b[0m\u001b[0;34m,\u001b[0m \u001b[0msrc_lang\u001b[0m\u001b[0;34m)\u001b[0m \u001b[0;34m->\u001b[0m \u001b[0;32mNone\u001b[0m\u001b[0;34m:\u001b[0m\u001b[0;34m\u001b[0m\u001b[0;34m\u001b[0m\u001b[0m\n\u001b[1;32m    198\u001b[0m         \u001b[0;34m\"\"\"Reset the special tokens to the source lang setting. No prefix and suffix=[eos, src_lang_code].\"\"\"\u001b[0m\u001b[0;34m\u001b[0m\u001b[0;34m\u001b[0m\u001b[0m\n\u001b[0;32m--> 199\u001b[0;31m         \u001b[0mself\u001b[0m\u001b[0;34m.\u001b[0m\u001b[0mcur_lang_code\u001b[0m \u001b[0;34m=\u001b[0m \u001b[0mself\u001b[0m\u001b[0;34m.\u001b[0m\u001b[0mlang_code_to_id\u001b[0m\u001b[0;34m[\u001b[0m\u001b[0msrc_lang\u001b[0m\u001b[0;34m]\u001b[0m\u001b[0;34m\u001b[0m\u001b[0;34m\u001b[0m\u001b[0m\n\u001b[0m\u001b[1;32m    200\u001b[0m         \u001b[0mself\u001b[0m\u001b[0;34m.\u001b[0m\u001b[0mprefix_tokens\u001b[0m \u001b[0;34m=\u001b[0m \u001b[0;34m[\u001b[0m\u001b[0;34m]\u001b[0m\u001b[0;34m\u001b[0m\u001b[0;34m\u001b[0m\u001b[0m\n\u001b[1;32m    201\u001b[0m         \u001b[0mself\u001b[0m\u001b[0;34m.\u001b[0m\u001b[0msuffix_tokens\u001b[0m \u001b[0;34m=\u001b[0m \u001b[0;34m[\u001b[0m\u001b[0mself\u001b[0m\u001b[0;34m.\u001b[0m\u001b[0meos_token_id\u001b[0m\u001b[0;34m,\u001b[0m \u001b[0mself\u001b[0m\u001b[0;34m.\u001b[0m\u001b[0mcur_lang_code\u001b[0m\u001b[0;34m]\u001b[0m\u001b[0;34m\u001b[0m\u001b[0;34m\u001b[0m\u001b[0m\n",
            "\u001b[0;31mKeyError\u001b[0m: None"
          ]
        }
      ]
    },
    {
      "cell_type": "code",
      "metadata": {
        "colab": {
          "base_uri": "https://localhost:8080/",
          "height": 299
        },
        "id": "7gz3szvbksh6",
        "outputId": "f7a03cb1-961f-43a6-f415-be5d5fafb4e2"
      },
      "source": [
        "from transformers import  MBart50Tokenizer"
      ],
      "execution_count": null,
      "outputs": [
        {
          "output_type": "error",
          "ename": "ImportError",
          "evalue": "ignored",
          "traceback": [
            "\u001b[0;31m---------------------------------------------------------------------------\u001b[0m",
            "\u001b[0;31mImportError\u001b[0m                               Traceback (most recent call last)",
            "\u001b[0;32m<ipython-input-16-09b1c135b7aa>\u001b[0m in \u001b[0;36m<module>\u001b[0;34m()\u001b[0m\n\u001b[0;32m----> 1\u001b[0;31m \u001b[0;32mfrom\u001b[0m \u001b[0mtransformers\u001b[0m \u001b[0;32mimport\u001b[0m  \u001b[0mMBart50Tokenizer\u001b[0m\u001b[0;34m\u001b[0m\u001b[0;34m\u001b[0m\u001b[0m\n\u001b[0m",
            "\u001b[0;31mImportError\u001b[0m: cannot import name 'MBart50Tokenizer' from 'transformers' (unknown location)",
            "",
            "\u001b[0;31m---------------------------------------------------------------------------\u001b[0;32m\nNOTE: If your import is failing due to a missing package, you can\nmanually install dependencies using either !pip or !apt.\n\nTo view examples of installing some common dependencies, click the\n\"Open Examples\" button below.\n\u001b[0;31m---------------------------------------------------------------------------\u001b[0m\n"
          ]
        }
      ]
    },
    {
      "cell_type": "code",
      "metadata": {
        "id": "t3ekyNiQRQF6"
      },
      "source": [
        "!pip freeze"
      ],
      "execution_count": null,
      "outputs": []
    },
    {
      "cell_type": "code",
      "metadata": {
        "id": "v7bNd0CCRR0W"
      },
      "source": [
        "from transformers import T5Model, T5Tokenizer"
      ],
      "execution_count": null,
      "outputs": []
    },
    {
      "cell_type": "code",
      "metadata": {
        "id": "0whjxbVDj3oj"
      },
      "source": [
        "from transformers import MBartForConditionalGeneration, MBartTokenizer\n",
        "\n",
        "def download_model():\n",
        "    model_name = \"facebook/mbart-large-50-many-to-many-mmt\"\n",
        "    model = MBartForConditionalGeneration.from_pretrained(model_name)\n",
        "    tokenizer = MBart50Tokenizer.from_pretrained(model_name)\n",
        "    return model, tokenizer\n"
      ],
      "execution_count": null,
      "outputs": []
    },
    {
      "cell_type": "code",
      "metadata": {
        "id": "40XvxKfRmeVG"
      },
      "source": [
        "m,t=download_model"
      ],
      "execution_count": null,
      "outputs": []
    }
  ]
}