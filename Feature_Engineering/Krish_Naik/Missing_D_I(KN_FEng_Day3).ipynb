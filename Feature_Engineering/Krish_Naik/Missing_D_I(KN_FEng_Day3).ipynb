{
  "nbformat": 4,
  "nbformat_minor": 0,
  "metadata": {
    "colab": {
      "name": "Missing_D_I(KN-FEng-Day3).ipynb",
      "provenance": []
    },
    "kernelspec": {
      "name": "python3",
      "display_name": "Python 3"
    },
    "language_info": {
      "name": "python"
    }
  },
  "cells": [
    {
      "cell_type": "code",
      "metadata": {
        "id": "4u3AWoxex8cn"
      },
      "source": [
        "import seaborn as sns\n",
        "import pandas as pd\n",
        "import numpy as np"
      ],
      "execution_count": null,
      "outputs": []
    },
    {
      "cell_type": "code",
      "metadata": {
        "id": "742gpCKqyMKR"
      },
      "source": [
        "df=sns.load_dataset('titanic')\n",
        "df=df[['age','fare','survived']]"
      ],
      "execution_count": null,
      "outputs": []
    },
    {
      "cell_type": "markdown",
      "metadata": {
        "id": "YgGQLYqjyjrF"
      },
      "source": [
        "## Arbitrary value Imputation\n",
        "\n",
        "##### Replace nan values with a arbitrary value\n",
        "\n",
        "##### Helps find the value importance and occurance of missing value "
      ]
    },
    {
      "cell_type": "markdown",
      "metadata": {
        "id": "BOmOtwC71RKC"
      },
      "source": [
        "### Properties\n",
        "\n",
        "##### It should not be present more frequently\n",
        "\n"
      ]
    },
    {
      "cell_type": "code",
      "metadata": {
        "id": "Ujgs9OmRygzp"
      },
      "source": [
        "def impute_nan(df,variable,median,value):\n",
        "  df[variable+\"_arbitrary\"]=df[variable].fillna(value)\n",
        "  df[variable].fillna(median,inplace=True)"
      ],
      "execution_count": null,
      "outputs": []
    },
    {
      "cell_type": "code",
      "metadata": {
        "id": "dtk5nAdR1wi-"
      },
      "source": [
        "impute_nan(df,'age',df.age.median(),100)"
      ],
      "execution_count": null,
      "outputs": []
    },
    {
      "cell_type": "markdown",
      "metadata": {
        "id": "T53tsWGu2KTo"
      },
      "source": [
        "### Advantages\n",
        "\n",
        "##### Captures importance of missing value and when it is occuring\n",
        "\n",
        "### Disadvantages\n",
        "\n",
        "##### Distorts the original Distribution\n",
        "##### If missingness is not important then it may mask the predictive power of the original variable by distorting its distribution.\n",
        "##### Hard to decide which value to use\n"
      ]
    },
    {
      "cell_type": "code",
      "metadata": {
        "id": "oUqWRlqsXJNi"
      },
      "source": [
        ""
      ],
      "execution_count": null,
      "outputs": []
    },
    {
      "cell_type": "markdown",
      "metadata": {
        "id": "8HECufNaYUFk"
      },
      "source": [
        "# Categorical Missing Variable"
      ]
    },
    {
      "cell_type": "markdown",
      "metadata": {
        "id": "t3gB6WxoYdci"
      },
      "source": [
        "## Frequent Category Imputation"
      ]
    },
    {
      "cell_type": "code",
      "metadata": {
        "id": "bxplr0cXYcI-"
      },
      "source": [
        "df=pd.read_csv('/content/house_price_train.csv',usecols=['BsmtQual','FireplaceQu','GarageType','SalePrice'])"
      ],
      "execution_count": null,
      "outputs": []
    },
    {
      "cell_type": "code",
      "metadata": {
        "id": "OQajQxA6btUL"
      },
      "source": [
        ""
      ],
      "execution_count": null,
      "outputs": []
    },
    {
      "cell_type": "code",
      "metadata": {
        "colab": {
          "base_uri": "https://localhost:8080/"
        },
        "id": "g3y91HbpZJHg",
        "outputId": "ac220e43-8b61-4bee-9401-30acf35b0343"
      },
      "source": [
        "df.isnull().sum().sort_values(ascending=True)"
      ],
      "execution_count": null,
      "outputs": [
        {
          "output_type": "execute_result",
          "data": {
            "text/plain": [
              "SalePrice        0\n",
              "BsmtQual        37\n",
              "GarageType      81\n",
              "FireplaceQu    690\n",
              "dtype: int64"
            ]
          },
          "metadata": {
            "tags": []
          },
          "execution_count": 23
        }
      ]
    },
    {
      "cell_type": "code",
      "metadata": {
        "colab": {
          "base_uri": "https://localhost:8080/",
          "height": 286
        },
        "id": "g1LxHrX9aE3M",
        "outputId": "a3c046b3-9d49-4ce4-d699-7853a380b875"
      },
      "source": [
        "df['BsmtQual'].value_counts().plot.bar()"
      ],
      "execution_count": null,
      "outputs": [
        {
          "output_type": "execute_result",
          "data": {
            "text/plain": [
              "<matplotlib.axes._subplots.AxesSubplot at 0x7f9996b75710>"
            ]
          },
          "metadata": {
            "tags": []
          },
          "execution_count": 29
        },
        {
          "output_type": "display_data",
          "data": {
            "image/png": "[encoded data removed]",
            "text/plain": [
              "<Figure size 432x288 with 1 Axes>"
            ]
          },
          "metadata": {
            "tags": [],
            "needs_background": "light"
          }
        }
      ]
    },
    {
      "cell_type": "code",
      "metadata": {
        "colab": {
          "base_uri": "https://localhost:8080/",
          "height": 317
        },
        "id": "FuT0Z1ROa-ET",
        "outputId": "4a36e09b-d8ae-457a-e663-f31659b86f0f"
      },
      "source": [
        "df['GarageType'].value_counts().plot.bar()"
      ],
      "execution_count": null,
      "outputs": [
        {
          "output_type": "execute_result",
          "data": {
            "text/plain": [
              "<matplotlib.axes._subplots.AxesSubplot at 0x7f99965fdb50>"
            ]
          },
          "metadata": {
            "tags": []
          },
          "execution_count": 30
        },
        {
          "output_type": "display_data",
          "data": {
            "image/png": "[encoded data removed]",
            "text/plain": [
              "<Figure size 432x288 with 1 Axes>"
            ]
          },
          "metadata": {
            "tags": [],
            "needs_background": "light"
          }
        }
      ]
    },
    {
      "cell_type": "code",
      "metadata": {
        "colab": {
          "base_uri": "https://localhost:8080/",
          "height": 35
        },
        "id": "iBapPsLNcZtU",
        "outputId": "615ecce9-b1e8-4b9a-c940-0d0841234114"
      },
      "source": [
        "df['GarageType'].value_counts().index[0]"
      ],
      "execution_count": null,
      "outputs": [
        {
          "output_type": "execute_result",
          "data": {
            "application/vnd.google.colaboratory.intrinsic+json": {
              "type": "string"
            },
            "text/plain": [
              "'Attchd'"
            ]
          },
          "metadata": {
            "tags": []
          },
          "execution_count": 36
        }
      ]
    },
    {
      "cell_type": "code",
      "metadata": {
        "id": "1BcEx4QabygT"
      },
      "source": [
        "## Replace Function\n",
        "def impute_nan(df,variable):\n",
        "  most_fre=df[variable].value_counts().index[0]\n",
        "  df['variable'].fillna(most_fre,inplace=True)\n"
      ],
      "execution_count": null,
      "outputs": []
    },
    {
      "cell_type": "code",
      "metadata": {
        "id": "srpJAg3wkPSI"
      },
      "source": [
        ""
      ],
      "execution_count": null,
      "outputs": []
    },
    {
      "cell_type": "markdown",
      "metadata": {
        "id": "NARnIfe5lTpe"
      },
      "source": [
        "### Disadvantages\n",
        "\n",
        "##### Since we are using the more frequent labels, it may use them in a over represented way\n",
        "\n",
        "##### It distorts the relationship of the most frequent label\n"
      ]
    },
    {
      "cell_type": "code",
      "metadata": {
        "id": "3TYWFmzUl6d7"
      },
      "source": [
        ""
      ],
      "execution_count": null,
      "outputs": []
    },
    {
      "cell_type": "markdown",
      "metadata": {
        "id": "nIQPr6DmmLxR"
      },
      "source": [
        "# Adding a Feature to capture the NaN and imputing with most Frequent\n",
        "\n",
        "(Good for NOT MCAR)"
      ]
    },
    {
      "cell_type": "code",
      "metadata": {
        "id": "eqvQPGpxmbGW"
      },
      "source": [
        ""
      ],
      "execution_count": null,
      "outputs": []
    },
    {
      "cell_type": "markdown",
      "metadata": {
        "id": "ltUoKxwBnA0J"
      },
      "source": [
        "# Creating NAN to a separate category"
      ]
    },
    {
      "cell_type": "code",
      "metadata": {
        "id": "8wAx2U0onGKX"
      },
      "source": [
        "def impute_nan(df,variable):\n",
        "  df[variable+'_newvar']=np.where(df[variable].isnull(),'Missing',df[variable])"
      ],
      "execution_count": null,
      "outputs": []
    },
    {
      "cell_type": "code",
      "metadata": {
        "id": "6uWsd7ptnjA1"
      },
      "source": [
        "for features in ['Bst'...]:\n",
        "  impute_nan(df,features)\n"
      ],
      "execution_count": null,
      "outputs": []
    },
    {
      "cell_type": "code",
      "metadata": {
        "id": "JyEikPJNn6Ak"
      },
      "source": [
        ""
      ],
      "execution_count": null,
      "outputs": []
    }
  ]
}