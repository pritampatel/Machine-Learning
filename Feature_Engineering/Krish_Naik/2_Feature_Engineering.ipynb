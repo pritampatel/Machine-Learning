{
  "nbformat": 4,
  "nbformat_minor": 0,
  "metadata": {
    "colab": {
      "name": "2.Feature_Engineering.ipynb",
      "provenance": []
    },
    "kernelspec": {
      "name": "python3",
      "display_name": "Python 3"
    },
    "language_info": {
      "name": "python"
    }
  },
  "cells": [
    {
      "cell_type": "code",
      "metadata": {
        "id": "1hYK9HKd2EJN"
      },
      "source": [
        ""
      ],
      "execution_count": null,
      "outputs": []
    },
    {
      "cell_type": "markdown",
      "metadata": {
        "id": "iX2nUyyG3PaB"
      },
      "source": [
        "# Types of Scaling or Transformation\n",
        "```\n",
        "Normalizatio and \n",
        "1.Standard Scaler\n",
        "```\n",
        "```\n",
        "MinMax\n",
        "```\n",
        "```\n",
        "Logarithmic\n",
        "```\n",
        "``` \n",
        "Reciprocal\n",
        "```\n",
        "```\n",
        "Square Root\n",
        "```\n",
        "```\n",
        "Exponential\n",
        "```\n",
        "```\n",
        "Box Cox\n",
        "```"
      ]
    },
    {
      "cell_type": "code",
      "metadata": {
        "id": "t6aeoJcI4AGZ"
      },
      "source": [
        ""
      ],
      "execution_count": null,
      "outputs": []
    },
    {
      "cell_type": "markdown",
      "metadata": {
        "id": "NjeKZtMf4OVP"
      },
      "source": [
        "### 1. Standardization\n",
        "\n",
        "##### Centering the variable to zero.\n",
        "##### try to make mean=0"
      ]
    },
    {
      "cell_type": "code",
      "metadata": {
        "id": "XANEIubA4jDB"
      },
      "source": [
        "import pandas as pd\n",
        "import numpy as np\n",
        "import seaborn as sns\n",
        "import matplotlib.pyplot as plt"
      ],
      "execution_count": null,
      "outputs": []
    },
    {
      "cell_type": "code",
      "metadata": {
        "colab": {
          "base_uri": "https://localhost:8080/",
          "height": 204
        },
        "id": "gkRGUss44dpm",
        "outputId": "bce5012b-57eb-4de8-bb13-f83331bfcc46"
      },
      "source": [
        "df=sns.load_dataset('titanic')\n",
        "df=df[['survived','pclass','age','fare']]\n",
        "df.head()\n"
      ],
      "execution_count": null,
      "outputs": [
        {
          "output_type": "execute_result",
          "data": {
            "text/html": [
              "<div>\n",
              "<style scoped>\n",
              "    .dataframe tbody tr th:only-of-type {\n",
              "        vertical-align: middle;\n",
              "    }\n",
              "\n",
              "    .dataframe tbody tr th {\n",
              "        vertical-align: top;\n",
              "    }\n",
              "\n",
              "    .dataframe thead th {\n",
              "        text-align: right;\n",
              "    }\n",
              "</style>\n",
              "<table border=\"1\" class=\"dataframe\">\n",
              "  <thead>\n",
              "    <tr style=\"text-align: right;\">\n",
              "      <th></th>\n",
              "      <th>survived</th>\n",
              "      <th>pclass</th>\n",
              "      <th>age</th>\n",
              "      <th>fare</th>\n",
              "    </tr>\n",
              "  </thead>\n",
              "  <tbody>\n",
              "    <tr>\n",
              "      <th>0</th>\n",
              "      <td>0</td>\n",
              "      <td>3</td>\n",
              "      <td>22.0</td>\n",
              "      <td>7.2500</td>\n",
              "    </tr>\n",
              "    <tr>\n",
              "      <th>1</th>\n",
              "      <td>1</td>\n",
              "      <td>1</td>\n",
              "      <td>38.0</td>\n",
              "      <td>71.2833</td>\n",
              "    </tr>\n",
              "    <tr>\n",
              "      <th>2</th>\n",
              "      <td>1</td>\n",
              "      <td>3</td>\n",
              "      <td>26.0</td>\n",
              "      <td>7.9250</td>\n",
              "    </tr>\n",
              "    <tr>\n",
              "      <th>3</th>\n",
              "      <td>1</td>\n",
              "      <td>1</td>\n",
              "      <td>35.0</td>\n",
              "      <td>53.1000</td>\n",
              "    </tr>\n",
              "    <tr>\n",
              "      <th>4</th>\n",
              "      <td>0</td>\n",
              "      <td>3</td>\n",
              "      <td>35.0</td>\n",
              "      <td>8.0500</td>\n",
              "    </tr>\n",
              "  </tbody>\n",
              "</table>\n",
              "</div>"
            ],
            "text/plain": [
              "   survived  pclass   age     fare\n",
              "0         0       3  22.0   7.2500\n",
              "1         1       1  38.0  71.2833\n",
              "2         1       3  26.0   7.9250\n",
              "3         1       1  35.0  53.1000\n",
              "4         0       3  35.0   8.0500"
            ]
          },
          "metadata": {
            "tags": []
          },
          "execution_count": 5
        }
      ]
    },
    {
      "cell_type": "code",
      "metadata": {
        "colab": {
          "base_uri": "https://localhost:8080/"
        },
        "id": "9k0-lXdm4v-Y",
        "outputId": "1faed926-72be-4322-fd35-ad4588e0f186"
      },
      "source": [
        "df['age'].fillna(df.age.median(), inplace=True)\n",
        "df.age.isnull().sum()"
      ],
      "execution_count": null,
      "outputs": [
        {
          "output_type": "execute_result",
          "data": {
            "text/plain": [
              "0"
            ]
          },
          "metadata": {
            "tags": []
          },
          "execution_count": 7
        }
      ]
    },
    {
      "cell_type": "markdown",
      "metadata": {
        "id": "QFgSJwsp5QLr"
      },
      "source": [
        "### 1. Standard Scaler"
      ]
    },
    {
      "cell_type": "code",
      "metadata": {
        "id": "tKNENbp_4-XI"
      },
      "source": [
        "from sklearn.preprocessing import StandardScaler"
      ],
      "execution_count": null,
      "outputs": []
    },
    {
      "cell_type": "code",
      "metadata": {
        "id": "0B1d-H8v5dIg"
      },
      "source": [
        "scaler= StandardScaler()\n",
        "df_scaled=scaler.fit_transform(df)"
      ],
      "execution_count": null,
      "outputs": []
    },
    {
      "cell_type": "code",
      "metadata": {
        "colab": {
          "base_uri": "https://localhost:8080/",
          "height": 419
        },
        "id": "-ld1bBBY53nw",
        "outputId": "3bc74340-e900-40b4-d5f0-354247f3f42f"
      },
      "source": [
        "scaled_df=pd.DataFrame(df_scaled)\n",
        "scaled_df"
      ],
      "execution_count": null,
      "outputs": [
        {
          "output_type": "execute_result",
          "data": {
            "text/html": [
              "<div>\n",
              "<style scoped>\n",
              "    .dataframe tbody tr th:only-of-type {\n",
              "        vertical-align: middle;\n",
              "    }\n",
              "\n",
              "    .dataframe tbody tr th {\n",
              "        vertical-align: top;\n",
              "    }\n",
              "\n",
              "    .dataframe thead th {\n",
              "        text-align: right;\n",
              "    }\n",
              "</style>\n",
              "<table border=\"1\" class=\"dataframe\">\n",
              "  <thead>\n",
              "    <tr style=\"text-align: right;\">\n",
              "      <th></th>\n",
              "      <th>0</th>\n",
              "      <th>1</th>\n",
              "      <th>2</th>\n",
              "      <th>3</th>\n",
              "    </tr>\n",
              "  </thead>\n",
              "  <tbody>\n",
              "    <tr>\n",
              "      <th>0</th>\n",
              "      <td>-0.789272</td>\n",
              "      <td>0.827377</td>\n",
              "      <td>-0.530377</td>\n",
              "      <td>-0.502445</td>\n",
              "    </tr>\n",
              "    <tr>\n",
              "      <th>1</th>\n",
              "      <td>1.266990</td>\n",
              "      <td>-1.566107</td>\n",
              "      <td>0.571831</td>\n",
              "      <td>0.786845</td>\n",
              "    </tr>\n",
              "    <tr>\n",
              "      <th>2</th>\n",
              "      <td>1.266990</td>\n",
              "      <td>0.827377</td>\n",
              "      <td>-0.254825</td>\n",
              "      <td>-0.488854</td>\n",
              "    </tr>\n",
              "    <tr>\n",
              "      <th>3</th>\n",
              "      <td>1.266990</td>\n",
              "      <td>-1.566107</td>\n",
              "      <td>0.365167</td>\n",
              "      <td>0.420730</td>\n",
              "    </tr>\n",
              "    <tr>\n",
              "      <th>4</th>\n",
              "      <td>-0.789272</td>\n",
              "      <td>0.827377</td>\n",
              "      <td>0.365167</td>\n",
              "      <td>-0.486337</td>\n",
              "    </tr>\n",
              "    <tr>\n",
              "      <th>...</th>\n",
              "      <td>...</td>\n",
              "      <td>...</td>\n",
              "      <td>...</td>\n",
              "      <td>...</td>\n",
              "    </tr>\n",
              "    <tr>\n",
              "      <th>886</th>\n",
              "      <td>-0.789272</td>\n",
              "      <td>-0.369365</td>\n",
              "      <td>-0.185937</td>\n",
              "      <td>-0.386671</td>\n",
              "    </tr>\n",
              "    <tr>\n",
              "      <th>887</th>\n",
              "      <td>1.266990</td>\n",
              "      <td>-1.566107</td>\n",
              "      <td>-0.737041</td>\n",
              "      <td>-0.044381</td>\n",
              "    </tr>\n",
              "    <tr>\n",
              "      <th>888</th>\n",
              "      <td>-0.789272</td>\n",
              "      <td>0.827377</td>\n",
              "      <td>NaN</td>\n",
              "      <td>-0.176263</td>\n",
              "    </tr>\n",
              "    <tr>\n",
              "      <th>889</th>\n",
              "      <td>1.266990</td>\n",
              "      <td>-1.566107</td>\n",
              "      <td>-0.254825</td>\n",
              "      <td>-0.044381</td>\n",
              "    </tr>\n",
              "    <tr>\n",
              "      <th>890</th>\n",
              "      <td>-0.789272</td>\n",
              "      <td>0.827377</td>\n",
              "      <td>0.158503</td>\n",
              "      <td>-0.492378</td>\n",
              "    </tr>\n",
              "  </tbody>\n",
              "</table>\n",
              "<p>891 rows × 4 columns</p>\n",
              "</div>"
            ],
            "text/plain": [
              "            0         1         2         3\n",
              "0   -0.789272  0.827377 -0.530377 -0.502445\n",
              "1    1.266990 -1.566107  0.571831  0.786845\n",
              "2    1.266990  0.827377 -0.254825 -0.488854\n",
              "3    1.266990 -1.566107  0.365167  0.420730\n",
              "4   -0.789272  0.827377  0.365167 -0.486337\n",
              "..        ...       ...       ...       ...\n",
              "886 -0.789272 -0.369365 -0.185937 -0.386671\n",
              "887  1.266990 -1.566107 -0.737041 -0.044381\n",
              "888 -0.789272  0.827377       NaN -0.176263\n",
              "889  1.266990 -1.566107 -0.254825 -0.044381\n",
              "890 -0.789272  0.827377  0.158503 -0.492378\n",
              "\n",
              "[891 rows x 4 columns]"
            ]
          },
          "metadata": {
            "tags": []
          },
          "execution_count": 11
        }
      ]
    },
    {
      "cell_type": "code",
      "metadata": {
        "id": "wp8MTQGE553H",
        "colab": {
          "base_uri": "https://localhost:8080/",
          "height": 401
        },
        "outputId": "b2b6e122-c81d-4f66-87fd-de8aa739c2a3"
      },
      "source": [
        "plt.hist(scaled_df.iloc[:,1],bins=20)"
      ],
      "execution_count": null,
      "outputs": [
        {
          "output_type": "execute_result",
          "data": {
            "text/plain": [
              "(array([216.,   0.,   0.,   0.,   0.,   0.,   0.,   0.,   0.,   0., 184.,\n",
              "          0.,   0.,   0.,   0.,   0.,   0.,   0.,   0., 491.]),\n",
              " array([-1.56610693, -1.44643272, -1.32675851, -1.2070843 , -1.08741009,\n",
              "        -0.96773588, -0.84806167, -0.72838747, -0.60871326, -0.48903905,\n",
              "        -0.36936484, -0.24969063, -0.13001642, -0.01034222,  0.10933199,\n",
              "         0.2290062 ,  0.34868041,  0.46835462,  0.58802883,  0.70770304,\n",
              "         0.82737724]),\n",
              " <a list of 20 Patch objects>)"
            ]
          },
          "metadata": {
            "tags": []
          },
          "execution_count": 13
        },
        {
          "output_type": "display_data",
          "data": {
            "image/png": "[encoded data removed]",
            "text/plain": [
              "<Figure size 432x288 with 1 Axes>"
            ]
          },
          "metadata": {
            "tags": [],
            "needs_background": "light"
          }
        }
      ]
    },
    {
      "cell_type": "code",
      "metadata": {
        "id": "Gcix01gZc5xN"
      },
      "source": [
        ""
      ],
      "execution_count": null,
      "outputs": []
    },
    {
      "cell_type": "markdown",
      "metadata": {
        "id": "TiH5PfcYeYOc"
      },
      "source": [
        "## Min Max Scaler"
      ]
    },
    {
      "cell_type": "markdown",
      "metadata": {
        "id": "bYxSfXOjebh9"
      },
      "source": [
        "## Robust Scaler"
      ]
    },
    {
      "cell_type": "markdown",
      "metadata": {
        "id": "CsxmlGMMe1_7"
      },
      "source": [
        "##### Robust Scaler\n",
        "It is used to scale the feature to median and quantiles\n",
        "Scaling using median and quantiles consists of substracting the median to all the observations, and then dividing by the interquantile difference. The interquantile difference is the difference between the 75th and 25th quantile:\n",
        "\n",
        "IQR = 75th quantile - 25th quantile\n",
        "\n",
        "X_scaled = (X - X.median) / IQR"
      ]
    },
    {
      "cell_type": "code",
      "metadata": {
        "id": "bMevyQy5exU7"
      },
      "source": [
        "from sklearn.preprocessing import RobustScaler\n",
        "scaler=RobustScaler()\n",
        "df_robust_scaler=pd.DataFrame(scaler.fit_transform(df),columns=df.columns)\n",
        "df_robust_scaler.head()"
      ],
      "execution_count": null,
      "outputs": []
    },
    {
      "cell_type": "markdown",
      "metadata": {
        "id": "PubeQOnxfXSH"
      },
      "source": [
        "## Gaussian Transformation\n",
        "\n",
        "#####  It is used to convert the data to be normally distributed"
      ]
    },
    {
      "cell_type": "code",
      "metadata": {
        "colab": {
          "base_uri": "https://localhost:8080/",
          "height": 204
        },
        "id": "sZ7U_mhrfbxg",
        "outputId": "6c341152-ebac-4455-8f47-f87dc6bdd0f6"
      },
      "source": [
        "df=sns.load_dataset('titanic')\n",
        "df=df[['survived','age','fare']]\n",
        "df.head()\n"
      ],
      "execution_count": null,
      "outputs": [
        {
          "output_type": "execute_result",
          "data": {
            "text/html": [
              "<div>\n",
              "<style scoped>\n",
              "    .dataframe tbody tr th:only-of-type {\n",
              "        vertical-align: middle;\n",
              "    }\n",
              "\n",
              "    .dataframe tbody tr th {\n",
              "        vertical-align: top;\n",
              "    }\n",
              "\n",
              "    .dataframe thead th {\n",
              "        text-align: right;\n",
              "    }\n",
              "</style>\n",
              "<table border=\"1\" class=\"dataframe\">\n",
              "  <thead>\n",
              "    <tr style=\"text-align: right;\">\n",
              "      <th></th>\n",
              "      <th>survived</th>\n",
              "      <th>age</th>\n",
              "      <th>fare</th>\n",
              "    </tr>\n",
              "  </thead>\n",
              "  <tbody>\n",
              "    <tr>\n",
              "      <th>0</th>\n",
              "      <td>0</td>\n",
              "      <td>22.0</td>\n",
              "      <td>7.2500</td>\n",
              "    </tr>\n",
              "    <tr>\n",
              "      <th>1</th>\n",
              "      <td>1</td>\n",
              "      <td>38.0</td>\n",
              "      <td>71.2833</td>\n",
              "    </tr>\n",
              "    <tr>\n",
              "      <th>2</th>\n",
              "      <td>1</td>\n",
              "      <td>26.0</td>\n",
              "      <td>7.9250</td>\n",
              "    </tr>\n",
              "    <tr>\n",
              "      <th>3</th>\n",
              "      <td>1</td>\n",
              "      <td>35.0</td>\n",
              "      <td>53.1000</td>\n",
              "    </tr>\n",
              "    <tr>\n",
              "      <th>4</th>\n",
              "      <td>0</td>\n",
              "      <td>35.0</td>\n",
              "      <td>8.0500</td>\n",
              "    </tr>\n",
              "  </tbody>\n",
              "</table>\n",
              "</div>"
            ],
            "text/plain": [
              "   survived   age     fare\n",
              "0         0  22.0   7.2500\n",
              "1         1  38.0  71.2833\n",
              "2         1  26.0   7.9250\n",
              "3         1  35.0  53.1000\n",
              "4         0  35.0   8.0500"
            ]
          },
          "metadata": {
            "tags": []
          },
          "execution_count": 21
        }
      ]
    },
    {
      "cell_type": "code",
      "metadata": {
        "colab": {
          "base_uri": "https://localhost:8080/"
        },
        "id": "EB_MEekLgQsV",
        "outputId": "1eb1104e-8f70-46f6-c40f-ccd29d2de74a"
      },
      "source": [
        "df.age=df.age.fillna(df.age.median())\n",
        "df.isnull().sum()"
      ],
      "execution_count": null,
      "outputs": [
        {
          "output_type": "execute_result",
          "data": {
            "text/plain": [
              "survived    0\n",
              "age         0\n",
              "fare        0\n",
              "dtype: int64"
            ]
          },
          "metadata": {
            "tags": []
          },
          "execution_count": 18
        }
      ]
    },
    {
      "cell_type": "code",
      "metadata": {
        "id": "hTf07HvVgXZ1"
      },
      "source": [
        "# If you want to check whether feature is gaussian distributed and\n",
        "# or normally distributed then we use Q-Q plot"
      ],
      "execution_count": null,
      "outputs": []
    },
    {
      "cell_type": "code",
      "metadata": {
        "id": "M5rW_ViRhdtl"
      },
      "source": [
        "import  scipy.stats as stat\n",
        "import pylab"
      ],
      "execution_count": null,
      "outputs": []
    },
    {
      "cell_type": "code",
      "metadata": {
        "id": "hkrgdPEKgsEq"
      },
      "source": [
        "def plot_data(df,feature):\n",
        "  plt.figure(figsize=(18,8))\n",
        "  plt.subplot(1,2,1)\n",
        "  df[feature].hist()\n",
        "  plt.subplot(122)\n",
        "  stat.probplot(df[feature],dist='norm',plot=pylab)\n",
        "  plt.show()\n"
      ],
      "execution_count": null,
      "outputs": []
    },
    {
      "cell_type": "code",
      "metadata": {
        "colab": {
          "base_uri": "https://localhost:8080/",
          "height": 404
        },
        "id": "ITeSB_eXiLKB",
        "outputId": "f090a6e2-79ea-4a2e-d9f8-887484c62504"
      },
      "source": [
        "plot_data(df,'age')"
      ],
      "execution_count": null,
      "outputs": [
        {
          "output_type": "display_data",
          "data": {
            "image/png": "[encoded data removed]",
            "text/plain": [
              "<Figure size 720x432 with 2 Axes>"
            ]
          },
          "metadata": {
            "tags": [],
            "needs_background": "light"
          }
        }
      ]
    },
    {
      "cell_type": "markdown",
      "metadata": {
        "id": "I4ODob7DisyM"
      },
      "source": [
        "### Logarithmic Transformation"
      ]
    },
    {
      "cell_type": "code",
      "metadata": {
        "colab": {
          "base_uri": "https://localhost:8080/",
          "height": 315
        },
        "id": "siulLOjJiPPc",
        "outputId": "60f5e0b3-5c2b-499a-bf98-8c54b6b98989"
      },
      "source": [
        "import numpy as np\n",
        "df['Age_log']=np.log(df['age'])\n",
        "plot_data(df,'Age_log')"
      ],
      "execution_count": null,
      "outputs": [
        {
          "output_type": "display_data",
          "data": {
            "image/png": "[encoded data removed]",
            "text/plain": [
              "<Figure size 1296x576 with 2 Axes>"
            ]
          },
          "metadata": {
            "tags": [],
            "needs_background": "light"
          }
        }
      ]
    },
    {
      "cell_type": "markdown",
      "metadata": {
        "id": "0O2unQfsi63W"
      },
      "source": [
        "###### This is not a good Transformation because it is not following a normal distribution patter"
      ]
    },
    {
      "cell_type": "markdown",
      "metadata": {
        "id": "na2PKOmfjq2c"
      },
      "source": [
        "### Reciprocal Transformation"
      ]
    },
    {
      "cell_type": "code",
      "metadata": {
        "colab": {
          "base_uri": "https://localhost:8080/",
          "height": 315
        },
        "id": "zfHSSEari2dM",
        "outputId": "2f83b3c3-ff27-461e-d394-35a527c1c249"
      },
      "source": [
        "df['age_reciprocal']=1/df.age\n",
        "plot_data(df,'age_reciprocal')"
      ],
      "execution_count": null,
      "outputs": [
        {
          "output_type": "display_data",
          "data": {
            "image/png": "[encoded data removed]",
            "text/plain": [
              "<Figure size 1296x576 with 2 Axes>"
            ]
          },
          "metadata": {
            "tags": [],
            "needs_background": "light"
          }
        }
      ]
    },
    {
      "cell_type": "markdown",
      "metadata": {
        "id": "LnBJW_86j8CY"
      },
      "source": [
        "### Square Root Transformation"
      ]
    },
    {
      "cell_type": "code",
      "metadata": {
        "colab": {
          "base_uri": "https://localhost:8080/",
          "height": 315
        },
        "id": "yaMNGicmj3EZ",
        "outputId": "5cb5390d-34b0-41a2-8e12-389f972db0ac"
      },
      "source": [
        "df['age_sqrt']=df.age**(1/2)\n",
        "plot_data(df,'age_sqrt')"
      ],
      "execution_count": null,
      "outputs": [
        {
          "output_type": "display_data",
          "data": {
            "image/png": "[encoded data removed]",
            "text/plain": [
              "<Figure size 1296x576 with 2 Axes>"
            ]
          },
          "metadata": {
            "tags": [],
            "needs_background": "light"
          }
        }
      ]
    },
    {
      "cell_type": "code",
      "metadata": {
        "id": "zqVwPfhCkLOU"
      },
      "source": [
        ""
      ],
      "execution_count": null,
      "outputs": []
    },
    {
      "cell_type": "markdown",
      "metadata": {
        "id": "hcT-R1MHkk1u"
      },
      "source": [
        "### Exponential Tranformation"
      ]
    },
    {
      "cell_type": "code",
      "metadata": {
        "colab": {
          "base_uri": "https://localhost:8080/",
          "height": 404
        },
        "id": "wVru9pP5knnV",
        "outputId": "5becc77a-a37e-4de3-b14a-7cb4a552e022"
      },
      "source": [
        "df['age_exponential']=df['age']**(1/1.2)\n",
        "plot_data(df,'age_exponential')"
      ],
      "execution_count": null,
      "outputs": [
        {
          "output_type": "display_data",
          "data": {
            "image/png": "[encoded data removed]",
            "text/plain": [
              "<Figure size 720x432 with 2 Axes>"
            ]
          },
          "metadata": {
            "tags": [],
            "needs_background": "light"
          }
        }
      ]
    },
    {
      "cell_type": "code",
      "metadata": {
        "id": "dYMlp-sBlE8p"
      },
      "source": [
        ""
      ],
      "execution_count": null,
      "outputs": []
    },
    {
      "cell_type": "markdown",
      "metadata": {
        "id": "alAR19QflLFZ"
      },
      "source": [
        "## Box-Cox Transformation\n",
        "\n"
      ]
    },
    {
      "cell_type": "markdown",
      "metadata": {
        "id": "iSwZae9IohsK"
      },
      "source": [
        "##### The Box-Cox transformation is defined as: \n",
        "\n",
        "T(Y)=(Y exp(λ)−1)/λ\n",
        "\n",
        "where Y is the response variable and λ is the transformation parameter. λ varies from -5 to 5. In the transformation, all values of λ  are considered and the optimal value for a given variable is selected."
      ]
    },
    {
      "cell_type": "code",
      "metadata": {
        "id": "dJi7QfQ1lRBT"
      },
      "source": [
        "df['age_boxcox'],parameters=stat.boxcox(df['age'])"
      ],
      "execution_count": null,
      "outputs": []
    },
    {
      "cell_type": "code",
      "metadata": {
        "colab": {
          "base_uri": "https://localhost:8080/"
        },
        "id": "wjYs7YwMoyQN",
        "outputId": "b2c2315a-c89c-4b67-85cd-cec8eea96fd4"
      },
      "source": [
        "print(parameters)"
      ],
      "execution_count": null,
      "outputs": [
        {
          "output_type": "stream",
          "text": [
            "8.472135811722177\n"
          ],
          "name": "stdout"
        }
      ]
    },
    {
      "cell_type": "code",
      "metadata": {
        "colab": {
          "base_uri": "https://localhost:8080/",
          "height": 404
        },
        "id": "TdPTShs8oncO",
        "outputId": "4ac57ba9-59d3-4bc0-8c9c-bf44a8f2cd51"
      },
      "source": [
        "plot_data(df,'age_boxcox')"
      ],
      "execution_count": null,
      "outputs": [
        {
          "output_type": "display_data",
          "data": {
            "image/png": "[encoded data removed]",
            "text/plain": [
              "<Figure size 720x432 with 2 Axes>"
            ]
          },
          "metadata": {
            "tags": [],
            "needs_background": "light"
          }
        }
      ]
    },
    {
      "cell_type": "code",
      "metadata": {
        "colab": {
          "base_uri": "https://localhost:8080/",
          "height": 404
        },
        "id": "y1SVQwW6osz-",
        "outputId": "d9ecf31c-396d-4ed7-f182-ff9052bbc0b0"
      },
      "source": [
        "#### Fare\n",
        "df['Fare_log']=np.log1p(df['fare'])\n",
        "plot_data(df,'Fare_log')"
      ],
      "execution_count": null,
      "outputs": [
        {
          "output_type": "display_data",
          "data": {
            "image/png": "[encoded data removed]",
            "text/plain": [
              "<Figure size 720x432 with 2 Axes>"
            ]
          },
          "metadata": {
            "tags": [],
            "needs_background": "light"
          }
        }
      ]
    },
    {
      "cell_type": "code",
      "metadata": {
        "colab": {
          "base_uri": "https://localhost:8080/",
          "height": 404
        },
        "id": "ydEMVpMQqrSn",
        "outputId": "80cdffcf-6bfb-4646-aafa-93207c142e31"
      },
      "source": [
        "df['Fare_Boxcox'],parameters=stat.boxcox(df['fare']+1)\n",
        "plot_data(df,'Fare_Boxcox')"
      ],
      "execution_count": null,
      "outputs": [
        {
          "output_type": "display_data",
          "data": {
            "image/png": "[encoded data removed]",
            "text/plain": [
              "<Figure size 720x432 with 2 Axes>"
            ]
          },
          "metadata": {
            "tags": [],
            "needs_background": "light"
          }
        }
      ]
    },
    {
      "cell_type": "code",
      "metadata": {
        "id": "WemtvpZeqxV4"
      },
      "source": [
        ""
      ],
      "execution_count": null,
      "outputs": []
    }
  ]
}